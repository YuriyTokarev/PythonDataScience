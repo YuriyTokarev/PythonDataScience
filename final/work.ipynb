{
 "cells": [
  {
   "cell_type": "code",
   "execution_count": 1,
   "metadata": {
    "_cell_guid": "b1076dfc-b9ad-4769-8c92-a6c4dae69d19",
    "_uuid": "8f2839f25d086af736a60e9eeb907d3b93b6e0e5",
    "execution": {
     "iopub.execute_input": "2020-10-16T07:40:37.649729Z",
     "iopub.status.busy": "2020-10-16T07:40:37.648542Z",
     "iopub.status.idle": "2020-10-16T07:40:37.653895Z",
     "shell.execute_reply": "2020-10-16T07:40:37.654889Z"
    },
    "papermill": {
     "duration": 0.066604,
     "end_time": "2020-10-16T07:40:37.655181",
     "exception": false,
     "start_time": "2020-10-16T07:40:37.588577",
     "status": "completed"
    },
    "tags": []
   },
   "outputs": [
    {
     "name": "stdout",
     "output_type": "stream",
     "text": [
      "/kaggle/input/real-estate-price-prediction-moscow/train.csv\n",
      "/kaggle/input/real-estate-price-prediction-moscow/test.csv\n",
      "/kaggle/input/real-estate-price-prediction-moscow/sample_submission.csv\n"
     ]
    }
   ],
   "source": [
    "# This Python 3 environment comes with many helpful analytics libraries installed\n",
    "# It is defined by the kaggle/python Docker image: https://github.com/kaggle/docker-python\n",
    "# For example, here's several helpful packages to load\n",
    "\n",
    "import numpy as np # linear algebra\n",
    "import pandas as pd # data processing, CSV file I/O (e.g. pd.read_csv)\n",
    "\n",
    "# Input data files are available in the read-only \"../input/\" directory\n",
    "# For example, running this (by clicking run or pressing Shift+Enter) will list all files under the input directory\n",
    "\n",
    "import os\n",
    "for dirname, _, filenames in os.walk('/kaggle/input'):\n",
    "    for filename in filenames:\n",
    "        print(os.path.join(dirname, filename))\n",
    "\n",
    "# You can write up to 5GB to the current directory (/kaggle/working/) that gets preserved as output when you create a version using \"Save & Run All\" \n",
    "# You can also write temporary files to /kaggle/temp/, but they won't be saved outside of the current session"
   ]
  },
  {
   "cell_type": "markdown",
   "metadata": {
    "papermill": {
     "duration": 0.04756,
     "end_time": "2020-10-16T07:40:37.754298",
     "exception": false,
     "start_time": "2020-10-16T07:40:37.706738",
     "status": "completed"
    },
    "tags": []
   },
   "source": [
    "# Пояснение к курсовому проекту\n",
    "\n",
    "После беглого осмотра данных попробуем углубиться в предметную область (с рынком недвижимости так или иначе сталкивался почти каждый).\n",
    "\n",
    "Если смотреть различные анализы по рынку недвижимости, то на цену в первую очередь влияют метраж, район и класс жилья (бизнес, комфорт, эконом).\n",
    "\n",
    "На втором плане инфраструктура, ремонт и возраст. \n",
    "\n",
    "Что мы имеем в данных:\n",
    "\n",
    "* Метраж - дан в чистом виде.\n",
    "* Район - есть, но дан номер района, который не говорит ни о чем. А мы его преобразуем в любимый параметр всех застройщиков и покупателей: **средняя цена за квадрат** =)\n",
    "* Класс жилья - не дан даже близко, можно лишь попытаться выделить его по площади и году постройки, идею напишу ниже.\n",
    "* Ремонт - тут никаких вариантов его добавить я не вижу и отсутвие этих данных, ИМХО, главная проблема на пути построения идеальной модельки.\n",
    "* Инфрастурктура - присутсвуют в косвенном виде (Ecology, Social, Healthcare, Shops).\n",
    "* Возраст - у нас есть год постройки будем использовать его\n",
    "\n",
    "Первые пробы пера (простое обучение на голых данных с удалением пропусков) показали точность порядка 0.7, чтобы опуститься ниже 0.6 надо будет очень постараться =)\n",
    "\n",
    "На мой взгляд такой неплохой показатель связан с тем, что есть глубочайшая корреляция метража и стоимости квартиры, именно этот параметр все решает и дает 70% точности при обучении.\n",
    "\n",
    "Еще в фильтрах на сайтах недвижимости часто добавляют отдельный фильтр: *только не первый этаж* / *только не последний этаж*. Попробуем добавить и их.\n",
    "\n",
    "Но, я свои основные надежды, конечно, возлагаю на новую фичу - средняя цена за квадрат по району. Надеюсь она позволит улучшить результат.\n"
   ]
  },
  {
   "cell_type": "markdown",
   "metadata": {
    "papermill": {
     "duration": 0.04731,
     "end_time": "2020-10-16T07:40:37.849685",
     "exception": false,
     "start_time": "2020-10-16T07:40:37.802375",
     "status": "completed"
    },
    "tags": []
   },
   "source": [
    "Мне очень понравился состав проекта, который был во втором вебинаре, буду его придерживаться."
   ]
  },
  {
   "cell_type": "markdown",
   "metadata": {
    "papermill": {
     "duration": 0.049124,
     "end_time": "2020-10-16T07:40:37.946819",
     "exception": false,
     "start_time": "2020-10-16T07:40:37.897695",
     "status": "completed"
    },
    "tags": []
   },
   "source": [
    "# 1. Поставнока задачи\n",
    "\n",
    "Ваша задача этом соревновании - предсказать цены на квартиры в датасете test.csv. Вам будут даны два датасета: train.csv (содержит признаки и цены на квартиры) и test.csv (только признаки)."
   ]
  },
  {
   "cell_type": "markdown",
   "metadata": {
    "papermill": {
     "duration": 0.048322,
     "end_time": "2020-10-16T07:40:38.043511",
     "exception": false,
     "start_time": "2020-10-16T07:40:37.995189",
     "status": "completed"
    },
    "tags": []
   },
   "source": [
    "# 2. Получение данных\n",
    "\n",
    "Данные уже получены и выгружены в файлы."
   ]
  },
  {
   "cell_type": "markdown",
   "metadata": {
    "papermill": {
     "duration": 0.047438,
     "end_time": "2020-10-16T07:40:38.139011",
     "exception": false,
     "start_time": "2020-10-16T07:40:38.091573",
     "status": "completed"
    },
    "tags": []
   },
   "source": [
    "#### Подключение нужных библиотек и данных"
   ]
  },
  {
   "cell_type": "code",
   "execution_count": 2,
   "metadata": {
    "_cell_guid": "79c7e3d0-c299-4dcb-8224-4455121ee9b0",
    "_uuid": "d629ff2d2480ee46fbb7e2d37f6b5fab8052498a",
    "execution": {
     "iopub.execute_input": "2020-10-16T07:40:38.252885Z",
     "iopub.status.busy": "2020-10-16T07:40:38.247014Z",
     "iopub.status.idle": "2020-10-16T07:40:39.767122Z",
     "shell.execute_reply": "2020-10-16T07:40:39.766115Z"
    },
    "papermill": {
     "duration": 1.578576,
     "end_time": "2020-10-16T07:40:39.767285",
     "exception": false,
     "start_time": "2020-10-16T07:40:38.188709",
     "status": "completed"
    },
    "tags": []
   },
   "outputs": [],
   "source": [
    "import numpy as np\n",
    "import pandas as pd\n",
    "import random\n",
    "\n",
    "from sklearn.model_selection import train_test_split, cross_val_score\n",
    "from sklearn.preprocessing import StandardScaler, RobustScaler\n",
    "from sklearn.ensemble import RandomForestRegressor, GradientBoostingRegressor\n",
    "from sklearn.metrics import r2_score as r2\n",
    "from sklearn.model_selection import KFold, GridSearchCV\n",
    "\n",
    "from datetime import datetime\n",
    "\n",
    "import matplotlib\n",
    "import matplotlib.pyplot as plt\n",
    "import seaborn as sns\n",
    "%matplotlib inline\n",
    "import warnings\n",
    "warnings.filterwarnings('ignore')\n",
    "matplotlib.rcParams.update({'font.size': 14})"
   ]
  },
  {
   "cell_type": "markdown",
   "metadata": {
    "papermill": {
     "duration": 0.048454,
     "end_time": "2020-10-16T07:40:39.864488",
     "exception": false,
     "start_time": "2020-10-16T07:40:39.816034",
     "status": "completed"
    },
    "tags": []
   },
   "source": [
    "#### Читаем и смотрим на данные"
   ]
  },
  {
   "cell_type": "code",
   "execution_count": 3,
   "metadata": {
    "execution": {
     "iopub.execute_input": "2020-10-16T07:40:39.970654Z",
     "iopub.status.busy": "2020-10-16T07:40:39.969593Z",
     "iopub.status.idle": "2020-10-16T07:40:39.973061Z",
     "shell.execute_reply": "2020-10-16T07:40:39.972412Z"
    },
    "papermill": {
     "duration": 0.058403,
     "end_time": "2020-10-16T07:40:39.973231",
     "exception": false,
     "start_time": "2020-10-16T07:40:39.914828",
     "status": "completed"
    },
    "tags": []
   },
   "outputs": [],
   "source": [
    "TRAIN_DATASET_PATH = '/kaggle/input/real-estate-price-prediction-moscow/train.csv'\n",
    "TEST_DATASET_PATH = '/kaggle/input/real-estate-price-prediction-moscow/test.csv'"
   ]
  },
  {
   "cell_type": "code",
   "execution_count": 4,
   "metadata": {
    "execution": {
     "iopub.execute_input": "2020-10-16T07:40:40.081633Z",
     "iopub.status.busy": "2020-10-16T07:40:40.080777Z",
     "iopub.status.idle": "2020-10-16T07:40:40.180563Z",
     "shell.execute_reply": "2020-10-16T07:40:40.179648Z"
    },
    "papermill": {
     "duration": 0.158883,
     "end_time": "2020-10-16T07:40:40.180728",
     "exception": false,
     "start_time": "2020-10-16T07:40:40.021845",
     "status": "completed"
    },
    "tags": []
   },
   "outputs": [],
   "source": [
    "train_df = pd.read_csv(TRAIN_DATASET_PATH)\n",
    "test_df = pd.read_csv(TEST_DATASET_PATH)"
   ]
  },
  {
   "cell_type": "code",
   "execution_count": 5,
   "metadata": {
    "execution": {
     "iopub.execute_input": "2020-10-16T07:40:40.293028Z",
     "iopub.status.busy": "2020-10-16T07:40:40.290616Z",
     "iopub.status.idle": "2020-10-16T07:40:40.327583Z",
     "shell.execute_reply": "2020-10-16T07:40:40.326792Z"
    },
    "papermill": {
     "duration": 0.098124,
     "end_time": "2020-10-16T07:40:40.327726",
     "exception": false,
     "start_time": "2020-10-16T07:40:40.229602",
     "status": "completed"
    },
    "tags": []
   },
   "outputs": [
    {
     "data": {
      "text/html": [
       "<div>\n",
       "<style scoped>\n",
       "    .dataframe tbody tr th:only-of-type {\n",
       "        vertical-align: middle;\n",
       "    }\n",
       "\n",
       "    .dataframe tbody tr th {\n",
       "        vertical-align: top;\n",
       "    }\n",
       "\n",
       "    .dataframe thead th {\n",
       "        text-align: right;\n",
       "    }\n",
       "</style>\n",
       "<table border=\"1\" class=\"dataframe\">\n",
       "  <thead>\n",
       "    <tr style=\"text-align: right;\">\n",
       "      <th></th>\n",
       "      <th>Id</th>\n",
       "      <th>DistrictId</th>\n",
       "      <th>Rooms</th>\n",
       "      <th>Square</th>\n",
       "      <th>LifeSquare</th>\n",
       "      <th>KitchenSquare</th>\n",
       "      <th>Floor</th>\n",
       "      <th>HouseFloor</th>\n",
       "      <th>HouseYear</th>\n",
       "      <th>Ecology_1</th>\n",
       "      <th>Ecology_2</th>\n",
       "      <th>Ecology_3</th>\n",
       "      <th>Social_1</th>\n",
       "      <th>Social_2</th>\n",
       "      <th>Social_3</th>\n",
       "      <th>Healthcare_1</th>\n",
       "      <th>Helthcare_2</th>\n",
       "      <th>Shops_1</th>\n",
       "      <th>Shops_2</th>\n",
       "      <th>Price</th>\n",
       "    </tr>\n",
       "  </thead>\n",
       "  <tbody>\n",
       "    <tr>\n",
       "      <th>9995</th>\n",
       "      <td>1260</td>\n",
       "      <td>61</td>\n",
       "      <td>2.0</td>\n",
       "      <td>49.090728</td>\n",
       "      <td>33.272626</td>\n",
       "      <td>6.0</td>\n",
       "      <td>3</td>\n",
       "      <td>12.0</td>\n",
       "      <td>1981</td>\n",
       "      <td>0.300323</td>\n",
       "      <td>B</td>\n",
       "      <td>B</td>\n",
       "      <td>52</td>\n",
       "      <td>10311</td>\n",
       "      <td>6</td>\n",
       "      <td>NaN</td>\n",
       "      <td>1</td>\n",
       "      <td>9</td>\n",
       "      <td>B</td>\n",
       "      <td>119367.455796</td>\n",
       "    </tr>\n",
       "    <tr>\n",
       "      <th>9996</th>\n",
       "      <td>16265</td>\n",
       "      <td>27</td>\n",
       "      <td>2.0</td>\n",
       "      <td>64.307684</td>\n",
       "      <td>37.038420</td>\n",
       "      <td>9.0</td>\n",
       "      <td>13</td>\n",
       "      <td>0.0</td>\n",
       "      <td>1977</td>\n",
       "      <td>0.072158</td>\n",
       "      <td>B</td>\n",
       "      <td>B</td>\n",
       "      <td>2</td>\n",
       "      <td>629</td>\n",
       "      <td>1</td>\n",
       "      <td>NaN</td>\n",
       "      <td>0</td>\n",
       "      <td>0</td>\n",
       "      <td>A</td>\n",
       "      <td>199715.148807</td>\n",
       "    </tr>\n",
       "    <tr>\n",
       "      <th>9997</th>\n",
       "      <td>2795</td>\n",
       "      <td>178</td>\n",
       "      <td>1.0</td>\n",
       "      <td>29.648057</td>\n",
       "      <td>16.555363</td>\n",
       "      <td>5.0</td>\n",
       "      <td>3</td>\n",
       "      <td>5.0</td>\n",
       "      <td>1958</td>\n",
       "      <td>0.460556</td>\n",
       "      <td>B</td>\n",
       "      <td>B</td>\n",
       "      <td>20</td>\n",
       "      <td>4386</td>\n",
       "      <td>14</td>\n",
       "      <td>NaN</td>\n",
       "      <td>1</td>\n",
       "      <td>5</td>\n",
       "      <td>B</td>\n",
       "      <td>165953.912580</td>\n",
       "    </tr>\n",
       "    <tr>\n",
       "      <th>9998</th>\n",
       "      <td>14561</td>\n",
       "      <td>21</td>\n",
       "      <td>1.0</td>\n",
       "      <td>32.330292</td>\n",
       "      <td>22.326870</td>\n",
       "      <td>5.0</td>\n",
       "      <td>3</td>\n",
       "      <td>9.0</td>\n",
       "      <td>1969</td>\n",
       "      <td>0.194489</td>\n",
       "      <td>B</td>\n",
       "      <td>B</td>\n",
       "      <td>47</td>\n",
       "      <td>8004</td>\n",
       "      <td>3</td>\n",
       "      <td>125.0</td>\n",
       "      <td>3</td>\n",
       "      <td>5</td>\n",
       "      <td>B</td>\n",
       "      <td>171842.411855</td>\n",
       "    </tr>\n",
       "    <tr>\n",
       "      <th>9999</th>\n",
       "      <td>7202</td>\n",
       "      <td>94</td>\n",
       "      <td>1.0</td>\n",
       "      <td>35.815476</td>\n",
       "      <td>22.301367</td>\n",
       "      <td>6.0</td>\n",
       "      <td>9</td>\n",
       "      <td>9.0</td>\n",
       "      <td>1975</td>\n",
       "      <td>0.127376</td>\n",
       "      <td>B</td>\n",
       "      <td>B</td>\n",
       "      <td>43</td>\n",
       "      <td>8429</td>\n",
       "      <td>3</td>\n",
       "      <td>NaN</td>\n",
       "      <td>3</td>\n",
       "      <td>9</td>\n",
       "      <td>B</td>\n",
       "      <td>177685.627486</td>\n",
       "    </tr>\n",
       "  </tbody>\n",
       "</table>\n",
       "</div>"
      ],
      "text/plain": [
       "         Id  DistrictId  Rooms     Square  LifeSquare  KitchenSquare  Floor  \\\n",
       "9995   1260          61    2.0  49.090728   33.272626            6.0      3   \n",
       "9996  16265          27    2.0  64.307684   37.038420            9.0     13   \n",
       "9997   2795         178    1.0  29.648057   16.555363            5.0      3   \n",
       "9998  14561          21    1.0  32.330292   22.326870            5.0      3   \n",
       "9999   7202          94    1.0  35.815476   22.301367            6.0      9   \n",
       "\n",
       "      HouseFloor  HouseYear  Ecology_1 Ecology_2 Ecology_3  Social_1  \\\n",
       "9995        12.0       1981   0.300323         B         B        52   \n",
       "9996         0.0       1977   0.072158         B         B         2   \n",
       "9997         5.0       1958   0.460556         B         B        20   \n",
       "9998         9.0       1969   0.194489         B         B        47   \n",
       "9999         9.0       1975   0.127376         B         B        43   \n",
       "\n",
       "      Social_2  Social_3  Healthcare_1  Helthcare_2  Shops_1 Shops_2  \\\n",
       "9995     10311         6           NaN            1        9       B   \n",
       "9996       629         1           NaN            0        0       A   \n",
       "9997      4386        14           NaN            1        5       B   \n",
       "9998      8004         3         125.0            3        5       B   \n",
       "9999      8429         3           NaN            3        9       B   \n",
       "\n",
       "              Price  \n",
       "9995  119367.455796  \n",
       "9996  199715.148807  \n",
       "9997  165953.912580  \n",
       "9998  171842.411855  \n",
       "9999  177685.627486  "
      ]
     },
     "execution_count": 5,
     "metadata": {},
     "output_type": "execute_result"
    }
   ],
   "source": [
    "train_df.tail()"
   ]
  },
  {
   "cell_type": "code",
   "execution_count": 6,
   "metadata": {
    "execution": {
     "iopub.execute_input": "2020-10-16T07:40:40.457126Z",
     "iopub.status.busy": "2020-10-16T07:40:40.455940Z",
     "iopub.status.idle": "2020-10-16T07:40:40.461665Z",
     "shell.execute_reply": "2020-10-16T07:40:40.460834Z"
    },
    "papermill": {
     "duration": 0.083516,
     "end_time": "2020-10-16T07:40:40.461822",
     "exception": false,
     "start_time": "2020-10-16T07:40:40.378306",
     "status": "completed"
    },
    "tags": []
   },
   "outputs": [
    {
     "data": {
      "text/html": [
       "<div>\n",
       "<style scoped>\n",
       "    .dataframe tbody tr th:only-of-type {\n",
       "        vertical-align: middle;\n",
       "    }\n",
       "\n",
       "    .dataframe tbody tr th {\n",
       "        vertical-align: top;\n",
       "    }\n",
       "\n",
       "    .dataframe thead th {\n",
       "        text-align: right;\n",
       "    }\n",
       "</style>\n",
       "<table border=\"1\" class=\"dataframe\">\n",
       "  <thead>\n",
       "    <tr style=\"text-align: right;\">\n",
       "      <th></th>\n",
       "      <th>Id</th>\n",
       "      <th>DistrictId</th>\n",
       "      <th>Rooms</th>\n",
       "      <th>Square</th>\n",
       "      <th>LifeSquare</th>\n",
       "      <th>KitchenSquare</th>\n",
       "      <th>Floor</th>\n",
       "      <th>HouseFloor</th>\n",
       "      <th>HouseYear</th>\n",
       "      <th>Ecology_1</th>\n",
       "      <th>Ecology_2</th>\n",
       "      <th>Ecology_3</th>\n",
       "      <th>Social_1</th>\n",
       "      <th>Social_2</th>\n",
       "      <th>Social_3</th>\n",
       "      <th>Healthcare_1</th>\n",
       "      <th>Helthcare_2</th>\n",
       "      <th>Shops_1</th>\n",
       "      <th>Shops_2</th>\n",
       "    </tr>\n",
       "  </thead>\n",
       "  <tbody>\n",
       "    <tr>\n",
       "      <th>4995</th>\n",
       "      <td>10379</td>\n",
       "      <td>29</td>\n",
       "      <td>2.0</td>\n",
       "      <td>43.177521</td>\n",
       "      <td>30.339945</td>\n",
       "      <td>5.0</td>\n",
       "      <td>6</td>\n",
       "      <td>5.0</td>\n",
       "      <td>1962</td>\n",
       "      <td>0.069660</td>\n",
       "      <td>B</td>\n",
       "      <td>B</td>\n",
       "      <td>31</td>\n",
       "      <td>6119</td>\n",
       "      <td>4</td>\n",
       "      <td>NaN</td>\n",
       "      <td>1</td>\n",
       "      <td>2</td>\n",
       "      <td>B</td>\n",
       "    </tr>\n",
       "    <tr>\n",
       "      <th>4996</th>\n",
       "      <td>16138</td>\n",
       "      <td>38</td>\n",
       "      <td>3.0</td>\n",
       "      <td>93.698122</td>\n",
       "      <td>94.521465</td>\n",
       "      <td>10.0</td>\n",
       "      <td>21</td>\n",
       "      <td>27.0</td>\n",
       "      <td>2018</td>\n",
       "      <td>0.060753</td>\n",
       "      <td>B</td>\n",
       "      <td>B</td>\n",
       "      <td>15</td>\n",
       "      <td>2787</td>\n",
       "      <td>2</td>\n",
       "      <td>520.0</td>\n",
       "      <td>0</td>\n",
       "      <td>7</td>\n",
       "      <td>B</td>\n",
       "    </tr>\n",
       "    <tr>\n",
       "      <th>4997</th>\n",
       "      <td>3912</td>\n",
       "      <td>101</td>\n",
       "      <td>1.0</td>\n",
       "      <td>33.656723</td>\n",
       "      <td>19.003259</td>\n",
       "      <td>5.0</td>\n",
       "      <td>2</td>\n",
       "      <td>5.0</td>\n",
       "      <td>1966</td>\n",
       "      <td>0.038693</td>\n",
       "      <td>B</td>\n",
       "      <td>B</td>\n",
       "      <td>28</td>\n",
       "      <td>6533</td>\n",
       "      <td>1</td>\n",
       "      <td>1015.0</td>\n",
       "      <td>2</td>\n",
       "      <td>5</td>\n",
       "      <td>B</td>\n",
       "    </tr>\n",
       "    <tr>\n",
       "      <th>4998</th>\n",
       "      <td>5722</td>\n",
       "      <td>10</td>\n",
       "      <td>1.0</td>\n",
       "      <td>38.635155</td>\n",
       "      <td>20.976257</td>\n",
       "      <td>9.0</td>\n",
       "      <td>8</td>\n",
       "      <td>14.0</td>\n",
       "      <td>1970</td>\n",
       "      <td>0.089040</td>\n",
       "      <td>B</td>\n",
       "      <td>B</td>\n",
       "      <td>33</td>\n",
       "      <td>7976</td>\n",
       "      <td>5</td>\n",
       "      <td>NaN</td>\n",
       "      <td>0</td>\n",
       "      <td>11</td>\n",
       "      <td>B</td>\n",
       "    </tr>\n",
       "    <tr>\n",
       "      <th>4999</th>\n",
       "      <td>11004</td>\n",
       "      <td>21</td>\n",
       "      <td>2.0</td>\n",
       "      <td>67.122742</td>\n",
       "      <td>33.944344</td>\n",
       "      <td>13.0</td>\n",
       "      <td>9</td>\n",
       "      <td>17.0</td>\n",
       "      <td>2009</td>\n",
       "      <td>0.194489</td>\n",
       "      <td>B</td>\n",
       "      <td>B</td>\n",
       "      <td>47</td>\n",
       "      <td>8004</td>\n",
       "      <td>3</td>\n",
       "      <td>125.0</td>\n",
       "      <td>3</td>\n",
       "      <td>5</td>\n",
       "      <td>B</td>\n",
       "    </tr>\n",
       "  </tbody>\n",
       "</table>\n",
       "</div>"
      ],
      "text/plain": [
       "         Id  DistrictId  Rooms     Square  LifeSquare  KitchenSquare  Floor  \\\n",
       "4995  10379          29    2.0  43.177521   30.339945            5.0      6   \n",
       "4996  16138          38    3.0  93.698122   94.521465           10.0     21   \n",
       "4997   3912         101    1.0  33.656723   19.003259            5.0      2   \n",
       "4998   5722          10    1.0  38.635155   20.976257            9.0      8   \n",
       "4999  11004          21    2.0  67.122742   33.944344           13.0      9   \n",
       "\n",
       "      HouseFloor  HouseYear  Ecology_1 Ecology_2 Ecology_3  Social_1  \\\n",
       "4995         5.0       1962   0.069660         B         B        31   \n",
       "4996        27.0       2018   0.060753         B         B        15   \n",
       "4997         5.0       1966   0.038693         B         B        28   \n",
       "4998        14.0       1970   0.089040         B         B        33   \n",
       "4999        17.0       2009   0.194489         B         B        47   \n",
       "\n",
       "      Social_2  Social_3  Healthcare_1  Helthcare_2  Shops_1 Shops_2  \n",
       "4995      6119         4           NaN            1        2       B  \n",
       "4996      2787         2         520.0            0        7       B  \n",
       "4997      6533         1        1015.0            2        5       B  \n",
       "4998      7976         5           NaN            0       11       B  \n",
       "4999      8004         3         125.0            3        5       B  "
      ]
     },
     "execution_count": 6,
     "metadata": {},
     "output_type": "execute_result"
    }
   ],
   "source": [
    "test_df.tail()"
   ]
  },
  {
   "cell_type": "code",
   "execution_count": 7,
   "metadata": {
    "execution": {
     "iopub.execute_input": "2020-10-16T07:40:40.574320Z",
     "iopub.status.busy": "2020-10-16T07:40:40.573151Z",
     "iopub.status.idle": "2020-10-16T07:40:40.576922Z",
     "shell.execute_reply": "2020-10-16T07:40:40.577546Z"
    },
    "papermill": {
     "duration": 0.064467,
     "end_time": "2020-10-16T07:40:40.577728",
     "exception": false,
     "start_time": "2020-10-16T07:40:40.513261",
     "status": "completed"
    },
    "tags": []
   },
   "outputs": [
    {
     "data": {
      "text/plain": [
       "Id                 int64\n",
       "DistrictId         int64\n",
       "Rooms            float64\n",
       "Square           float64\n",
       "LifeSquare       float64\n",
       "KitchenSquare    float64\n",
       "Floor              int64\n",
       "HouseFloor       float64\n",
       "HouseYear          int64\n",
       "Ecology_1        float64\n",
       "Ecology_2         object\n",
       "Ecology_3         object\n",
       "Social_1           int64\n",
       "Social_2           int64\n",
       "Social_3           int64\n",
       "Healthcare_1     float64\n",
       "Helthcare_2        int64\n",
       "Shops_1            int64\n",
       "Shops_2           object\n",
       "Price            float64\n",
       "dtype: object"
      ]
     },
     "execution_count": 7,
     "metadata": {},
     "output_type": "execute_result"
    }
   ],
   "source": [
    "train_df.dtypes"
   ]
  },
  {
   "cell_type": "code",
   "execution_count": 8,
   "metadata": {
    "execution": {
     "iopub.execute_input": "2020-10-16T07:40:40.691090Z",
     "iopub.status.busy": "2020-10-16T07:40:40.690059Z",
     "iopub.status.idle": "2020-10-16T07:40:40.694871Z",
     "shell.execute_reply": "2020-10-16T07:40:40.694245Z"
    },
    "papermill": {
     "duration": 0.065749,
     "end_time": "2020-10-16T07:40:40.695025",
     "exception": false,
     "start_time": "2020-10-16T07:40:40.629276",
     "status": "completed"
    },
    "tags": []
   },
   "outputs": [
    {
     "data": {
      "text/plain": [
       "Id                 int64\n",
       "DistrictId         int64\n",
       "Rooms            float64\n",
       "Square           float64\n",
       "LifeSquare       float64\n",
       "KitchenSquare    float64\n",
       "Floor              int64\n",
       "HouseFloor       float64\n",
       "HouseYear          int64\n",
       "Ecology_1        float64\n",
       "Ecology_2         object\n",
       "Ecology_3         object\n",
       "Social_1           int64\n",
       "Social_2           int64\n",
       "Social_3           int64\n",
       "Healthcare_1     float64\n",
       "Helthcare_2        int64\n",
       "Shops_1            int64\n",
       "Shops_2           object\n",
       "dtype: object"
      ]
     },
     "execution_count": 8,
     "metadata": {},
     "output_type": "execute_result"
    }
   ],
   "source": [
    "test_df.dtypes"
   ]
  },
  {
   "cell_type": "code",
   "execution_count": 9,
   "metadata": {
    "execution": {
     "iopub.execute_input": "2020-10-16T07:40:40.806754Z",
     "iopub.status.busy": "2020-10-16T07:40:40.805711Z",
     "iopub.status.idle": "2020-10-16T07:40:40.809367Z",
     "shell.execute_reply": "2020-10-16T07:40:40.810149Z"
    },
    "papermill": {
     "duration": 0.063361,
     "end_time": "2020-10-16T07:40:40.810366",
     "exception": false,
     "start_time": "2020-10-16T07:40:40.747005",
     "status": "completed"
    },
    "tags": []
   },
   "outputs": [
    {
     "name": "stdout",
     "output_type": "stream",
     "text": [
      "Строк в трейне: 10000\n",
      "Строк в тесте 5000\n"
     ]
    }
   ],
   "source": [
    "print('Строк в трейне:', train_df.shape[0])\n",
    "print('Строк в тесте', test_df.shape[0])"
   ]
  },
  {
   "cell_type": "markdown",
   "metadata": {
    "papermill": {
     "duration": 0.063247,
     "end_time": "2020-10-16T07:40:40.927605",
     "exception": false,
     "start_time": "2020-10-16T07:40:40.864358",
     "status": "completed"
    },
    "tags": []
   },
   "source": [
    "Описание датасета\n",
    "\n",
    "* Id - идентификационный номер квартиры\n",
    "* DistrictId - идентификационный номер района\n",
    "* Rooms - количество комнат\n",
    "* Square - площадь\n",
    "* LifeSquare - жилая площадь\n",
    "* KitchenSquare - площадь кухни\n",
    "* Floor - этаж\n",
    "* HouseFloor - количество этажей в доме\n",
    "* HouseYear - год постройки дома\n",
    "* Ecology_1, Ecology_2, Ecology_3 - экологические показатели местности\n",
    "* Social_1, Social_2, Social_3 - социальные показатели местности\n",
    "* Healthcare_1, Helthcare_2 - показатели местности, связанные с охраной здоровья\n",
    "* Shops_1, Shops_2 - показатели, связанные с наличием магазинов, торговых центров\n",
    "* Price - цена квартиры\n"
   ]
  },
  {
   "cell_type": "markdown",
   "metadata": {
    "papermill": {
     "duration": 0.063989,
     "end_time": "2020-10-16T07:40:41.054216",
     "exception": false,
     "start_time": "2020-10-16T07:40:40.990227",
     "status": "completed"
    },
    "tags": []
   },
   "source": [
    "# 3. Анализ данных"
   ]
  },
  {
   "cell_type": "code",
   "execution_count": 10,
   "metadata": {
    "execution": {
     "iopub.execute_input": "2020-10-16T07:40:41.175575Z",
     "iopub.status.busy": "2020-10-16T07:40:41.174759Z",
     "iopub.status.idle": "2020-10-16T07:40:41.254101Z",
     "shell.execute_reply": "2020-10-16T07:40:41.254690Z"
    },
    "papermill": {
     "duration": 0.145797,
     "end_time": "2020-10-16T07:40:41.254895",
     "exception": false,
     "start_time": "2020-10-16T07:40:41.109098",
     "status": "completed"
    },
    "tags": []
   },
   "outputs": [
    {
     "data": {
      "text/html": [
       "<div>\n",
       "<style scoped>\n",
       "    .dataframe tbody tr th:only-of-type {\n",
       "        vertical-align: middle;\n",
       "    }\n",
       "\n",
       "    .dataframe tbody tr th {\n",
       "        vertical-align: top;\n",
       "    }\n",
       "\n",
       "    .dataframe thead th {\n",
       "        text-align: right;\n",
       "    }\n",
       "</style>\n",
       "<table border=\"1\" class=\"dataframe\">\n",
       "  <thead>\n",
       "    <tr style=\"text-align: right;\">\n",
       "      <th></th>\n",
       "      <th>Id</th>\n",
       "      <th>DistrictId</th>\n",
       "      <th>Rooms</th>\n",
       "      <th>Square</th>\n",
       "      <th>LifeSquare</th>\n",
       "      <th>KitchenSquare</th>\n",
       "      <th>Floor</th>\n",
       "      <th>HouseFloor</th>\n",
       "      <th>HouseYear</th>\n",
       "      <th>Ecology_1</th>\n",
       "      <th>Social_1</th>\n",
       "      <th>Social_2</th>\n",
       "      <th>Social_3</th>\n",
       "      <th>Healthcare_1</th>\n",
       "      <th>Helthcare_2</th>\n",
       "      <th>Shops_1</th>\n",
       "      <th>Price</th>\n",
       "    </tr>\n",
       "  </thead>\n",
       "  <tbody>\n",
       "    <tr>\n",
       "      <th>count</th>\n",
       "      <td>10000.00000</td>\n",
       "      <td>10000.000000</td>\n",
       "      <td>10000.000000</td>\n",
       "      <td>10000.000000</td>\n",
       "      <td>7887.000000</td>\n",
       "      <td>10000.000000</td>\n",
       "      <td>10000.000000</td>\n",
       "      <td>10000.000000</td>\n",
       "      <td>1.000000e+04</td>\n",
       "      <td>10000.000000</td>\n",
       "      <td>10000.000000</td>\n",
       "      <td>10000.000000</td>\n",
       "      <td>10000.000000</td>\n",
       "      <td>5202.000000</td>\n",
       "      <td>10000.000000</td>\n",
       "      <td>10000.000000</td>\n",
       "      <td>10000.000000</td>\n",
       "    </tr>\n",
       "    <tr>\n",
       "      <th>mean</th>\n",
       "      <td>8383.40770</td>\n",
       "      <td>50.400800</td>\n",
       "      <td>1.890500</td>\n",
       "      <td>56.315775</td>\n",
       "      <td>37.199645</td>\n",
       "      <td>6.273300</td>\n",
       "      <td>8.526700</td>\n",
       "      <td>12.609400</td>\n",
       "      <td>3.990166e+03</td>\n",
       "      <td>0.118858</td>\n",
       "      <td>24.687000</td>\n",
       "      <td>5352.157400</td>\n",
       "      <td>8.039200</td>\n",
       "      <td>1142.904460</td>\n",
       "      <td>1.319500</td>\n",
       "      <td>4.231300</td>\n",
       "      <td>214138.857399</td>\n",
       "    </tr>\n",
       "    <tr>\n",
       "      <th>std</th>\n",
       "      <td>4859.01902</td>\n",
       "      <td>43.587592</td>\n",
       "      <td>0.839512</td>\n",
       "      <td>21.058732</td>\n",
       "      <td>86.241209</td>\n",
       "      <td>28.560917</td>\n",
       "      <td>5.241148</td>\n",
       "      <td>6.775974</td>\n",
       "      <td>2.005003e+05</td>\n",
       "      <td>0.119025</td>\n",
       "      <td>17.532614</td>\n",
       "      <td>4006.799803</td>\n",
       "      <td>23.831875</td>\n",
       "      <td>1021.517264</td>\n",
       "      <td>1.493601</td>\n",
       "      <td>4.806341</td>\n",
       "      <td>92872.293865</td>\n",
       "    </tr>\n",
       "    <tr>\n",
       "      <th>min</th>\n",
       "      <td>0.00000</td>\n",
       "      <td>0.000000</td>\n",
       "      <td>0.000000</td>\n",
       "      <td>1.136859</td>\n",
       "      <td>0.370619</td>\n",
       "      <td>0.000000</td>\n",
       "      <td>1.000000</td>\n",
       "      <td>0.000000</td>\n",
       "      <td>1.910000e+03</td>\n",
       "      <td>0.000000</td>\n",
       "      <td>0.000000</td>\n",
       "      <td>168.000000</td>\n",
       "      <td>0.000000</td>\n",
       "      <td>0.000000</td>\n",
       "      <td>0.000000</td>\n",
       "      <td>0.000000</td>\n",
       "      <td>59174.778028</td>\n",
       "    </tr>\n",
       "    <tr>\n",
       "      <th>25%</th>\n",
       "      <td>4169.50000</td>\n",
       "      <td>20.000000</td>\n",
       "      <td>1.000000</td>\n",
       "      <td>41.774881</td>\n",
       "      <td>22.769832</td>\n",
       "      <td>1.000000</td>\n",
       "      <td>4.000000</td>\n",
       "      <td>9.000000</td>\n",
       "      <td>1.974000e+03</td>\n",
       "      <td>0.017647</td>\n",
       "      <td>6.000000</td>\n",
       "      <td>1564.000000</td>\n",
       "      <td>0.000000</td>\n",
       "      <td>350.000000</td>\n",
       "      <td>0.000000</td>\n",
       "      <td>1.000000</td>\n",
       "      <td>153872.633942</td>\n",
       "    </tr>\n",
       "    <tr>\n",
       "      <th>50%</th>\n",
       "      <td>8394.50000</td>\n",
       "      <td>36.000000</td>\n",
       "      <td>2.000000</td>\n",
       "      <td>52.513310</td>\n",
       "      <td>32.781260</td>\n",
       "      <td>6.000000</td>\n",
       "      <td>7.000000</td>\n",
       "      <td>13.000000</td>\n",
       "      <td>1.977000e+03</td>\n",
       "      <td>0.075424</td>\n",
       "      <td>25.000000</td>\n",
       "      <td>5285.000000</td>\n",
       "      <td>2.000000</td>\n",
       "      <td>900.000000</td>\n",
       "      <td>1.000000</td>\n",
       "      <td>3.000000</td>\n",
       "      <td>192269.644879</td>\n",
       "    </tr>\n",
       "    <tr>\n",
       "      <th>75%</th>\n",
       "      <td>12592.50000</td>\n",
       "      <td>75.000000</td>\n",
       "      <td>2.000000</td>\n",
       "      <td>65.900625</td>\n",
       "      <td>45.128803</td>\n",
       "      <td>9.000000</td>\n",
       "      <td>12.000000</td>\n",
       "      <td>17.000000</td>\n",
       "      <td>2.001000e+03</td>\n",
       "      <td>0.195781</td>\n",
       "      <td>36.000000</td>\n",
       "      <td>7227.000000</td>\n",
       "      <td>5.000000</td>\n",
       "      <td>1548.000000</td>\n",
       "      <td>2.000000</td>\n",
       "      <td>6.000000</td>\n",
       "      <td>249135.462171</td>\n",
       "    </tr>\n",
       "    <tr>\n",
       "      <th>max</th>\n",
       "      <td>16798.00000</td>\n",
       "      <td>209.000000</td>\n",
       "      <td>19.000000</td>\n",
       "      <td>641.065193</td>\n",
       "      <td>7480.592129</td>\n",
       "      <td>2014.000000</td>\n",
       "      <td>42.000000</td>\n",
       "      <td>117.000000</td>\n",
       "      <td>2.005201e+07</td>\n",
       "      <td>0.521867</td>\n",
       "      <td>74.000000</td>\n",
       "      <td>19083.000000</td>\n",
       "      <td>141.000000</td>\n",
       "      <td>4849.000000</td>\n",
       "      <td>6.000000</td>\n",
       "      <td>23.000000</td>\n",
       "      <td>633233.466570</td>\n",
       "    </tr>\n",
       "  </tbody>\n",
       "</table>\n",
       "</div>"
      ],
      "text/plain": [
       "                Id    DistrictId         Rooms        Square   LifeSquare  \\\n",
       "count  10000.00000  10000.000000  10000.000000  10000.000000  7887.000000   \n",
       "mean    8383.40770     50.400800      1.890500     56.315775    37.199645   \n",
       "std     4859.01902     43.587592      0.839512     21.058732    86.241209   \n",
       "min        0.00000      0.000000      0.000000      1.136859     0.370619   \n",
       "25%     4169.50000     20.000000      1.000000     41.774881    22.769832   \n",
       "50%     8394.50000     36.000000      2.000000     52.513310    32.781260   \n",
       "75%    12592.50000     75.000000      2.000000     65.900625    45.128803   \n",
       "max    16798.00000    209.000000     19.000000    641.065193  7480.592129   \n",
       "\n",
       "       KitchenSquare         Floor    HouseFloor     HouseYear     Ecology_1  \\\n",
       "count   10000.000000  10000.000000  10000.000000  1.000000e+04  10000.000000   \n",
       "mean        6.273300      8.526700     12.609400  3.990166e+03      0.118858   \n",
       "std        28.560917      5.241148      6.775974  2.005003e+05      0.119025   \n",
       "min         0.000000      1.000000      0.000000  1.910000e+03      0.000000   \n",
       "25%         1.000000      4.000000      9.000000  1.974000e+03      0.017647   \n",
       "50%         6.000000      7.000000     13.000000  1.977000e+03      0.075424   \n",
       "75%         9.000000     12.000000     17.000000  2.001000e+03      0.195781   \n",
       "max      2014.000000     42.000000    117.000000  2.005201e+07      0.521867   \n",
       "\n",
       "           Social_1      Social_2      Social_3  Healthcare_1   Helthcare_2  \\\n",
       "count  10000.000000  10000.000000  10000.000000   5202.000000  10000.000000   \n",
       "mean      24.687000   5352.157400      8.039200   1142.904460      1.319500   \n",
       "std       17.532614   4006.799803     23.831875   1021.517264      1.493601   \n",
       "min        0.000000    168.000000      0.000000      0.000000      0.000000   \n",
       "25%        6.000000   1564.000000      0.000000    350.000000      0.000000   \n",
       "50%       25.000000   5285.000000      2.000000    900.000000      1.000000   \n",
       "75%       36.000000   7227.000000      5.000000   1548.000000      2.000000   \n",
       "max       74.000000  19083.000000    141.000000   4849.000000      6.000000   \n",
       "\n",
       "            Shops_1          Price  \n",
       "count  10000.000000   10000.000000  \n",
       "mean       4.231300  214138.857399  \n",
       "std        4.806341   92872.293865  \n",
       "min        0.000000   59174.778028  \n",
       "25%        1.000000  153872.633942  \n",
       "50%        3.000000  192269.644879  \n",
       "75%        6.000000  249135.462171  \n",
       "max       23.000000  633233.466570  "
      ]
     },
     "execution_count": 10,
     "metadata": {},
     "output_type": "execute_result"
    }
   ],
   "source": [
    "train_df.describe()"
   ]
  },
  {
   "cell_type": "code",
   "execution_count": 11,
   "metadata": {
    "execution": {
     "iopub.execute_input": "2020-10-16T07:40:41.374273Z",
     "iopub.status.busy": "2020-10-16T07:40:41.373464Z",
     "iopub.status.idle": "2020-10-16T07:40:41.382671Z",
     "shell.execute_reply": "2020-10-16T07:40:41.381956Z"
    },
    "papermill": {
     "duration": 0.073788,
     "end_time": "2020-10-16T07:40:41.382813",
     "exception": false,
     "start_time": "2020-10-16T07:40:41.309025",
     "status": "completed"
    },
    "tags": []
   },
   "outputs": [
    {
     "data": {
      "text/plain": [
       "Id                  0\n",
       "DistrictId          0\n",
       "Rooms               0\n",
       "Square              0\n",
       "LifeSquare       2113\n",
       "KitchenSquare       0\n",
       "Floor               0\n",
       "HouseFloor          0\n",
       "HouseYear           0\n",
       "Ecology_1           0\n",
       "Ecology_2           0\n",
       "Ecology_3           0\n",
       "Social_1            0\n",
       "Social_2            0\n",
       "Social_3            0\n",
       "Healthcare_1     4798\n",
       "Helthcare_2         0\n",
       "Shops_1             0\n",
       "Shops_2             0\n",
       "Price               0\n",
       "dtype: int64"
      ]
     },
     "execution_count": 11,
     "metadata": {},
     "output_type": "execute_result"
    }
   ],
   "source": [
    "train_df.isna().sum()"
   ]
  },
  {
   "cell_type": "markdown",
   "metadata": {
    "papermill": {
     "duration": 0.053576,
     "end_time": "2020-10-16T07:40:41.491051",
     "exception": false,
     "start_time": "2020-10-16T07:40:41.437475",
     "status": "completed"
    },
    "tags": []
   },
   "source": [
    "По первому взгяду на данные, мы видим что:\n",
    "\n",
    "#### DistrictId \n",
    "есть нулевые дистрикты (возможно пропуски), признак категориальный использовать для обучения не будем, вместо него надо сгенерировать новый.\n",
    "#### Rooms \n",
    "есть нулевые значения (пропуски), есть выбросы.\n",
    "\n",
    "Заменим выбросы и нулевые значения на расчет количества комнат по площади.\n",
    "\n",
    "Рассчитывать будем так: если площадь меньше 30 - однущка, в остальных случаях из площади вычтем 15 метров (кухня + санузлы) и поделим на 15 (площадь одной комнаты).\n",
    "\n",
    "т.е.: *ceil((square-15) / 15)*\n",
    "\n",
    "#### Square \n",
    "Есть потенциальные выбросы в меньшую и большую стороны. Но вроде данные неплохие.\n",
    "\n",
    "Т.к. площадь в вопросе цены вещь важная, не будeм ничем заменять данные с маленькими площадями, а просто выкинем Все что меньше 10м2.\n",
    "\n",
    "А с большими площадями посмотрим на адекватность их цены.\n",
    "\n",
    "#### LifeSquare\n",
    "много пропусков и есть очевидные выбросы в большую и меньшую стороны.\n",
    "\n",
    "Заменим все выбросы (<10, >300), пропуски и несоответствия (больше площади квартиры) на расчет по площади: из площади будем вычитать площадь кухни (или 12 если площадь кухни слишком большая) и еще 14 метров (почему 14? потому что если посмотреть на медианы: square - LifeSquare - KitchenSquare = 14).\n",
    "\n",
    "т.е. *square - min(kitchensquare,12) - 14*\n",
    "\n",
    "#### KitchenSquare\n",
    "есть нулевые значения (пропуски), есть выбросы.\n",
    "\n",
    "Заменим все подозрительные значения (<3, >40), пропуски и несоответствия (больше площади квартиры) на моду.\n",
    "\n",
    "#### Floor\n",
    "Данные отличные.\n",
    "\n",
    "А при несоответсвиях будем менять HouseFloor, к ним доверия меньше. Свой этаж все знают, а с этажностью дома легко ошибиться.\n",
    "\n",
    "#### HouseFloor \n",
    "есть нулевые значения (пропуски), есть выбросы.\n",
    "\n",
    "Заменим все подозрительные значения (<1, >80), пропуски и несоответствия (ниже этажа квартиры) на этаж + 1.\n",
    "\n",
    "#### HouseYear \n",
    "есть нулевые значения (пропуски), есть выбросы.\n",
    "\n",
    "Рассмотрим отдельно.\n",
    "\n",
    "#### Ecology_1, Social_1, Social_2, Social_3, Healthcare_1, Helthcare_2, Shops_1 \n",
    "сложно сказать, можем только исключать их из обучения и смотреть как это повлияет.\n",
    "\n",
    "#### Ecology_2, Ecology_3, Shops_2 \n",
    "Категориальные признаки, надо будет преобразовать в числовые.\n",
    "#### Price \n",
    "вроде неплохие данные."
   ]
  },
  {
   "cell_type": "markdown",
   "metadata": {
    "papermill": {
     "duration": 0.053636,
     "end_time": "2020-10-16T07:40:41.598875",
     "exception": false,
     "start_time": "2020-10-16T07:40:41.545239",
     "status": "completed"
    },
    "tags": []
   },
   "source": [
    "# 4. Визуализация данных\n",
    "\n",
    "Я, конечно, все посмотрел, но интерес представляют следующие:"
   ]
  },
  {
   "cell_type": "code",
   "execution_count": 12,
   "metadata": {
    "execution": {
     "iopub.execute_input": "2020-10-16T07:40:41.717074Z",
     "iopub.status.busy": "2020-10-16T07:40:41.716200Z",
     "iopub.status.idle": "2020-10-16T07:40:41.719812Z",
     "shell.execute_reply": "2020-10-16T07:40:41.719118Z"
    },
    "papermill": {
     "duration": 0.066624,
     "end_time": "2020-10-16T07:40:41.719945",
     "exception": false,
     "start_time": "2020-10-16T07:40:41.653321",
     "status": "completed"
    },
    "tags": []
   },
   "outputs": [],
   "source": [
    "# вывод распредления\n",
    "def distributionPlot(df, param):\n",
    "    plt.figure(figsize = (16, 8))\n",
    "\n",
    "    df[param].hist(bins=30)\n",
    "    plt.ylabel('Count')\n",
    "    plt.xlabel(param)\n",
    "\n",
    "    plt.title(param + ' distribution')\n",
    "    plt.show()"
   ]
  },
  {
   "cell_type": "markdown",
   "metadata": {
    "papermill": {
     "duration": 0.053556,
     "end_time": "2020-10-16T07:40:41.828311",
     "exception": false,
     "start_time": "2020-10-16T07:40:41.774755",
     "status": "completed"
    },
    "tags": []
   },
   "source": [
    "### Price\n",
    "\n",
    "Посмотрим на распредлеение целевой переменной.\n",
    "\n",
    "Там вроде все более менее - ок."
   ]
  },
  {
   "cell_type": "code",
   "execution_count": 13,
   "metadata": {
    "execution": {
     "iopub.execute_input": "2020-10-16T07:40:41.944251Z",
     "iopub.status.busy": "2020-10-16T07:40:41.943294Z",
     "iopub.status.idle": "2020-10-16T07:40:42.323318Z",
     "shell.execute_reply": "2020-10-16T07:40:42.322550Z"
    },
    "papermill": {
     "duration": 0.440916,
     "end_time": "2020-10-16T07:40:42.323511",
     "exception": false,
     "start_time": "2020-10-16T07:40:41.882595",
     "status": "completed"
    },
    "tags": []
   },
   "outputs": [
    {
     "data": {
      "image/png": "[encoded data removed]",
      "text/plain": [
       "<Figure size 1152x576 with 1 Axes>"
      ]
     },
     "metadata": {
      "needs_background": "light"
     },
     "output_type": "display_data"
    }
   ],
   "source": [
    "distributionPlot(train_df, 'Price')"
   ]
  },
  {
   "cell_type": "markdown",
   "metadata": {
    "papermill": {
     "duration": 0.054846,
     "end_time": "2020-10-16T07:40:42.435112",
     "exception": false,
     "start_time": "2020-10-16T07:40:42.380266",
     "status": "completed"
    },
    "tags": []
   },
   "source": [
    "### DistrictId"
   ]
  },
  {
   "cell_type": "code",
   "execution_count": 14,
   "metadata": {
    "execution": {
     "iopub.execute_input": "2020-10-16T07:40:42.552236Z",
     "iopub.status.busy": "2020-10-16T07:40:42.551460Z",
     "iopub.status.idle": "2020-10-16T07:40:42.710330Z",
     "shell.execute_reply": "2020-10-16T07:40:42.709611Z"
    },
    "papermill": {
     "duration": 0.22057,
     "end_time": "2020-10-16T07:40:42.710516",
     "exception": false,
     "start_time": "2020-10-16T07:40:42.489946",
     "status": "completed"
    },
    "tags": []
   },
   "outputs": [
    {
     "data": {
      "text/plain": [
       "0    48\n",
       "Name: DistrictId, dtype: int64"
      ]
     },
     "execution_count": 14,
     "metadata": {},
     "output_type": "execute_result"
    }
   ],
   "source": [
    "train_df.loc[train_df['DistrictId']==0]['DistrictId'].value_counts()"
   ]
  },
  {
   "cell_type": "markdown",
   "metadata": {
    "papermill": {
     "duration": 0.056607,
     "end_time": "2020-10-16T07:40:42.823293",
     "exception": false,
     "start_time": "2020-10-16T07:40:42.766686",
     "status": "completed"
    },
    "tags": []
   },
   "source": [
    "### Square"
   ]
  },
  {
   "cell_type": "markdown",
   "metadata": {
    "papermill": {
     "duration": 0.055337,
     "end_time": "2020-10-16T07:40:42.934159",
     "exception": false,
     "start_time": "2020-10-16T07:40:42.878822",
     "status": "completed"
    },
    "tags": []
   },
   "source": [
    "По площади данные неплохие, но есть кусок маленьких площадей.\n",
    "\n",
    "Есть ярко выраженный хвост вправо.\n",
    "\n",
    "Посмотрим цены на это хвостатые квартиры отдельно."
   ]
  },
  {
   "cell_type": "code",
   "execution_count": 15,
   "metadata": {
    "execution": {
     "iopub.execute_input": "2020-10-16T07:40:43.058862Z",
     "iopub.status.busy": "2020-10-16T07:40:43.052752Z",
     "iopub.status.idle": "2020-10-16T07:40:43.370226Z",
     "shell.execute_reply": "2020-10-16T07:40:43.369294Z"
    },
    "papermill": {
     "duration": 0.380232,
     "end_time": "2020-10-16T07:40:43.370385",
     "exception": false,
     "start_time": "2020-10-16T07:40:42.990153",
     "status": "completed"
    },
    "tags": []
   },
   "outputs": [
    {
     "data": {
      "image/png": "[encoded data removed]",
      "text/plain": [
       "<Figure size 1152x576 with 1 Axes>"
      ]
     },
     "metadata": {
      "needs_background": "light"
     },
     "output_type": "display_data"
    }
   ],
   "source": [
    "distributionPlot(train_df, 'Square')"
   ]
  },
  {
   "cell_type": "code",
   "execution_count": 16,
   "metadata": {
    "execution": {
     "iopub.execute_input": "2020-10-16T07:40:43.525917Z",
     "iopub.status.busy": "2020-10-16T07:40:43.524878Z",
     "iopub.status.idle": "2020-10-16T07:40:43.530065Z",
     "shell.execute_reply": "2020-10-16T07:40:43.529454Z"
    },
    "papermill": {
     "duration": 0.095565,
     "end_time": "2020-10-16T07:40:43.530205",
     "exception": false,
     "start_time": "2020-10-16T07:40:43.434640",
     "status": "completed"
    },
    "tags": []
   },
   "outputs": [
    {
     "data": {
      "text/html": [
       "<div>\n",
       "<style scoped>\n",
       "    .dataframe tbody tr th:only-of-type {\n",
       "        vertical-align: middle;\n",
       "    }\n",
       "\n",
       "    .dataframe tbody tr th {\n",
       "        vertical-align: top;\n",
       "    }\n",
       "\n",
       "    .dataframe thead th {\n",
       "        text-align: right;\n",
       "    }\n",
       "</style>\n",
       "<table border=\"1\" class=\"dataframe\">\n",
       "  <thead>\n",
       "    <tr style=\"text-align: right;\">\n",
       "      <th></th>\n",
       "      <th>Id</th>\n",
       "      <th>DistrictId</th>\n",
       "      <th>Rooms</th>\n",
       "      <th>Square</th>\n",
       "      <th>LifeSquare</th>\n",
       "      <th>KitchenSquare</th>\n",
       "      <th>Floor</th>\n",
       "      <th>HouseFloor</th>\n",
       "      <th>HouseYear</th>\n",
       "      <th>Ecology_1</th>\n",
       "      <th>Ecology_2</th>\n",
       "      <th>Ecology_3</th>\n",
       "      <th>Social_1</th>\n",
       "      <th>Social_2</th>\n",
       "      <th>Social_3</th>\n",
       "      <th>Healthcare_1</th>\n",
       "      <th>Helthcare_2</th>\n",
       "      <th>Shops_1</th>\n",
       "      <th>Shops_2</th>\n",
       "      <th>Price</th>\n",
       "    </tr>\n",
       "  </thead>\n",
       "  <tbody>\n",
       "    <tr>\n",
       "      <th>726</th>\n",
       "      <td>28</td>\n",
       "      <td>9</td>\n",
       "      <td>2.0</td>\n",
       "      <td>604.705972</td>\n",
       "      <td>NaN</td>\n",
       "      <td>1.0</td>\n",
       "      <td>17</td>\n",
       "      <td>18.0</td>\n",
       "      <td>1977</td>\n",
       "      <td>0.161532</td>\n",
       "      <td>B</td>\n",
       "      <td>B</td>\n",
       "      <td>25</td>\n",
       "      <td>5648</td>\n",
       "      <td>1</td>\n",
       "      <td>30.0</td>\n",
       "      <td>2</td>\n",
       "      <td>4</td>\n",
       "      <td>B</td>\n",
       "      <td>187717.242538</td>\n",
       "    </tr>\n",
       "    <tr>\n",
       "      <th>7010</th>\n",
       "      <td>2307</td>\n",
       "      <td>102</td>\n",
       "      <td>1.0</td>\n",
       "      <td>409.425181</td>\n",
       "      <td>410.639749</td>\n",
       "      <td>10.0</td>\n",
       "      <td>4</td>\n",
       "      <td>4.0</td>\n",
       "      <td>2016</td>\n",
       "      <td>0.238617</td>\n",
       "      <td>B</td>\n",
       "      <td>B</td>\n",
       "      <td>26</td>\n",
       "      <td>3889</td>\n",
       "      <td>6</td>\n",
       "      <td>705.0</td>\n",
       "      <td>3</td>\n",
       "      <td>6</td>\n",
       "      <td>B</td>\n",
       "      <td>90470.430830</td>\n",
       "    </tr>\n",
       "    <tr>\n",
       "      <th>9229</th>\n",
       "      <td>11602</td>\n",
       "      <td>30</td>\n",
       "      <td>2.0</td>\n",
       "      <td>641.065193</td>\n",
       "      <td>638.163193</td>\n",
       "      <td>10.0</td>\n",
       "      <td>20</td>\n",
       "      <td>19.0</td>\n",
       "      <td>2019</td>\n",
       "      <td>0.000078</td>\n",
       "      <td>B</td>\n",
       "      <td>B</td>\n",
       "      <td>22</td>\n",
       "      <td>6398</td>\n",
       "      <td>141</td>\n",
       "      <td>1046.0</td>\n",
       "      <td>3</td>\n",
       "      <td>23</td>\n",
       "      <td>B</td>\n",
       "      <td>133529.681562</td>\n",
       "    </tr>\n",
       "  </tbody>\n",
       "</table>\n",
       "</div>"
      ],
      "text/plain": [
       "         Id  DistrictId  Rooms      Square  LifeSquare  KitchenSquare  Floor  \\\n",
       "726      28           9    2.0  604.705972         NaN            1.0     17   \n",
       "7010   2307         102    1.0  409.425181  410.639749           10.0      4   \n",
       "9229  11602          30    2.0  641.065193  638.163193           10.0     20   \n",
       "\n",
       "      HouseFloor  HouseYear  Ecology_1 Ecology_2 Ecology_3  Social_1  \\\n",
       "726         18.0       1977   0.161532         B         B        25   \n",
       "7010         4.0       2016   0.238617         B         B        26   \n",
       "9229        19.0       2019   0.000078         B         B        22   \n",
       "\n",
       "      Social_2  Social_3  Healthcare_1  Helthcare_2  Shops_1 Shops_2  \\\n",
       "726       5648         1          30.0            2        4       B   \n",
       "7010      3889         6         705.0            3        6       B   \n",
       "9229      6398       141        1046.0            3       23       B   \n",
       "\n",
       "              Price  \n",
       "726   187717.242538  \n",
       "7010   90470.430830  \n",
       "9229  133529.681562  "
      ]
     },
     "execution_count": 16,
     "metadata": {},
     "output_type": "execute_result"
    }
   ],
   "source": [
    "train_df.loc[train_df['Square']>300]"
   ]
  },
  {
   "cell_type": "markdown",
   "metadata": {
    "papermill": {
     "duration": 0.058036,
     "end_time": "2020-10-16T07:40:43.646364",
     "exception": false,
     "start_time": "2020-10-16T07:40:43.588328",
     "status": "completed"
    },
    "tags": []
   },
   "source": [
    "Видно, что по цене и количеству комнат данные не соответствуют своей площади, тоже удалим их"
   ]
  },
  {
   "cell_type": "markdown",
   "metadata": {
    "papermill": {
     "duration": 0.057724,
     "end_time": "2020-10-16T07:40:43.762689",
     "exception": false,
     "start_time": "2020-10-16T07:40:43.704965",
     "status": "completed"
    },
    "tags": []
   },
   "source": [
    "#### Ecology_1\n",
    "\n",
    "Рассмотрим его, чтобы убедиться что эти данные не имеют нормальное распределение и по ним ничего не ясно."
   ]
  },
  {
   "cell_type": "code",
   "execution_count": 17,
   "metadata": {
    "execution": {
     "iopub.execute_input": "2020-10-16T07:40:43.893761Z",
     "iopub.status.busy": "2020-10-16T07:40:43.892493Z",
     "iopub.status.idle": "2020-10-16T07:40:44.190381Z",
     "shell.execute_reply": "2020-10-16T07:40:44.189738Z"
    },
    "papermill": {
     "duration": 0.369337,
     "end_time": "2020-10-16T07:40:44.190548",
     "exception": false,
     "start_time": "2020-10-16T07:40:43.821211",
     "status": "completed"
    },
    "tags": []
   },
   "outputs": [
    {
     "data": {
      "image/png": "[encoded data removed]",
      "text/plain": [
       "<Figure size 1152x576 with 1 Axes>"
      ]
     },
     "metadata": {
      "needs_background": "light"
     },
     "output_type": "display_data"
    }
   ],
   "source": [
    "distributionPlot(train_df, 'Ecology_1')"
   ]
  },
  {
   "cell_type": "markdown",
   "metadata": {
    "papermill": {
     "duration": 0.059531,
     "end_time": "2020-10-16T07:40:44.310299",
     "exception": false,
     "start_time": "2020-10-16T07:40:44.250768",
     "status": "completed"
    },
    "tags": []
   },
   "source": [
    "#### HouseYear\n",
    "\n",
    "Тут видно, что есть 2 выбивающихся значения, заменим их на моду"
   ]
  },
  {
   "cell_type": "code",
   "execution_count": 18,
   "metadata": {
    "execution": {
     "iopub.execute_input": "2020-10-16T07:40:44.441778Z",
     "iopub.status.busy": "2020-10-16T07:40:44.440534Z",
     "iopub.status.idle": "2020-10-16T07:40:44.445579Z",
     "shell.execute_reply": "2020-10-16T07:40:44.444811Z"
    },
    "papermill": {
     "duration": 0.07482,
     "end_time": "2020-10-16T07:40:44.445722",
     "exception": false,
     "start_time": "2020-10-16T07:40:44.370902",
     "status": "completed"
    },
    "tags": []
   },
   "outputs": [
    {
     "data": {
      "text/plain": [
       "20052011    1\n",
       "4968        1\n",
       "Name: HouseYear, dtype: int64"
      ]
     },
     "execution_count": 18,
     "metadata": {},
     "output_type": "execute_result"
    }
   ],
   "source": [
    "train_df.loc[train_df['HouseYear']>2020]['HouseYear'].value_counts()"
   ]
  },
  {
   "cell_type": "code",
   "execution_count": 19,
   "metadata": {
    "execution": {
     "iopub.execute_input": "2020-10-16T07:40:44.576690Z",
     "iopub.status.busy": "2020-10-16T07:40:44.575455Z",
     "iopub.status.idle": "2020-10-16T07:40:44.579964Z",
     "shell.execute_reply": "2020-10-16T07:40:44.579222Z"
    },
    "papermill": {
     "duration": 0.074329,
     "end_time": "2020-10-16T07:40:44.580121",
     "exception": false,
     "start_time": "2020-10-16T07:40:44.505792",
     "status": "completed"
    },
    "tags": []
   },
   "outputs": [
    {
     "data": {
      "text/plain": [
       "Series([], Name: HouseYear, dtype: int64)"
      ]
     },
     "execution_count": 19,
     "metadata": {},
     "output_type": "execute_result"
    }
   ],
   "source": [
    "train_df.loc[train_df['HouseYear']<1900]['HouseYear'].value_counts()"
   ]
  },
  {
   "cell_type": "markdown",
   "metadata": {
    "papermill": {
     "duration": 0.059813,
     "end_time": "2020-10-16T07:40:44.700228",
     "exception": false,
     "start_time": "2020-10-16T07:40:44.640415",
     "status": "completed"
    },
    "tags": []
   },
   "source": [
    "#### Ecology_2, Ecology_3, Shops_2\n",
    "\n",
    "Ничего примечательного обычные бинарные признаки"
   ]
  },
  {
   "cell_type": "code",
   "execution_count": 20,
   "metadata": {
    "execution": {
     "iopub.execute_input": "2020-10-16T07:40:44.832388Z",
     "iopub.status.busy": "2020-10-16T07:40:44.831506Z",
     "iopub.status.idle": "2020-10-16T07:40:44.835689Z",
     "shell.execute_reply": "2020-10-16T07:40:44.836230Z"
    },
    "papermill": {
     "duration": 0.076087,
     "end_time": "2020-10-16T07:40:44.836413",
     "exception": false,
     "start_time": "2020-10-16T07:40:44.760326",
     "status": "completed"
    },
    "tags": []
   },
   "outputs": [
    {
     "data": {
      "text/plain": [
       "B    9903\n",
       "A      97\n",
       "Name: Ecology_2, dtype: int64"
      ]
     },
     "execution_count": 20,
     "metadata": {},
     "output_type": "execute_result"
    }
   ],
   "source": [
    "train_df['Ecology_2'].value_counts()"
   ]
  },
  {
   "cell_type": "code",
   "execution_count": 21,
   "metadata": {
    "execution": {
     "iopub.execute_input": "2020-10-16T07:40:44.971004Z",
     "iopub.status.busy": "2020-10-16T07:40:44.970006Z",
     "iopub.status.idle": "2020-10-16T07:40:44.974964Z",
     "shell.execute_reply": "2020-10-16T07:40:44.974190Z"
    },
    "papermill": {
     "duration": 0.078005,
     "end_time": "2020-10-16T07:40:44.975115",
     "exception": false,
     "start_time": "2020-10-16T07:40:44.897110",
     "status": "completed"
    },
    "tags": []
   },
   "outputs": [
    {
     "data": {
      "text/plain": [
       "B    9725\n",
       "A     275\n",
       "Name: Ecology_3, dtype: int64"
      ]
     },
     "execution_count": 21,
     "metadata": {},
     "output_type": "execute_result"
    }
   ],
   "source": [
    "train_df['Ecology_3'].value_counts()"
   ]
  },
  {
   "cell_type": "code",
   "execution_count": 22,
   "metadata": {
    "execution": {
     "iopub.execute_input": "2020-10-16T07:40:45.112242Z",
     "iopub.status.busy": "2020-10-16T07:40:45.111277Z",
     "iopub.status.idle": "2020-10-16T07:40:45.116161Z",
     "shell.execute_reply": "2020-10-16T07:40:45.115373Z"
    },
    "papermill": {
     "duration": 0.079359,
     "end_time": "2020-10-16T07:40:45.116301",
     "exception": false,
     "start_time": "2020-10-16T07:40:45.036942",
     "status": "completed"
    },
    "tags": []
   },
   "outputs": [
    {
     "data": {
      "text/plain": [
       "B    9175\n",
       "A     825\n",
       "Name: Shops_2, dtype: int64"
      ]
     },
     "execution_count": 22,
     "metadata": {},
     "output_type": "execute_result"
    }
   ],
   "source": [
    "train_df['Shops_2'].value_counts()"
   ]
  },
  {
   "cell_type": "markdown",
   "metadata": {
    "papermill": {
     "duration": 0.063525,
     "end_time": "2020-10-16T07:40:45.242262",
     "exception": false,
     "start_time": "2020-10-16T07:40:45.178737",
     "status": "completed"
    },
    "tags": []
   },
   "source": [
    "# 5. Предобработка данных\n",
    "\n",
    "Действуем по описаному выше плану.\n",
    "\n",
    "Для этого заведем вспомогательные функции."
   ]
  },
  {
   "cell_type": "code",
   "execution_count": 23,
   "metadata": {
    "execution": {
     "iopub.execute_input": "2020-10-16T07:40:45.395865Z",
     "iopub.status.busy": "2020-10-16T07:40:45.394961Z",
     "iopub.status.idle": "2020-10-16T07:40:45.398730Z",
     "shell.execute_reply": "2020-10-16T07:40:45.397952Z"
    },
    "papermill": {
     "duration": 0.092874,
     "end_time": "2020-10-16T07:40:45.398874",
     "exception": false,
     "start_time": "2020-10-16T07:40:45.306000",
     "status": "completed"
    },
    "tags": []
   },
   "outputs": [],
   "source": [
    "# обрезаем данные по параметру \n",
    "def cropDf(df, param, fromVal, toVal):\n",
    "    df = df.loc[df[param].notnull()]\n",
    "    df = df.loc[df[param]>fromVal]\n",
    "    df = df.loc[df[param]<toVal]\n",
    "    return df\n",
    "\n",
    "# Расчет площади комнаты\n",
    "def fixRooms(df, minRooms, maxRooms):\n",
    "    calcRooms(df, (df['Rooms']<minRooms))\n",
    "    calcRooms(df, (df['Rooms']>maxRooms))\n",
    "    calcRooms(df, (df['Rooms'].isna()))\n",
    "    df.loc[df['Rooms']<1, 'Rooms'] = 1\n",
    "    return df\n",
    "\n",
    "def calcRooms(df, condition):\n",
    "    df.loc[condition, 'Rooms'] = round((df.loc[condition, 'Square'] - 15) / 15)\n",
    "    return df\n",
    "\n",
    "# Заменяем данные по параметру \n",
    "def replaceWrongVal(df, param, minVal, maxVal, value):\n",
    "    df.loc[df[param]<minVal, param] = value\n",
    "    df.loc[df[param]>maxVal, param] = value\n",
    "    df.loc[df[param].isna(), param] = value\n",
    "    return df\n",
    "\n",
    "# Расчет жилой площади по площади квартиры\n",
    "def fixLifeSquare(df, minVal, maxVal):\n",
    "    calcLifeSquare(df, (df['LifeSquare']<minVal))\n",
    "    calcLifeSquare(df, (df['LifeSquare']>maxVal))\n",
    "    calcLifeSquare(df, (df['LifeSquare']>df['Square']))\n",
    "    calcLifeSquare(df, (df['LifeSquare'].isna()))\n",
    "    df.loc[df['LifeSquare']<1, 'LifeSquare'] = 1\n",
    "    return df\n",
    "\n",
    "def calcLifeSquare(df, condition):\n",
    "    df.loc[condition, 'LifeSquare'] = (df.loc[condition, 'Square'] - df.loc[condition, 'KitchenSquare']) - 14\n",
    "    return df\n",
    "\n",
    "# Расчет Этажности дома\n",
    "def fixHouseFloor(df, minVal, maxVal):\n",
    "    calcHouseFloor(df, (df['HouseFloor']<minVal))\n",
    "    calcHouseFloor(df, (df['HouseFloor']>maxVal))\n",
    "    calcHouseFloor(df, (df['HouseFloor']<df['Floor']))\n",
    "    calcHouseFloor(df, (df['HouseFloor'].isna()))\n",
    "    df.loc[df['HouseFloor']<1, 'HouseFloor'] = 1\n",
    "    return df\n",
    "\n",
    "def calcHouseFloor(df, condition):\n",
    "    df.loc[condition, 'HouseFloor'] = df.loc[condition, 'Floor'] + 1\n",
    "    return df\n",
    "\n",
    "source_df = train_df"
   ]
  },
  {
   "cell_type": "code",
   "execution_count": 24,
   "metadata": {
    "execution": {
     "iopub.execute_input": "2020-10-16T07:40:45.609076Z",
     "iopub.status.busy": "2020-10-16T07:40:45.608227Z",
     "iopub.status.idle": "2020-10-16T07:40:45.612231Z",
     "shell.execute_reply": "2020-10-16T07:40:45.611467Z"
    },
    "papermill": {
     "duration": 0.082172,
     "end_time": "2020-10-16T07:40:45.612372",
     "exception": false,
     "start_time": "2020-10-16T07:40:45.530200",
     "status": "completed"
    },
    "tags": []
   },
   "outputs": [],
   "source": [
    "class DataPreprocessing:\n",
    "    \"\"\"Подготовка исходных данных\"\"\"\n",
    "\n",
    "    def __init__(self):\n",
    "        \"\"\"Параметры класса\"\"\"\n",
    "        self.medians=None\n",
    "        self.modes=None\n",
    "        \n",
    "    def fit(self, X):\n",
    "        \"\"\"Сохранение статистик\"\"\"       \n",
    "        # Расчет медиан\n",
    "        self.medians = X.median()\n",
    "        self.modes = X.mode()\n",
    "    \n",
    "    def transform(self, X):\n",
    "        \"\"\"Трансформация данных\"\"\"\n",
    "\n",
    "        # заполним комнаты\n",
    "        X = fixRooms(X, 2, 10)\n",
    "\n",
    "        # заменяем года с ошибками на моду\n",
    "        X = replaceWrongVal(X, 'HouseYear', 1900, datetime.now().year, self.modes['HouseYear'][0])\n",
    "\n",
    "        # заменяем странные площади кухонь на моду\n",
    "        X = replaceWrongVal(X, 'KitchenSquare', 3, 40, self.modes['KitchenSquare'][0])\n",
    "        condition = X['KitchenSquare']>X['Square']\n",
    "        X.loc[condition, 'KitchenSquare'] = self.modes['KitchenSquare'][0]\n",
    "\n",
    "        # заполним жилую площадь\n",
    "        X = fixLifeSquare(X, 10, 300)\n",
    "\n",
    "        # заполним этажность\n",
    "        X = fixHouseFloor(X, 1, 80)\n",
    "\n",
    "        # заполним Healthcare_1\n",
    "        condition = X['Healthcare_1'].isna()\n",
    "        X.loc[condition, 'Healthcare_1'] = self.medians['Healthcare_1']\n",
    "        \n",
    "        return X"
   ]
  },
  {
   "cell_type": "code",
   "execution_count": 25,
   "metadata": {
    "execution": {
     "iopub.execute_input": "2020-10-16T07:40:45.746197Z",
     "iopub.status.busy": "2020-10-16T07:40:45.745346Z",
     "iopub.status.idle": "2020-10-16T07:40:45.854778Z",
     "shell.execute_reply": "2020-10-16T07:40:45.854047Z"
    },
    "papermill": {
     "duration": 0.179626,
     "end_time": "2020-10-16T07:40:45.854930",
     "exception": false,
     "start_time": "2020-10-16T07:40:45.675304",
     "status": "completed"
    },
    "tags": []
   },
   "outputs": [],
   "source": [
    "train_df = source_df\n",
    "\n",
    "# удаляем выбросы Square\n",
    "train_df = cropDf(train_df, 'Square', 10, 300)\n",
    "\n",
    "preprocessor = DataPreprocessing()\n",
    "preprocessor.fit(train_df)\n",
    "\n",
    "train_df = preprocessor.transform(train_df)\n",
    "test_df = preprocessor.transform(test_df)"
   ]
  },
  {
   "cell_type": "code",
   "execution_count": 26,
   "metadata": {
    "execution": {
     "iopub.execute_input": "2020-10-16T07:40:45.992911Z",
     "iopub.status.busy": "2020-10-16T07:40:45.991674Z",
     "iopub.status.idle": "2020-10-16T07:40:46.000642Z",
     "shell.execute_reply": "2020-10-16T07:40:45.999850Z"
    },
    "papermill": {
     "duration": 0.082627,
     "end_time": "2020-10-16T07:40:46.000787",
     "exception": false,
     "start_time": "2020-10-16T07:40:45.918160",
     "status": "completed"
    },
    "tags": []
   },
   "outputs": [
    {
     "data": {
      "text/plain": [
       "Id               0\n",
       "DistrictId       0\n",
       "Rooms            0\n",
       "Square           0\n",
       "LifeSquare       0\n",
       "KitchenSquare    0\n",
       "Floor            0\n",
       "HouseFloor       0\n",
       "HouseYear        0\n",
       "Ecology_1        0\n",
       "Ecology_2        0\n",
       "Ecology_3        0\n",
       "Social_1         0\n",
       "Social_2         0\n",
       "Social_3         0\n",
       "Healthcare_1     0\n",
       "Helthcare_2      0\n",
       "Shops_1          0\n",
       "Shops_2          0\n",
       "Price            0\n",
       "dtype: int64"
      ]
     },
     "execution_count": 26,
     "metadata": {},
     "output_type": "execute_result"
    }
   ],
   "source": [
    "train_df.isna().sum()"
   ]
  },
  {
   "cell_type": "markdown",
   "metadata": {
    "papermill": {
     "duration": 0.063911,
     "end_time": "2020-10-16T07:40:46.128226",
     "exception": false,
     "start_time": "2020-10-16T07:40:46.064315",
     "status": "completed"
    },
    "tags": []
   },
   "source": [
    "# 6. Генерация новых признаков\n",
    "\n",
    "Тут мы уже определились с планом, нужно добавить:\n",
    "* средняя цена за квадрат по району\n",
    "* первести в бинарные признаки Ecology_2, Ecology_3, Shops_2\n",
    "* квартира на первом этаже\n",
    "* квартира на последнем этаже\n",
    "* Возраст дома, а не год его постройки\n",
    "* параметр для класса недвижимости\n",
    "\n",
    "\n",
    "Класс недвижимости мы будем определять по дате строительства и площади на комнату: \n",
    "* если дата строительства > 2010 и площадь на комнату > 30 - бизнес (2)\n",
    "* если дата строительства > 2010 и площадь на комнату > 20 - комфорт (1)\n",
    "* все остальное - бюджет (0)"
   ]
  },
  {
   "cell_type": "code",
   "execution_count": 27,
   "metadata": {
    "execution": {
     "iopub.execute_input": "2020-10-16T07:40:46.264880Z",
     "iopub.status.busy": "2020-10-16T07:40:46.263797Z",
     "iopub.status.idle": "2020-10-16T07:40:46.267646Z",
     "shell.execute_reply": "2020-10-16T07:40:46.266864Z"
    },
    "papermill": {
     "duration": 0.075458,
     "end_time": "2020-10-16T07:40:46.267796",
     "exception": false,
     "start_time": "2020-10-16T07:40:46.192338",
     "status": "completed"
    },
    "tags": []
   },
   "outputs": [],
   "source": [
    "# конвертируем категорию в бинарный признак\n",
    "def catToBin(df, param, binary_to_numbers):\n",
    "    df[param] = df[param].map(binary_to_numbers)\n",
    "    return df"
   ]
  },
  {
   "cell_type": "code",
   "execution_count": 28,
   "metadata": {
    "execution": {
     "iopub.execute_input": "2020-10-16T07:40:46.412222Z",
     "iopub.status.busy": "2020-10-16T07:40:46.406953Z",
     "iopub.status.idle": "2020-10-16T07:40:46.425150Z",
     "shell.execute_reply": "2020-10-16T07:40:46.424305Z"
    },
    "papermill": {
     "duration": 0.093429,
     "end_time": "2020-10-16T07:40:46.425300",
     "exception": false,
     "start_time": "2020-10-16T07:40:46.331871",
     "status": "completed"
    },
    "tags": []
   },
   "outputs": [],
   "source": [
    "class FeatureGenetator():\n",
    "    \"\"\"Генерация новых фич\"\"\"\n",
    "    \n",
    "    def __init__(self):\n",
    "        self.binary_to_numbers = None\n",
    "        self.sq_price_by_district = None\n",
    "        self.sq_price_by_district_median = None\n",
    "        \n",
    "    def fit(self, X, y=None):\n",
    "        \n",
    "        X = X.copy()\n",
    "        \n",
    "        # Binary features\n",
    "        self.binary_to_numbers = {'A': 0, 'B': 1}\n",
    "                       \n",
    "        # Средняя цена за квадрат по району\n",
    "        df = X.copy()\n",
    "        if y is not None:\n",
    "            df['Price'] = y.values\n",
    "            df['SqPrice'] = df['Price'] / df['Square']\n",
    "            \n",
    "            self.sq_price_by_district = df.groupby(['DistrictId'], as_index=False).agg({'SqPrice':'median'})\\\n",
    "                                            .rename(columns={'SqPrice':'SqPriceByDistrict'})\n",
    "            \n",
    "            self.sq_price_by_district['DistrictId'].astype('int64')\n",
    "            self.sq_price_by_district_median = df['SqPrice'].median()\n",
    "        \n",
    "\n",
    "        \n",
    "    def transform(self, X):\n",
    "        \n",
    "        # Добавляем среднюю цену за квадрат в районе\n",
    "        if self.sq_price_by_district is not None:\n",
    "            X = X.merge(self.sq_price_by_district, on=['DistrictId'], how='left')\n",
    "            X.fillna(self.sq_price_by_district_median, inplace=True)\n",
    "        \n",
    "        # Конвертируем категориальные признаки\n",
    "        X['Ecology_2'] = X['Ecology_2'].map(self.binary_to_numbers)\n",
    "        X['Ecology_3'] = X['Ecology_3'].map(self.binary_to_numbers)\n",
    "        X['Shops_2'] = X['Shops_2'].map(self.binary_to_numbers)\n",
    "        \n",
    "        # Квартира на первом этаже\n",
    "        X['isFirstFloor'] = 0\n",
    "        X.loc[X['Floor']==1, 'isFirstFloor'] = 1\n",
    "        \n",
    "        # Квартира на последнем этаже\n",
    "        X['isLastFloor'] = 0\n",
    "        X.loc[X['Floor']==X['HouseFloor'], 'isLastFloor'] = 1\n",
    "        \n",
    "        # класс недвижимости\n",
    "        X['sqPerRoom'] = X['LifeSquare'] / X['Rooms']\n",
    "        X['Class'] = 0\n",
    "        X.loc[X['sqPerRoom']>20, 'Class'] = 1\n",
    "        X.loc[X['sqPerRoom']>30, 'Class'] = 2\n",
    "        \n",
    "        # Возраст недвижимости\n",
    "        X['Age'] = datetime.now().year - X['HouseYear']\n",
    "        \n",
    "        return X"
   ]
  },
  {
   "cell_type": "code",
   "execution_count": 29,
   "metadata": {
    "execution": {
     "iopub.execute_input": "2020-10-16T07:40:46.566880Z",
     "iopub.status.busy": "2020-10-16T07:40:46.565997Z",
     "iopub.status.idle": "2020-10-16T07:40:46.648107Z",
     "shell.execute_reply": "2020-10-16T07:40:46.647384Z"
    },
    "papermill": {
     "duration": 0.159031,
     "end_time": "2020-10-16T07:40:46.648271",
     "exception": false,
     "start_time": "2020-10-16T07:40:46.489240",
     "status": "completed"
    },
    "tags": []
   },
   "outputs": [],
   "source": [
    "features_gen = FeatureGenetator()\n",
    "features_gen.fit(train_df.drop(columns='Price'), train_df['Price'])\n",
    "\n",
    "train_df = features_gen.transform(train_df)\n",
    "test_df = features_gen.transform(test_df)"
   ]
  },
  {
   "cell_type": "code",
   "execution_count": 30,
   "metadata": {
    "execution": {
     "iopub.execute_input": "2020-10-16T07:40:46.785748Z",
     "iopub.status.busy": "2020-10-16T07:40:46.784250Z",
     "iopub.status.idle": "2020-10-16T07:40:46.896347Z",
     "shell.execute_reply": "2020-10-16T07:40:46.895735Z"
    },
    "papermill": {
     "duration": 0.184208,
     "end_time": "2020-10-16T07:40:46.896527",
     "exception": false,
     "start_time": "2020-10-16T07:40:46.712319",
     "status": "completed"
    },
    "tags": []
   },
   "outputs": [
    {
     "data": {
      "text/html": [
       "<div>\n",
       "<style scoped>\n",
       "    .dataframe tbody tr th:only-of-type {\n",
       "        vertical-align: middle;\n",
       "    }\n",
       "\n",
       "    .dataframe tbody tr th {\n",
       "        vertical-align: top;\n",
       "    }\n",
       "\n",
       "    .dataframe thead th {\n",
       "        text-align: right;\n",
       "    }\n",
       "</style>\n",
       "<table border=\"1\" class=\"dataframe\">\n",
       "  <thead>\n",
       "    <tr style=\"text-align: right;\">\n",
       "      <th></th>\n",
       "      <th>Id</th>\n",
       "      <th>DistrictId</th>\n",
       "      <th>Rooms</th>\n",
       "      <th>Square</th>\n",
       "      <th>LifeSquare</th>\n",
       "      <th>KitchenSquare</th>\n",
       "      <th>Floor</th>\n",
       "      <th>HouseFloor</th>\n",
       "      <th>HouseYear</th>\n",
       "      <th>Ecology_1</th>\n",
       "      <th>...</th>\n",
       "      <th>Helthcare_2</th>\n",
       "      <th>Shops_1</th>\n",
       "      <th>Shops_2</th>\n",
       "      <th>Price</th>\n",
       "      <th>SqPriceByDistrict</th>\n",
       "      <th>isFirstFloor</th>\n",
       "      <th>isLastFloor</th>\n",
       "      <th>sqPerRoom</th>\n",
       "      <th>Class</th>\n",
       "      <th>Age</th>\n",
       "    </tr>\n",
       "  </thead>\n",
       "  <tbody>\n",
       "    <tr>\n",
       "      <th>count</th>\n",
       "      <td>9985.000000</td>\n",
       "      <td>9985.000000</td>\n",
       "      <td>9985.000000</td>\n",
       "      <td>9985.000000</td>\n",
       "      <td>9985.000000</td>\n",
       "      <td>9985.000000</td>\n",
       "      <td>9985.000000</td>\n",
       "      <td>9985.000000</td>\n",
       "      <td>9985.000000</td>\n",
       "      <td>9985.000000</td>\n",
       "      <td>...</td>\n",
       "      <td>9985.000000</td>\n",
       "      <td>9985.000000</td>\n",
       "      <td>9985.000000</td>\n",
       "      <td>9985.000000</td>\n",
       "      <td>9985.000000</td>\n",
       "      <td>9985.000000</td>\n",
       "      <td>9985.000000</td>\n",
       "      <td>9985.000000</td>\n",
       "      <td>9985.000000</td>\n",
       "      <td>9985.000000</td>\n",
       "    </tr>\n",
       "    <tr>\n",
       "      <th>mean</th>\n",
       "      <td>8383.644266</td>\n",
       "      <td>50.429745</td>\n",
       "      <td>2.191688</td>\n",
       "      <td>56.230160</td>\n",
       "      <td>37.786382</td>\n",
       "      <td>5.786380</td>\n",
       "      <td>8.522784</td>\n",
       "      <td>13.586580</td>\n",
       "      <td>1984.856284</td>\n",
       "      <td>0.118864</td>\n",
       "      <td>...</td>\n",
       "      <td>1.319579</td>\n",
       "      <td>4.230546</td>\n",
       "      <td>0.917376</td>\n",
       "      <td>214097.678076</td>\n",
       "      <td>3927.752188</td>\n",
       "      <td>0.023335</td>\n",
       "      <td>0.090436</td>\n",
       "      <td>17.372413</td>\n",
       "      <td>0.302554</td>\n",
       "      <td>35.143716</td>\n",
       "    </tr>\n",
       "    <tr>\n",
       "      <th>std</th>\n",
       "      <td>4859.124846</td>\n",
       "      <td>43.599915</td>\n",
       "      <td>0.703493</td>\n",
       "      <td>19.077255</td>\n",
       "      <td>17.400188</td>\n",
       "      <td>3.950406</td>\n",
       "      <td>5.232639</td>\n",
       "      <td>5.804986</td>\n",
       "      <td>18.409218</td>\n",
       "      <td>0.119063</td>\n",
       "      <td>...</td>\n",
       "      <td>1.493617</td>\n",
       "      <td>4.804400</td>\n",
       "      <td>0.275327</td>\n",
       "      <td>92774.269739</td>\n",
       "      <td>997.144114</td>\n",
       "      <td>0.150973</td>\n",
       "      <td>0.286819</td>\n",
       "      <td>5.747308</td>\n",
       "      <td>0.533811</td>\n",
       "      <td>18.409218</td>\n",
       "    </tr>\n",
       "    <tr>\n",
       "      <th>min</th>\n",
       "      <td>0.000000</td>\n",
       "      <td>0.000000</td>\n",
       "      <td>1.000000</td>\n",
       "      <td>13.784865</td>\n",
       "      <td>1.000000</td>\n",
       "      <td>1.000000</td>\n",
       "      <td>1.000000</td>\n",
       "      <td>1.000000</td>\n",
       "      <td>1910.000000</td>\n",
       "      <td>0.000000</td>\n",
       "      <td>...</td>\n",
       "      <td>0.000000</td>\n",
       "      <td>0.000000</td>\n",
       "      <td>0.000000</td>\n",
       "      <td>59174.778028</td>\n",
       "      <td>2273.498737</td>\n",
       "      <td>0.000000</td>\n",
       "      <td>0.000000</td>\n",
       "      <td>0.333333</td>\n",
       "      <td>0.000000</td>\n",
       "      <td>0.000000</td>\n",
       "    </tr>\n",
       "    <tr>\n",
       "      <th>25%</th>\n",
       "      <td>4170.000000</td>\n",
       "      <td>20.000000</td>\n",
       "      <td>2.000000</td>\n",
       "      <td>41.784835</td>\n",
       "      <td>24.442781</td>\n",
       "      <td>1.000000</td>\n",
       "      <td>4.000000</td>\n",
       "      <td>9.000000</td>\n",
       "      <td>1974.000000</td>\n",
       "      <td>0.017647</td>\n",
       "      <td>...</td>\n",
       "      <td>0.000000</td>\n",
       "      <td>1.000000</td>\n",
       "      <td>1.000000</td>\n",
       "      <td>153912.044504</td>\n",
       "      <td>2938.048239</td>\n",
       "      <td>0.000000</td>\n",
       "      <td>0.000000</td>\n",
       "      <td>13.690663</td>\n",
       "      <td>0.000000</td>\n",
       "      <td>19.000000</td>\n",
       "    </tr>\n",
       "    <tr>\n",
       "      <th>50%</th>\n",
       "      <td>8394.000000</td>\n",
       "      <td>36.000000</td>\n",
       "      <td>2.000000</td>\n",
       "      <td>52.539365</td>\n",
       "      <td>33.543883</td>\n",
       "      <td>6.000000</td>\n",
       "      <td>7.000000</td>\n",
       "      <td>14.000000</td>\n",
       "      <td>1977.000000</td>\n",
       "      <td>0.075424</td>\n",
       "      <td>...</td>\n",
       "      <td>1.000000</td>\n",
       "      <td>3.000000</td>\n",
       "      <td>1.000000</td>\n",
       "      <td>192302.751941</td>\n",
       "      <td>4134.353749</td>\n",
       "      <td>0.000000</td>\n",
       "      <td>0.000000</td>\n",
       "      <td>16.173653</td>\n",
       "      <td>0.000000</td>\n",
       "      <td>43.000000</td>\n",
       "    </tr>\n",
       "    <tr>\n",
       "      <th>75%</th>\n",
       "      <td>12594.000000</td>\n",
       "      <td>75.000000</td>\n",
       "      <td>3.000000</td>\n",
       "      <td>65.904217</td>\n",
       "      <td>46.856174</td>\n",
       "      <td>9.000000</td>\n",
       "      <td>12.000000</td>\n",
       "      <td>17.000000</td>\n",
       "      <td>2001.000000</td>\n",
       "      <td>0.195781</td>\n",
       "      <td>...</td>\n",
       "      <td>2.000000</td>\n",
       "      <td>6.000000</td>\n",
       "      <td>1.000000</td>\n",
       "      <td>249114.537525</td>\n",
       "      <td>4562.026777</td>\n",
       "      <td>0.000000</td>\n",
       "      <td>0.000000</td>\n",
       "      <td>20.387521</td>\n",
       "      <td>1.000000</td>\n",
       "      <td>46.000000</td>\n",
       "    </tr>\n",
       "    <tr>\n",
       "      <th>max</th>\n",
       "      <td>16798.000000</td>\n",
       "      <td>209.000000</td>\n",
       "      <td>13.000000</td>\n",
       "      <td>275.645284</td>\n",
       "      <td>233.949309</td>\n",
       "      <td>40.000000</td>\n",
       "      <td>42.000000</td>\n",
       "      <td>48.000000</td>\n",
       "      <td>2020.000000</td>\n",
       "      <td>0.521867</td>\n",
       "      <td>...</td>\n",
       "      <td>6.000000</td>\n",
       "      <td>23.000000</td>\n",
       "      <td>1.000000</td>\n",
       "      <td>633233.466570</td>\n",
       "      <td>8700.768533</td>\n",
       "      <td>1.000000</td>\n",
       "      <td>1.000000</td>\n",
       "      <td>77.689747</td>\n",
       "      <td>2.000000</td>\n",
       "      <td>110.000000</td>\n",
       "    </tr>\n",
       "  </tbody>\n",
       "</table>\n",
       "<p>8 rows × 26 columns</p>\n",
       "</div>"
      ],
      "text/plain": [
       "                 Id   DistrictId        Rooms       Square   LifeSquare  \\\n",
       "count   9985.000000  9985.000000  9985.000000  9985.000000  9985.000000   \n",
       "mean    8383.644266    50.429745     2.191688    56.230160    37.786382   \n",
       "std     4859.124846    43.599915     0.703493    19.077255    17.400188   \n",
       "min        0.000000     0.000000     1.000000    13.784865     1.000000   \n",
       "25%     4170.000000    20.000000     2.000000    41.784835    24.442781   \n",
       "50%     8394.000000    36.000000     2.000000    52.539365    33.543883   \n",
       "75%    12594.000000    75.000000     3.000000    65.904217    46.856174   \n",
       "max    16798.000000   209.000000    13.000000   275.645284   233.949309   \n",
       "\n",
       "       KitchenSquare        Floor   HouseFloor    HouseYear    Ecology_1  ...  \\\n",
       "count    9985.000000  9985.000000  9985.000000  9985.000000  9985.000000  ...   \n",
       "mean        5.786380     8.522784    13.586580  1984.856284     0.118864  ...   \n",
       "std         3.950406     5.232639     5.804986    18.409218     0.119063  ...   \n",
       "min         1.000000     1.000000     1.000000  1910.000000     0.000000  ...   \n",
       "25%         1.000000     4.000000     9.000000  1974.000000     0.017647  ...   \n",
       "50%         6.000000     7.000000    14.000000  1977.000000     0.075424  ...   \n",
       "75%         9.000000    12.000000    17.000000  2001.000000     0.195781  ...   \n",
       "max        40.000000    42.000000    48.000000  2020.000000     0.521867  ...   \n",
       "\n",
       "       Helthcare_2      Shops_1      Shops_2          Price  \\\n",
       "count  9985.000000  9985.000000  9985.000000    9985.000000   \n",
       "mean      1.319579     4.230546     0.917376  214097.678076   \n",
       "std       1.493617     4.804400     0.275327   92774.269739   \n",
       "min       0.000000     0.000000     0.000000   59174.778028   \n",
       "25%       0.000000     1.000000     1.000000  153912.044504   \n",
       "50%       1.000000     3.000000     1.000000  192302.751941   \n",
       "75%       2.000000     6.000000     1.000000  249114.537525   \n",
       "max       6.000000    23.000000     1.000000  633233.466570   \n",
       "\n",
       "       SqPriceByDistrict  isFirstFloor  isLastFloor    sqPerRoom        Class  \\\n",
       "count        9985.000000   9985.000000  9985.000000  9985.000000  9985.000000   \n",
       "mean         3927.752188      0.023335     0.090436    17.372413     0.302554   \n",
       "std           997.144114      0.150973     0.286819     5.747308     0.533811   \n",
       "min          2273.498737      0.000000     0.000000     0.333333     0.000000   \n",
       "25%          2938.048239      0.000000     0.000000    13.690663     0.000000   \n",
       "50%          4134.353749      0.000000     0.000000    16.173653     0.000000   \n",
       "75%          4562.026777      0.000000     0.000000    20.387521     1.000000   \n",
       "max          8700.768533      1.000000     1.000000    77.689747     2.000000   \n",
       "\n",
       "               Age  \n",
       "count  9985.000000  \n",
       "mean     35.143716  \n",
       "std      18.409218  \n",
       "min       0.000000  \n",
       "25%      19.000000  \n",
       "50%      43.000000  \n",
       "75%      46.000000  \n",
       "max     110.000000  \n",
       "\n",
       "[8 rows x 26 columns]"
      ]
     },
     "execution_count": 30,
     "metadata": {},
     "output_type": "execute_result"
    }
   ],
   "source": [
    "train_df.describe()"
   ]
  },
  {
   "cell_type": "markdown",
   "metadata": {
    "papermill": {
     "duration": 0.064949,
     "end_time": "2020-10-16T07:40:47.026875",
     "exception": false,
     "start_time": "2020-10-16T07:40:46.961926",
     "status": "completed"
    },
    "tags": []
   },
   "source": [
    "# 5. Отбор признаков"
   ]
  },
  {
   "cell_type": "code",
   "execution_count": 31,
   "metadata": {
    "execution": {
     "iopub.execute_input": "2020-10-16T07:40:47.166951Z",
     "iopub.status.busy": "2020-10-16T07:40:47.166112Z",
     "iopub.status.idle": "2020-10-16T07:40:47.168931Z",
     "shell.execute_reply": "2020-10-16T07:40:47.169506Z"
    },
    "papermill": {
     "duration": 0.076373,
     "end_time": "2020-10-16T07:40:47.169697",
     "exception": false,
     "start_time": "2020-10-16T07:40:47.093324",
     "status": "completed"
    },
    "tags": []
   },
   "outputs": [],
   "source": [
    "feature_names = ['Rooms', 'Square', 'LifeSquare', 'KitchenSquare', 'Floor', 'HouseFloor',\n",
    "                 'Ecology_1', 'Social_1', 'Social_2', 'Social_3',\n",
    "                 'Helthcare_2', 'Shops_1', 'Shops_2', 'Ecology_2', 'Ecology_3']\n",
    "\n",
    "new_feature_names = ['SqPriceByDistrict', 'isFirstFloor', 'isLastFloor', 'Class', 'Age']\n",
    "\n",
    "target_name = 'Price'"
   ]
  },
  {
   "cell_type": "code",
   "execution_count": 32,
   "metadata": {
    "execution": {
     "iopub.execute_input": "2020-10-16T07:40:47.308135Z",
     "iopub.status.busy": "2020-10-16T07:40:47.307336Z",
     "iopub.status.idle": "2020-10-16T07:40:47.316419Z",
     "shell.execute_reply": "2020-10-16T07:40:47.315625Z"
    },
    "papermill": {
     "duration": 0.081396,
     "end_time": "2020-10-16T07:40:47.316579",
     "exception": false,
     "start_time": "2020-10-16T07:40:47.235183",
     "status": "completed"
    },
    "tags": []
   },
   "outputs": [
    {
     "data": {
      "text/plain": [
       "Id                   0\n",
       "DistrictId           0\n",
       "Rooms                0\n",
       "Square               0\n",
       "LifeSquare           0\n",
       "KitchenSquare        0\n",
       "Floor                0\n",
       "HouseFloor           0\n",
       "HouseYear            0\n",
       "Ecology_1            0\n",
       "Ecology_2            0\n",
       "Ecology_3            0\n",
       "Social_1             0\n",
       "Social_2             0\n",
       "Social_3             0\n",
       "Healthcare_1         0\n",
       "Helthcare_2          0\n",
       "Shops_1              0\n",
       "Shops_2              0\n",
       "Price                0\n",
       "SqPriceByDistrict    0\n",
       "isFirstFloor         0\n",
       "isLastFloor          0\n",
       "sqPerRoom            0\n",
       "Class                0\n",
       "Age                  0\n",
       "dtype: int64"
      ]
     },
     "execution_count": 32,
     "metadata": {},
     "output_type": "execute_result"
    }
   ],
   "source": [
    "train_df.isna().sum()"
   ]
  },
  {
   "cell_type": "markdown",
   "metadata": {
    "papermill": {
     "duration": 0.065311,
     "end_time": "2020-10-16T07:40:47.448324",
     "exception": false,
     "start_time": "2020-10-16T07:40:47.383013",
     "status": "completed"
    },
    "tags": []
   },
   "source": [
    "# 6. Разбиение на train и test"
   ]
  },
  {
   "cell_type": "code",
   "execution_count": 33,
   "metadata": {
    "execution": {
     "iopub.execute_input": "2020-10-16T07:40:47.590952Z",
     "iopub.status.busy": "2020-10-16T07:40:47.589907Z",
     "iopub.status.idle": "2020-10-16T07:40:47.598623Z",
     "shell.execute_reply": "2020-10-16T07:40:47.597838Z"
    },
    "papermill": {
     "duration": 0.08468,
     "end_time": "2020-10-16T07:40:47.598779",
     "exception": false,
     "start_time": "2020-10-16T07:40:47.514099",
     "status": "completed"
    },
    "tags": []
   },
   "outputs": [],
   "source": [
    "X = train_df[feature_names + new_feature_names]\n",
    "y = train_df[target_name]\n",
    "\n",
    "test_df = test_df[feature_names + new_feature_names]\n",
    "X_train, X_test, y_train, y_test = train_test_split(X, y, test_size=0.33, shuffle=True, random_state=21)"
   ]
  },
  {
   "cell_type": "markdown",
   "metadata": {
    "papermill": {
     "duration": 0.06886,
     "end_time": "2020-10-16T07:40:47.734855",
     "exception": false,
     "start_time": "2020-10-16T07:40:47.665995",
     "status": "completed"
    },
    "tags": []
   },
   "source": [
    "# 7. Построение модели"
   ]
  },
  {
   "cell_type": "code",
   "execution_count": 34,
   "metadata": {
    "execution": {
     "iopub.execute_input": "2020-10-16T07:40:47.885204Z",
     "iopub.status.busy": "2020-10-16T07:40:47.884347Z",
     "iopub.status.idle": "2020-10-16T07:40:50.631584Z",
     "shell.execute_reply": "2020-10-16T07:40:50.630777Z"
    },
    "papermill": {
     "duration": 2.827853,
     "end_time": "2020-10-16T07:40:50.631739",
     "exception": false,
     "start_time": "2020-10-16T07:40:47.803886",
     "status": "completed"
    },
    "tags": []
   },
   "outputs": [
    {
     "name": "stdout",
     "output_type": "stream",
     "text": [
      "CPU times: user 2.74 s, sys: 0 ns, total: 2.74 s\n",
      "Wall time: 2.74 s\n"
     ]
    },
    {
     "data": {
      "text/plain": [
       "GradientBoostingRegressor(criterion='mse', max_depth=6, min_samples_leaf=7,\n",
       "                          random_state=42)"
      ]
     },
     "execution_count": 34,
     "metadata": {},
     "output_type": "execute_result"
    }
   ],
   "source": [
    "%%time\n",
    "def evaluate_preds(train_true_values, train_pred_values, test_true_values, test_pred_values):\n",
    "    print(\"Train R2:\\t\" + str(round(r2(train_true_values, train_pred_values), 3)))\n",
    "    print(\"Test R2:\\t\" + str(round(r2(test_true_values, test_pred_values), 3)))\n",
    "    \n",
    "    plt.figure(figsize=(18,10))\n",
    "    \n",
    "    plt.subplot(121)\n",
    "    sns.scatterplot(x=train_pred_values, y=train_true_values)\n",
    "    plt.xlabel('Predicted values')\n",
    "    plt.ylabel('True values')\n",
    "    plt.title('Train sample prediction')\n",
    "    \n",
    "    plt.subplot(122)\n",
    "    sns.scatterplot(x=test_pred_values, y=test_true_values)\n",
    "    plt.xlabel('Predicted values')\n",
    "    plt.ylabel('True values')\n",
    "    plt.title('Test sample prediction')\n",
    "\n",
    "    plt.show()\n",
    "\n",
    "gb_model = GradientBoostingRegressor(\n",
    "                                     min_samples_leaf=7,\n",
    "                                     random_state=42,  \n",
    "                                     n_estimators=100,\n",
    "                                     max_depth=6,\n",
    "                                     criterion='mse')\n",
    "\n",
    "gb_model.fit(X_train, y_train)"
   ]
  },
  {
   "cell_type": "markdown",
   "metadata": {
    "papermill": {
     "duration": 0.066815,
     "end_time": "2020-10-16T07:40:50.765984",
     "exception": false,
     "start_time": "2020-10-16T07:40:50.699169",
     "status": "completed"
    },
    "tags": []
   },
   "source": [
    "# 8. Оценка качества"
   ]
  },
  {
   "cell_type": "code",
   "execution_count": 35,
   "metadata": {
    "execution": {
     "iopub.execute_input": "2020-10-16T07:40:50.913779Z",
     "iopub.status.busy": "2020-10-16T07:40:50.912823Z",
     "iopub.status.idle": "2020-10-16T07:40:51.452670Z",
     "shell.execute_reply": "2020-10-16T07:40:51.453272Z"
    },
    "papermill": {
     "duration": 0.619922,
     "end_time": "2020-10-16T07:40:51.453467",
     "exception": false,
     "start_time": "2020-10-16T07:40:50.833545",
     "status": "completed"
    },
    "tags": []
   },
   "outputs": [
    {
     "name": "stdout",
     "output_type": "stream",
     "text": [
      "Train R2:\t0.885\n",
      "Test R2:\t0.76\n"
     ]
    },
    {
     "data": {
      "image/png": "[encoded data removed]",
      "text/plain": [
       "<Figure size 1296x720 with 2 Axes>"
      ]
     },
     "metadata": {
      "needs_background": "light"
     },
     "output_type": "display_data"
    }
   ],
   "source": [
    "y_train_preds = gb_model.predict(X_train)\n",
    "y_test_preds = gb_model.predict(X_test)\n",
    "\n",
    "evaluate_preds(y_train, y_train_preds, y_test, y_test_preds)"
   ]
  },
  {
   "cell_type": "markdown",
   "metadata": {
    "papermill": {
     "duration": 0.07216,
     "end_time": "2020-10-16T07:40:51.598672",
     "exception": false,
     "start_time": "2020-10-16T07:40:51.526512",
     "status": "completed"
    },
    "tags": []
   },
   "source": [
    "#### Кросс-валидация"
   ]
  },
  {
   "cell_type": "code",
   "execution_count": 36,
   "metadata": {
    "execution": {
     "iopub.execute_input": "2020-10-16T07:40:51.753911Z",
     "iopub.status.busy": "2020-10-16T07:40:51.753058Z",
     "iopub.status.idle": "2020-10-16T07:41:00.374981Z",
     "shell.execute_reply": "2020-10-16T07:41:00.374318Z"
    },
    "papermill": {
     "duration": 8.702984,
     "end_time": "2020-10-16T07:41:00.375134",
     "exception": false,
     "start_time": "2020-10-16T07:40:51.672150",
     "status": "completed"
    },
    "tags": []
   },
   "outputs": [
    {
     "data": {
      "text/plain": [
       "array([0.75571344, 0.76502286, 0.75154032])"
      ]
     },
     "execution_count": 36,
     "metadata": {},
     "output_type": "execute_result"
    }
   ],
   "source": [
    "cv_score = cross_val_score(gb_model, X, y, scoring='r2', cv=KFold(n_splits=3, shuffle=True, random_state=21))\n",
    "cv_score"
   ]
  },
  {
   "cell_type": "code",
   "execution_count": 37,
   "metadata": {
    "execution": {
     "iopub.execute_input": "2020-10-16T07:41:00.548752Z",
     "iopub.status.busy": "2020-10-16T07:41:00.547627Z",
     "iopub.status.idle": "2020-10-16T07:41:00.552801Z",
     "shell.execute_reply": "2020-10-16T07:41:00.551962Z"
    },
    "papermill": {
     "duration": 0.093656,
     "end_time": "2020-10-16T07:41:00.552954",
     "exception": false,
     "start_time": "2020-10-16T07:41:00.459298",
     "status": "completed"
    },
    "tags": []
   },
   "outputs": [
    {
     "data": {
      "text/plain": [
       "0.7574255395225752"
      ]
     },
     "execution_count": 37,
     "metadata": {},
     "output_type": "execute_result"
    }
   ],
   "source": [
    "cv_score.mean()"
   ]
  },
  {
   "cell_type": "code",
   "execution_count": 38,
   "metadata": {
    "execution": {
     "iopub.execute_input": "2020-10-16T07:41:00.709592Z",
     "iopub.status.busy": "2020-10-16T07:41:00.708763Z",
     "iopub.status.idle": "2020-10-16T07:41:00.728983Z",
     "shell.execute_reply": "2020-10-16T07:41:00.729740Z"
    },
    "papermill": {
     "duration": 0.102821,
     "end_time": "2020-10-16T07:41:00.729945",
     "exception": false,
     "start_time": "2020-10-16T07:41:00.627124",
     "status": "completed"
    },
    "tags": []
   },
   "outputs": [
    {
     "data": {
      "text/html": [
       "<div>\n",
       "<style scoped>\n",
       "    .dataframe tbody tr th:only-of-type {\n",
       "        vertical-align: middle;\n",
       "    }\n",
       "\n",
       "    .dataframe tbody tr th {\n",
       "        vertical-align: top;\n",
       "    }\n",
       "\n",
       "    .dataframe thead th {\n",
       "        text-align: right;\n",
       "    }\n",
       "</style>\n",
       "<table border=\"1\" class=\"dataframe\">\n",
       "  <thead>\n",
       "    <tr style=\"text-align: right;\">\n",
       "      <th></th>\n",
       "      <th>feature_name</th>\n",
       "      <th>importance</th>\n",
       "    </tr>\n",
       "  </thead>\n",
       "  <tbody>\n",
       "    <tr>\n",
       "      <th>1</th>\n",
       "      <td>Square</td>\n",
       "      <td>0.468728</td>\n",
       "    </tr>\n",
       "    <tr>\n",
       "      <th>15</th>\n",
       "      <td>SqPriceByDistrict</td>\n",
       "      <td>0.387067</td>\n",
       "    </tr>\n",
       "    <tr>\n",
       "      <th>19</th>\n",
       "      <td>Age</td>\n",
       "      <td>0.022161</td>\n",
       "    </tr>\n",
       "    <tr>\n",
       "      <th>3</th>\n",
       "      <td>KitchenSquare</td>\n",
       "      <td>0.018054</td>\n",
       "    </tr>\n",
       "    <tr>\n",
       "      <th>2</th>\n",
       "      <td>LifeSquare</td>\n",
       "      <td>0.015768</td>\n",
       "    </tr>\n",
       "    <tr>\n",
       "      <th>6</th>\n",
       "      <td>Ecology_1</td>\n",
       "      <td>0.015244</td>\n",
       "    </tr>\n",
       "    <tr>\n",
       "      <th>5</th>\n",
       "      <td>HouseFloor</td>\n",
       "      <td>0.014327</td>\n",
       "    </tr>\n",
       "    <tr>\n",
       "      <th>7</th>\n",
       "      <td>Social_1</td>\n",
       "      <td>0.012708</td>\n",
       "    </tr>\n",
       "    <tr>\n",
       "      <th>4</th>\n",
       "      <td>Floor</td>\n",
       "      <td>0.011077</td>\n",
       "    </tr>\n",
       "    <tr>\n",
       "      <th>8</th>\n",
       "      <td>Social_2</td>\n",
       "      <td>0.010805</td>\n",
       "    </tr>\n",
       "    <tr>\n",
       "      <th>9</th>\n",
       "      <td>Social_3</td>\n",
       "      <td>0.008002</td>\n",
       "    </tr>\n",
       "    <tr>\n",
       "      <th>0</th>\n",
       "      <td>Rooms</td>\n",
       "      <td>0.005261</td>\n",
       "    </tr>\n",
       "    <tr>\n",
       "      <th>11</th>\n",
       "      <td>Shops_1</td>\n",
       "      <td>0.004164</td>\n",
       "    </tr>\n",
       "    <tr>\n",
       "      <th>10</th>\n",
       "      <td>Helthcare_2</td>\n",
       "      <td>0.003541</td>\n",
       "    </tr>\n",
       "    <tr>\n",
       "      <th>18</th>\n",
       "      <td>Class</td>\n",
       "      <td>0.001894</td>\n",
       "    </tr>\n",
       "    <tr>\n",
       "      <th>12</th>\n",
       "      <td>Shops_2</td>\n",
       "      <td>0.000523</td>\n",
       "    </tr>\n",
       "    <tr>\n",
       "      <th>17</th>\n",
       "      <td>isLastFloor</td>\n",
       "      <td>0.000368</td>\n",
       "    </tr>\n",
       "    <tr>\n",
       "      <th>16</th>\n",
       "      <td>isFirstFloor</td>\n",
       "      <td>0.000185</td>\n",
       "    </tr>\n",
       "    <tr>\n",
       "      <th>14</th>\n",
       "      <td>Ecology_3</td>\n",
       "      <td>0.000124</td>\n",
       "    </tr>\n",
       "    <tr>\n",
       "      <th>13</th>\n",
       "      <td>Ecology_2</td>\n",
       "      <td>0.000000</td>\n",
       "    </tr>\n",
       "  </tbody>\n",
       "</table>\n",
       "</div>"
      ],
      "text/plain": [
       "         feature_name  importance\n",
       "1              Square    0.468728\n",
       "15  SqPriceByDistrict    0.387067\n",
       "19                Age    0.022161\n",
       "3       KitchenSquare    0.018054\n",
       "2          LifeSquare    0.015768\n",
       "6           Ecology_1    0.015244\n",
       "5          HouseFloor    0.014327\n",
       "7            Social_1    0.012708\n",
       "4               Floor    0.011077\n",
       "8            Social_2    0.010805\n",
       "9            Social_3    0.008002\n",
       "0               Rooms    0.005261\n",
       "11            Shops_1    0.004164\n",
       "10        Helthcare_2    0.003541\n",
       "18              Class    0.001894\n",
       "12            Shops_2    0.000523\n",
       "17        isLastFloor    0.000368\n",
       "16       isFirstFloor    0.000185\n",
       "14          Ecology_3    0.000124\n",
       "13          Ecology_2    0.000000"
      ]
     },
     "execution_count": 38,
     "metadata": {},
     "output_type": "execute_result"
    }
   ],
   "source": [
    "feature_importances = pd.DataFrame(zip(X_train.columns, gb_model.feature_importances_), \n",
    "                                   columns=['feature_name', 'importance'])\n",
    "\n",
    "feature_importances.sort_values(by='importance', ascending=False)"
   ]
  },
  {
   "cell_type": "markdown",
   "metadata": {
    "papermill": {
     "duration": 0.073821,
     "end_time": "2020-10-16T07:41:00.878819",
     "exception": false,
     "start_time": "2020-10-16T07:41:00.804998",
     "status": "completed"
    },
    "tags": []
   },
   "source": [
    "# 9. Внедрение модели"
   ]
  },
  {
   "cell_type": "code",
   "execution_count": 39,
   "metadata": {
    "execution": {
     "iopub.execute_input": "2020-10-16T07:41:01.036055Z",
     "iopub.status.busy": "2020-10-16T07:41:01.035115Z",
     "iopub.status.idle": "2020-10-16T07:41:01.052251Z",
     "shell.execute_reply": "2020-10-16T07:41:01.051539Z"
    },
    "papermill": {
     "duration": 0.098796,
     "end_time": "2020-10-16T07:41:01.052406",
     "exception": false,
     "start_time": "2020-10-16T07:41:00.953610",
     "status": "completed"
    },
    "tags": []
   },
   "outputs": [
    {
     "data": {
      "text/html": [
       "<div>\n",
       "<style scoped>\n",
       "    .dataframe tbody tr th:only-of-type {\n",
       "        vertical-align: middle;\n",
       "    }\n",
       "\n",
       "    .dataframe tbody tr th {\n",
       "        vertical-align: top;\n",
       "    }\n",
       "\n",
       "    .dataframe thead th {\n",
       "        text-align: right;\n",
       "    }\n",
       "</style>\n",
       "<table border=\"1\" class=\"dataframe\">\n",
       "  <thead>\n",
       "    <tr style=\"text-align: right;\">\n",
       "      <th></th>\n",
       "      <th>Id</th>\n",
       "      <th>Price</th>\n",
       "    </tr>\n",
       "  </thead>\n",
       "  <tbody>\n",
       "    <tr>\n",
       "      <th>0</th>\n",
       "      <td>4567</td>\n",
       "      <td>200000.0</td>\n",
       "    </tr>\n",
       "    <tr>\n",
       "      <th>1</th>\n",
       "      <td>5925</td>\n",
       "      <td>200000.0</td>\n",
       "    </tr>\n",
       "    <tr>\n",
       "      <th>2</th>\n",
       "      <td>960</td>\n",
       "      <td>200000.0</td>\n",
       "    </tr>\n",
       "    <tr>\n",
       "      <th>3</th>\n",
       "      <td>3848</td>\n",
       "      <td>200000.0</td>\n",
       "    </tr>\n",
       "    <tr>\n",
       "      <th>4</th>\n",
       "      <td>746</td>\n",
       "      <td>200000.0</td>\n",
       "    </tr>\n",
       "  </tbody>\n",
       "</table>\n",
       "</div>"
      ],
      "text/plain": [
       "     Id     Price\n",
       "0  4567  200000.0\n",
       "1  5925  200000.0\n",
       "2   960  200000.0\n",
       "3  3848  200000.0\n",
       "4   746  200000.0"
      ]
     },
     "execution_count": 39,
     "metadata": {},
     "output_type": "execute_result"
    }
   ],
   "source": [
    "submit = pd.read_csv('/kaggle/input/real-estate-price-prediction-moscow/sample_submission.csv')\n",
    "submit.head()"
   ]
  },
  {
   "cell_type": "code",
   "execution_count": 40,
   "metadata": {
    "execution": {
     "iopub.execute_input": "2020-10-16T07:41:01.218351Z",
     "iopub.status.busy": "2020-10-16T07:41:01.217572Z",
     "iopub.status.idle": "2020-10-16T07:41:01.226326Z",
     "shell.execute_reply": "2020-10-16T07:41:01.225554Z"
    },
    "papermill": {
     "duration": 0.091472,
     "end_time": "2020-10-16T07:41:01.226493",
     "exception": false,
     "start_time": "2020-10-16T07:41:01.135021",
     "status": "completed"
    },
    "tags": []
   },
   "outputs": [
    {
     "data": {
      "text/plain": [
       "Rooms                0\n",
       "Square               0\n",
       "LifeSquare           0\n",
       "KitchenSquare        0\n",
       "Floor                0\n",
       "HouseFloor           0\n",
       "Ecology_1            0\n",
       "Social_1             0\n",
       "Social_2             0\n",
       "Social_3             0\n",
       "Helthcare_2          0\n",
       "Shops_1              0\n",
       "Shops_2              0\n",
       "Ecology_2            0\n",
       "Ecology_3            0\n",
       "SqPriceByDistrict    0\n",
       "isFirstFloor         0\n",
       "isLastFloor          0\n",
       "Class                0\n",
       "Age                  0\n",
       "dtype: int64"
      ]
     },
     "execution_count": 40,
     "metadata": {},
     "output_type": "execute_result"
    }
   ],
   "source": [
    "test_df.isna().sum()"
   ]
  },
  {
   "cell_type": "code",
   "execution_count": 41,
   "metadata": {
    "execution": {
     "iopub.execute_input": "2020-10-16T07:41:01.389915Z",
     "iopub.status.busy": "2020-10-16T07:41:01.389059Z",
     "iopub.status.idle": "2020-10-16T07:41:01.410154Z",
     "shell.execute_reply": "2020-10-16T07:41:01.410786Z"
    },
    "papermill": {
     "duration": 0.106233,
     "end_time": "2020-10-16T07:41:01.410991",
     "exception": false,
     "start_time": "2020-10-16T07:41:01.304758",
     "status": "completed"
    },
    "tags": []
   },
   "outputs": [],
   "source": [
    "predictions = gb_model.predict(test_df)"
   ]
  },
  {
   "cell_type": "code",
   "execution_count": 42,
   "metadata": {
    "execution": {
     "iopub.execute_input": "2020-10-16T07:41:01.577054Z",
     "iopub.status.busy": "2020-10-16T07:41:01.570539Z",
     "iopub.status.idle": "2020-10-16T07:41:01.582696Z",
     "shell.execute_reply": "2020-10-16T07:41:01.582033Z"
    },
    "papermill": {
     "duration": 0.094635,
     "end_time": "2020-10-16T07:41:01.582853",
     "exception": false,
     "start_time": "2020-10-16T07:41:01.488218",
     "status": "completed"
    },
    "tags": []
   },
   "outputs": [
    {
     "data": {
      "text/html": [
       "<div>\n",
       "<style scoped>\n",
       "    .dataframe tbody tr th:only-of-type {\n",
       "        vertical-align: middle;\n",
       "    }\n",
       "\n",
       "    .dataframe tbody tr th {\n",
       "        vertical-align: top;\n",
       "    }\n",
       "\n",
       "    .dataframe thead th {\n",
       "        text-align: right;\n",
       "    }\n",
       "</style>\n",
       "<table border=\"1\" class=\"dataframe\">\n",
       "  <thead>\n",
       "    <tr style=\"text-align: right;\">\n",
       "      <th></th>\n",
       "      <th>Id</th>\n",
       "      <th>Price</th>\n",
       "    </tr>\n",
       "  </thead>\n",
       "  <tbody>\n",
       "    <tr>\n",
       "      <th>0</th>\n",
       "      <td>4567</td>\n",
       "      <td>172895.033229</td>\n",
       "    </tr>\n",
       "    <tr>\n",
       "      <th>1</th>\n",
       "      <td>5925</td>\n",
       "      <td>117394.427479</td>\n",
       "    </tr>\n",
       "    <tr>\n",
       "      <th>2</th>\n",
       "      <td>960</td>\n",
       "      <td>137913.571163</td>\n",
       "    </tr>\n",
       "    <tr>\n",
       "      <th>3</th>\n",
       "      <td>3848</td>\n",
       "      <td>105684.167548</td>\n",
       "    </tr>\n",
       "    <tr>\n",
       "      <th>4</th>\n",
       "      <td>746</td>\n",
       "      <td>183658.895616</td>\n",
       "    </tr>\n",
       "  </tbody>\n",
       "</table>\n",
       "</div>"
      ],
      "text/plain": [
       "     Id          Price\n",
       "0  4567  172895.033229\n",
       "1  5925  117394.427479\n",
       "2   960  137913.571163\n",
       "3  3848  105684.167548\n",
       "4   746  183658.895616"
      ]
     },
     "execution_count": 42,
     "metadata": {},
     "output_type": "execute_result"
    }
   ],
   "source": [
    "submit['Price'] = predictions\n",
    "submit.head()"
   ]
  },
  {
   "cell_type": "code",
   "execution_count": 43,
   "metadata": {
    "execution": {
     "iopub.execute_input": "2020-10-16T07:41:01.745194Z",
     "iopub.status.busy": "2020-10-16T07:41:01.744305Z",
     "iopub.status.idle": "2020-10-16T07:41:02.116105Z",
     "shell.execute_reply": "2020-10-16T07:41:02.115196Z"
    },
    "papermill": {
     "duration": 0.455897,
     "end_time": "2020-10-16T07:41:02.116262",
     "exception": false,
     "start_time": "2020-10-16T07:41:01.660365",
     "status": "completed"
    },
    "tags": []
   },
   "outputs": [],
   "source": [
    "submit.to_csv('gb_submit.csv', index=False)"
   ]
  },
  {
   "cell_type": "code",
   "execution_count": null,
   "metadata": {
    "papermill": {
     "duration": 0.081041,
     "end_time": "2020-10-16T07:41:02.275357",
     "exception": false,
     "start_time": "2020-10-16T07:41:02.194316",
     "status": "completed"
    },
    "tags": []
   },
   "outputs": [],
   "source": []
  }
 ],
 "metadata": {
  "kernelspec": {
   "display_name": "Python 3",
   "language": "python",
   "name": "python3"
  },
  "language_info": {
   "codemirror_mode": {
    "name": "ipython",
    "version": 3
   },
   "file_extension": ".py",
   "mimetype": "text/x-python",
   "name": "python",
   "nbconvert_exporter": "python",
   "pygments_lexer": "ipython3",
   "version": "3.7.6"
  },
  "papermill": {
   "duration": 31.226965,
   "end_time": "2020-10-16T07:41:03.399241",
   "environment_variables": {},
   "exception": null,
   "input_path": "__notebook__.ipynb",
   "output_path": "__notebook__.ipynb",
   "parameters": {},
   "start_time": "2020-10-16T07:40:32.172276",
   "version": "2.1.0"
  }
 },
 "nbformat": 4,
 "nbformat_minor": 4
}
