{
 "cells": [
  {
   "cell_type": "code",
   "execution_count": 1,
   "metadata": {},
   "outputs": [],
   "source": [
    "import pandas as pd\n",
    "import numpy as np\n",
    "import pickle\n",
    "from pathlib import Path\n",
    "\n",
    "from sklearn.model_selection import train_test_split, ShuffleSplit, cross_val_score, learning_curve\n",
    "from sklearn.metrics import classification_report, f1_score, precision_score, recall_score\n",
    "from sklearn.model_selection import GridSearchCV\n",
    "\n",
    "from sklearn.linear_model import LogisticRegression, LogisticRegressionCV\n",
    "from sklearn.ensemble import RandomForestClassifier\n",
    "from sklearn.ensemble import RandomForestRegressor\n",
    "from sklearn.ensemble import ExtraTreesClassifier\n",
    "from sklearn.preprocessing import StandardScaler\n",
    "from sklearn.tree import DecisionTreeClassifier\n",
    "from sklearn.linear_model import LogisticRegression\n",
    "from sklearn.neighbors import KNeighborsClassifier\n",
    "from sklearn.svm import SVC\n",
    "\n",
    "import seaborn as sns\n",
    "from matplotlib import pyplot as plt\n",
    "%matplotlib inline\n",
    "\n",
    "import warnings\n",
    "warnings.filterwarnings('ignore')"
   ]
  },
  {
   "cell_type": "code",
   "execution_count": 2,
   "metadata": {},
   "outputs": [],
   "source": [
    "INPUT_ROOT = Path('./input/gb-credit-default/')\n",
    "OUTPUT_ROOT = Path('./output/')\n",
    "\n",
    "#INPUT_ROOT = Path('/kaggle/input/gb-credit-default/')\n",
    "#OUTPUT_ROOT = Path('/kaggle/output/')"
   ]
  },
  {
   "cell_type": "code",
   "execution_count": 3,
   "metadata": {},
   "outputs": [],
   "source": [
    "def get_classification_report(y_train_true, y_train_pred, y_test_true, y_test_pred):\n",
    "    print('TRAIN\\n\\n' + classification_report(y_train_true, y_train_pred))\n",
    "    print('TEST\\n\\n' + classification_report(y_test_true, y_test_pred))\n",
    "    print('CONFUSION MATRIX\\n')\n",
    "    print(pd.crosstab(y_test_true, y_test_pred))\n",
    "    \n",
    "def evaluate_preds(model, X_train, X_test, y_train, y_test):\n",
    "    y_train_pred = model.predict(X_train)\n",
    "    y_test_pred = model.predict(X_test)\n",
    "\n",
    "    get_classification_report(y_train, y_train_pred, y_test, y_test_pred)"
   ]
  },
  {
   "cell_type": "markdown",
   "metadata": {},
   "source": [
    "# Курсовой проект\n",
    "\n",
    "## Задача\n",
    "\n",
    "Требуется, на основании имеющихся данных о клиентах банка, построить модель, используя обучающий датасет, для прогнозирования невыполнения долговых обязательств по текущему кредиту. Выполнить прогноз для примеров из тестового датасета.\n",
    "\n",
    "**Целевая переменная**\n",
    "\n",
    "Credit Default - факт невыполнения кредитных обязательств\n",
    "\n",
    "**Метрика качества**\n",
    "\n",
    "F1-score (sklearn.metrics.f1_score)\n",
    "\n",
    "**Требования к решению**\n",
    "\n",
    "*Целевая метрика*\n",
    "* F1 > 0.5\n",
    "* Метрика оценивается по качеству прогноза для главного класса (1 - просрочка по кредиту)\n",
    "\n",
    "*Решение должно содержать*\n",
    "1. Тетрадка Jupyter Notebook с кодом Вашего решения\n",
    "2. Укажите свой ник на kaggle\n",
    "\n",
    "*Рекомендации для файла с кодом (ipynb)*\n",
    "1. Файл должен содержать заголовки и комментарии (markdown)\n",
    "2. Повторяющиеся операции лучше оформлять в виде функций\n",
    "3. Не делать вывод большого количества строк таблиц (5-10 достаточно)\n",
    "4. По возможности добавлять графики, описывающие данные (около 3-5)\n",
    "5. Добавлять только лучшую модель, то есть не включать в код все варианты решения проекта\n",
    "6. Скрипт проекта должен отрабатывать от начала и до конца (от загрузки данных до выгрузки предсказаний)\n",
    "7. Весь проект должен быть в одном скрипте (файл ipynb).\n",
    "8. Допускается применение библиотек Python и моделей машинного обучения,\n",
    "которые были в данном курсе."
   ]
  },
  {
   "cell_type": "markdown",
   "metadata": {},
   "source": [
    "## 1. Обзор обучающего датасета\n",
    "\n",
    "Описание данных:\n",
    "* Home Ownership - домовладение\n",
    "* Annual Income - годовой доход\n",
    "* Years in current job - количество лет на текущем месте работы\n",
    "* Tax Liens - налоговые обременения\n",
    "* Number of Open Accounts - количество открытых счетов\n",
    "* Years of Credit History - количество лет кредитной истории\n",
    "* Maximum Open Credit - наибольший открытый кредит\n",
    "* Number of Credit Problems - количество проблем с кредитом\n",
    "* Months since last delinquent - количество месяцев с последней просрочки платежа\n",
    "* Bankruptcies - банкротства\n",
    "* Purpose - цель кредита\n",
    "* Term - срок кредита\n",
    "* Current Loan Amount - текущая сумма кредита\n",
    "* Current Credit Balance - текущий кредитный баланс\n",
    "* Monthly Debt - ежемесячный долг\n",
    "* Credit Score - баллы кредитного рейтинга\n",
    "* Credit Default - факт невыполнения кредитных обязательств (0 - погашен вовремя, 1 - просрочка)"
   ]
  },
  {
   "cell_type": "code",
   "execution_count": 4,
   "metadata": {
    "scrolled": true
   },
   "outputs": [
    {
     "name": "stdout",
     "output_type": "stream",
     "text": [
      "<class 'pandas.core.frame.DataFrame'>\n",
      "RangeIndex: 7500 entries, 0 to 7499\n",
      "Data columns (total 17 columns):\n",
      " #   Column                        Non-Null Count  Dtype  \n",
      "---  ------                        --------------  -----  \n",
      " 0   Home Ownership                7500 non-null   object \n",
      " 1   Annual Income                 5943 non-null   float64\n",
      " 2   Years in current job          7129 non-null   object \n",
      " 3   Tax Liens                     7500 non-null   float64\n",
      " 4   Number of Open Accounts       7500 non-null   float64\n",
      " 5   Years of Credit History       7500 non-null   float64\n",
      " 6   Maximum Open Credit           7500 non-null   float64\n",
      " 7   Number of Credit Problems     7500 non-null   float64\n",
      " 8   Months since last delinquent  3419 non-null   float64\n",
      " 9   Bankruptcies                  7486 non-null   float64\n",
      " 10  Purpose                       7500 non-null   object \n",
      " 11  Term                          7500 non-null   object \n",
      " 12  Current Loan Amount           7500 non-null   float64\n",
      " 13  Current Credit Balance        7500 non-null   float64\n",
      " 14  Monthly Debt                  7500 non-null   float64\n",
      " 15  Credit Score                  5943 non-null   float64\n",
      " 16  Credit Default                7500 non-null   int64  \n",
      "dtypes: float64(12), int64(1), object(4)\n",
      "memory usage: 996.2+ KB\n"
     ]
    }
   ],
   "source": [
    "# Загрузка данных\n",
    "\n",
    "df_train = pd.read_csv(INPUT_ROOT / 'train.csv')\n",
    "df_test = pd.read_csv(INPUT_ROOT / 'test.csv')\n",
    "df_submit = pd.read_csv(INPUT_ROOT / 'sample_submission.csv')\n",
    "\n",
    "df_train_orig = df_train.copy()\n",
    "df_test_orig = df_test.copy()\n",
    "\n",
    "TARGET_NAME = 'Credit Default'\n",
    "\n",
    "df_train.info()"
   ]
  },
  {
   "cell_type": "markdown",
   "metadata": {},
   "source": [
    "В среди данных мы видим 12 числовых признака, 4 категориальных и целевая переменная\n",
    "\n",
    "**Обзор целевой переменной**"
   ]
  },
  {
   "cell_type": "code",
   "execution_count": 5,
   "metadata": {},
   "outputs": [
    {
     "data": {
      "text/plain": [
       "0    5387\n",
       "1    2113\n",
       "Name: Credit Default, dtype: int64"
      ]
     },
     "execution_count": 5,
     "metadata": {},
     "output_type": "execute_result"
    },
    {
     "data": {
      "image/png": "[encoded data removed]",
      "text/plain": [
       "<Figure size 432x288 with 1 Axes>"
      ]
     },
     "metadata": {
      "needs_background": "light"
     },
     "output_type": "display_data"
    }
   ],
   "source": [
    "df_train['Credit Default'].hist()\n",
    "df_train['Credit Default'].value_counts()"
   ]
  },
  {
   "cell_type": "markdown",
   "metadata": {},
   "source": [
    "Мы видим явный дисбаланс классов.\n",
    "\n",
    "Всего 28% случаев 1-го класса, и 72% случаев нулевого.\n",
    "\n",
    "Учитывая, что для нас важно предсказание именно 1-го класса - это существенная проблема.\n",
    "\n",
    "При обучении мы воспользуемся одним из методов балансировки классов."
   ]
  },
  {
   "cell_type": "markdown",
   "metadata": {},
   "source": [
    "**Обзор числовых параметров**"
   ]
  },
  {
   "cell_type": "code",
   "execution_count": 6,
   "metadata": {},
   "outputs": [
    {
     "data": {
      "text/html": [
       "<div>\n",
       "<style scoped>\n",
       "    .dataframe tbody tr th:only-of-type {\n",
       "        vertical-align: middle;\n",
       "    }\n",
       "\n",
       "    .dataframe tbody tr th {\n",
       "        vertical-align: top;\n",
       "    }\n",
       "\n",
       "    .dataframe thead th {\n",
       "        text-align: right;\n",
       "    }\n",
       "</style>\n",
       "<table border=\"1\" class=\"dataframe\">\n",
       "  <thead>\n",
       "    <tr style=\"text-align: right;\">\n",
       "      <th></th>\n",
       "      <th>Annual Income</th>\n",
       "      <th>Tax Liens</th>\n",
       "      <th>Number of Open Accounts</th>\n",
       "      <th>Years of Credit History</th>\n",
       "      <th>Maximum Open Credit</th>\n",
       "      <th>Number of Credit Problems</th>\n",
       "      <th>Months since last delinquent</th>\n",
       "      <th>Bankruptcies</th>\n",
       "      <th>Current Loan Amount</th>\n",
       "      <th>Current Credit Balance</th>\n",
       "      <th>Monthly Debt</th>\n",
       "      <th>Credit Score</th>\n",
       "    </tr>\n",
       "  </thead>\n",
       "  <tbody>\n",
       "    <tr>\n",
       "      <th>count</th>\n",
       "      <td>5.943000e+03</td>\n",
       "      <td>7500.000000</td>\n",
       "      <td>7500.000000</td>\n",
       "      <td>7500.000000</td>\n",
       "      <td>7.500000e+03</td>\n",
       "      <td>7500.000000</td>\n",
       "      <td>3419.000000</td>\n",
       "      <td>7486.000000</td>\n",
       "      <td>7.500000e+03</td>\n",
       "      <td>7.500000e+03</td>\n",
       "      <td>7500.000000</td>\n",
       "      <td>5943.000000</td>\n",
       "    </tr>\n",
       "    <tr>\n",
       "      <th>mean</th>\n",
       "      <td>1.366392e+06</td>\n",
       "      <td>0.030133</td>\n",
       "      <td>11.130933</td>\n",
       "      <td>18.317467</td>\n",
       "      <td>9.451537e+05</td>\n",
       "      <td>0.170000</td>\n",
       "      <td>34.692600</td>\n",
       "      <td>0.117152</td>\n",
       "      <td>1.187318e+07</td>\n",
       "      <td>2.898332e+05</td>\n",
       "      <td>18314.454133</td>\n",
       "      <td>1151.087498</td>\n",
       "    </tr>\n",
       "    <tr>\n",
       "      <th>std</th>\n",
       "      <td>8.453392e+05</td>\n",
       "      <td>0.271604</td>\n",
       "      <td>4.908924</td>\n",
       "      <td>7.041946</td>\n",
       "      <td>1.602622e+07</td>\n",
       "      <td>0.498598</td>\n",
       "      <td>21.688806</td>\n",
       "      <td>0.347192</td>\n",
       "      <td>3.192612e+07</td>\n",
       "      <td>3.178714e+05</td>\n",
       "      <td>11926.764673</td>\n",
       "      <td>1604.451418</td>\n",
       "    </tr>\n",
       "    <tr>\n",
       "      <th>min</th>\n",
       "      <td>1.645970e+05</td>\n",
       "      <td>0.000000</td>\n",
       "      <td>2.000000</td>\n",
       "      <td>4.000000</td>\n",
       "      <td>0.000000e+00</td>\n",
       "      <td>0.000000</td>\n",
       "      <td>0.000000</td>\n",
       "      <td>0.000000</td>\n",
       "      <td>1.124200e+04</td>\n",
       "      <td>0.000000e+00</td>\n",
       "      <td>0.000000</td>\n",
       "      <td>585.000000</td>\n",
       "    </tr>\n",
       "    <tr>\n",
       "      <th>25%</th>\n",
       "      <td>8.443410e+05</td>\n",
       "      <td>0.000000</td>\n",
       "      <td>8.000000</td>\n",
       "      <td>13.500000</td>\n",
       "      <td>2.792295e+05</td>\n",
       "      <td>0.000000</td>\n",
       "      <td>16.000000</td>\n",
       "      <td>0.000000</td>\n",
       "      <td>1.801690e+05</td>\n",
       "      <td>1.142565e+05</td>\n",
       "      <td>10067.500000</td>\n",
       "      <td>711.000000</td>\n",
       "    </tr>\n",
       "    <tr>\n",
       "      <th>50%</th>\n",
       "      <td>1.168386e+06</td>\n",
       "      <td>0.000000</td>\n",
       "      <td>10.000000</td>\n",
       "      <td>17.000000</td>\n",
       "      <td>4.781590e+05</td>\n",
       "      <td>0.000000</td>\n",
       "      <td>32.000000</td>\n",
       "      <td>0.000000</td>\n",
       "      <td>3.095730e+05</td>\n",
       "      <td>2.093230e+05</td>\n",
       "      <td>16076.500000</td>\n",
       "      <td>731.000000</td>\n",
       "    </tr>\n",
       "    <tr>\n",
       "      <th>75%</th>\n",
       "      <td>1.640137e+06</td>\n",
       "      <td>0.000000</td>\n",
       "      <td>14.000000</td>\n",
       "      <td>21.800000</td>\n",
       "      <td>7.935015e+05</td>\n",
       "      <td>0.000000</td>\n",
       "      <td>50.000000</td>\n",
       "      <td>0.000000</td>\n",
       "      <td>5.198820e+05</td>\n",
       "      <td>3.604062e+05</td>\n",
       "      <td>23818.000000</td>\n",
       "      <td>743.000000</td>\n",
       "    </tr>\n",
       "    <tr>\n",
       "      <th>max</th>\n",
       "      <td>1.014934e+07</td>\n",
       "      <td>7.000000</td>\n",
       "      <td>43.000000</td>\n",
       "      <td>57.700000</td>\n",
       "      <td>1.304726e+09</td>\n",
       "      <td>7.000000</td>\n",
       "      <td>118.000000</td>\n",
       "      <td>4.000000</td>\n",
       "      <td>1.000000e+08</td>\n",
       "      <td>6.506797e+06</td>\n",
       "      <td>136679.000000</td>\n",
       "      <td>7510.000000</td>\n",
       "    </tr>\n",
       "  </tbody>\n",
       "</table>\n",
       "</div>"
      ],
      "text/plain": [
       "       Annual Income    Tax Liens  Number of Open Accounts  \\\n",
       "count   5.943000e+03  7500.000000              7500.000000   \n",
       "mean    1.366392e+06     0.030133                11.130933   \n",
       "std     8.453392e+05     0.271604                 4.908924   \n",
       "min     1.645970e+05     0.000000                 2.000000   \n",
       "25%     8.443410e+05     0.000000                 8.000000   \n",
       "50%     1.168386e+06     0.000000                10.000000   \n",
       "75%     1.640137e+06     0.000000                14.000000   \n",
       "max     1.014934e+07     7.000000                43.000000   \n",
       "\n",
       "       Years of Credit History  Maximum Open Credit  \\\n",
       "count              7500.000000         7.500000e+03   \n",
       "mean                 18.317467         9.451537e+05   \n",
       "std                   7.041946         1.602622e+07   \n",
       "min                   4.000000         0.000000e+00   \n",
       "25%                  13.500000         2.792295e+05   \n",
       "50%                  17.000000         4.781590e+05   \n",
       "75%                  21.800000         7.935015e+05   \n",
       "max                  57.700000         1.304726e+09   \n",
       "\n",
       "       Number of Credit Problems  Months since last delinquent  Bankruptcies  \\\n",
       "count                7500.000000                   3419.000000   7486.000000   \n",
       "mean                    0.170000                     34.692600      0.117152   \n",
       "std                     0.498598                     21.688806      0.347192   \n",
       "min                     0.000000                      0.000000      0.000000   \n",
       "25%                     0.000000                     16.000000      0.000000   \n",
       "50%                     0.000000                     32.000000      0.000000   \n",
       "75%                     0.000000                     50.000000      0.000000   \n",
       "max                     7.000000                    118.000000      4.000000   \n",
       "\n",
       "       Current Loan Amount  Current Credit Balance   Monthly Debt  \\\n",
       "count         7.500000e+03            7.500000e+03    7500.000000   \n",
       "mean          1.187318e+07            2.898332e+05   18314.454133   \n",
       "std           3.192612e+07            3.178714e+05   11926.764673   \n",
       "min           1.124200e+04            0.000000e+00       0.000000   \n",
       "25%           1.801690e+05            1.142565e+05   10067.500000   \n",
       "50%           3.095730e+05            2.093230e+05   16076.500000   \n",
       "75%           5.198820e+05            3.604062e+05   23818.000000   \n",
       "max           1.000000e+08            6.506797e+06  136679.000000   \n",
       "\n",
       "       Credit Score  \n",
       "count   5943.000000  \n",
       "mean    1151.087498  \n",
       "std     1604.451418  \n",
       "min      585.000000  \n",
       "25%      711.000000  \n",
       "50%      731.000000  \n",
       "75%      743.000000  \n",
       "max     7510.000000  "
      ]
     },
     "execution_count": 6,
     "metadata": {},
     "output_type": "execute_result"
    }
   ],
   "source": [
    "NUM_FEATURES_NAME = [\n",
    "    'Annual Income', 'Tax Liens', 'Number of Open Accounts', 'Years of Credit History',\n",
    "    'Maximum Open Credit', 'Number of Credit Problems', 'Months since last delinquent', 'Bankruptcies',\n",
    "    'Current Loan Amount', 'Current Credit Balance', 'Monthly Debt', 'Credit Score'\n",
    "]\n",
    "\n",
    "df_train[NUM_FEATURES_NAME].describe()"
   ]
  },
  {
   "cell_type": "code",
   "execution_count": 7,
   "metadata": {},
   "outputs": [
    {
     "data": {
      "text/plain": [
       "array([[<matplotlib.axes._subplots.AxesSubplot object at 0x000000000BF91A30>,\n",
       "        <matplotlib.axes._subplots.AxesSubplot object at 0x000000000BFF9790>,\n",
       "        <matplotlib.axes._subplots.AxesSubplot object at 0x000000000C023C10>],\n",
       "       [<matplotlib.axes._subplots.AxesSubplot object at 0x000000000C04F100>,\n",
       "        <matplotlib.axes._subplots.AxesSubplot object at 0x000000000C0884F0>,\n",
       "        <matplotlib.axes._subplots.AxesSubplot object at 0x000000000C0B4880>],\n",
       "       [<matplotlib.axes._subplots.AxesSubplot object at 0x000000000C0B4970>,\n",
       "        <matplotlib.axes._subplots.AxesSubplot object at 0x000000000C0E4E50>,\n",
       "        <matplotlib.axes._subplots.AxesSubplot object at 0x000000000C1496A0>],\n",
       "       [<matplotlib.axes._subplots.AxesSubplot object at 0x000000000C176B20>,\n",
       "        <matplotlib.axes._subplots.AxesSubplot object at 0x000000000C1A2F70>,\n",
       "        <matplotlib.axes._subplots.AxesSubplot object at 0x000000000C1DB400>]],\n",
       "      dtype=object)"
      ]
     },
     "execution_count": 7,
     "metadata": {},
     "output_type": "execute_result"
    },
    {
     "data": {
      "image/png": "[encoded data removed]",
      "text/plain": [
       "<Figure size 1152x1152 with 12 Axes>"
      ]
     },
     "metadata": {
      "needs_background": "light"
     },
     "output_type": "display_data"
    }
   ],
   "source": [
    "df_train[NUM_FEATURES_NAME].hist(figsize=(16,16), bins=20, grid=False)"
   ]
  },
  {
   "cell_type": "markdown",
   "metadata": {},
   "source": [
    "Из графиков видно, что фичи: \n",
    "\n",
    "1) **Tax Liens, Bankruptcies** - их числовой характер не однозначен; \n",
    "\n",
    "**Будем рассматривать их как категориальные**\n",
    "\n",
    "2) **Months since last delinquent** - на распределении видны 2 или даже 3 пика и в то же время мы видим подозрительно мало значений в 0, хотя очевидно, что их должно быть большинство. \n",
    "\n",
    "**Что с этим делать - непонятно**\n",
    "\n",
    "3) **Maximum Open Credit, Current Loan Amount, Credit Score** - имеют необычное распределение, с пиком у нуля и экспоненциальным возрастанием. Скорее всего оно связано с большим числом людей без кредитов.\n",
    "\n",
    "**Первая идея для фичи - класс тех, кто обратился без кредитов**\n",
    "\n",
    "4) **Annual Income, Current Credit Balance, Monthly Debt** - графики распределений имеют длинный хвост.\n",
    "\n",
    "**Будем считать выбросами данные свыше 97%  квантиля и пересчитаем их через модель**\n",
    "\n",
    "5) **Monthly Debt, Annual Income** - есть схожесть распределения, но их влияние скорее всего глубже при совместном использовании.\n",
    "\n",
    "**Вторая идея для фичи - отношение ежемесячного дохода к ежемесячному платежу + разность ежемесячного дохода и ежемесячного платежа**\n",
    "\n",
    "6) **Number of Open Accounts, Years of Credit History** - отличные данные"
   ]
  },
  {
   "cell_type": "code",
   "execution_count": 8,
   "metadata": {},
   "outputs": [],
   "source": [
    "# числовых фич теперь - 12\n",
    "NUM_FEATURES_NAME = [\n",
    "    'Annual Income', 'Number of Open Accounts', 'Years of Credit History',\n",
    "    'Maximum Open Credit', 'Number of Credit Problems', 'Months since last delinquent',\n",
    "    'Current Loan Amount', 'Current Credit Balance', 'Monthly Debt', 'Credit Score'\n",
    "]"
   ]
  },
  {
   "cell_type": "code",
   "execution_count": 9,
   "metadata": {},
   "outputs": [],
   "source": [
    "X = df_train.drop(columns=[TARGET_NAME])\n",
    "y = df_train[TARGET_NAME]\n",
    "\n",
    "X_train, X_test, y_train, y_test = train_test_split(X, y, test_size=0.3, shuffle=True, random_state=1)\n",
    "\n",
    "\n",
    "df_train = pd.concat([X_train, y_train], axis=1)\n",
    "df_train_test = pd.concat([X_test, y_test], axis=1)\n"
   ]
  },
  {
   "cell_type": "markdown",
   "metadata": {},
   "source": [
    "**Обзор категориальных переменных**"
   ]
  },
  {
   "cell_type": "code",
   "execution_count": 10,
   "metadata": {},
   "outputs": [],
   "source": [
    "# категориальных - 6\n",
    "CAT_FEATURE_NAMES = ['Home Ownership', 'Years in current job', 'Purpose', 'Term','Tax Liens', 'Bankruptcies']\n",
    "\n",
    "# Метод по переводу фичи в категориальную\n",
    "def _convertFeatureToCat(df, colName):\n",
    "    return 'class - ' + df[colName].astype(str)\n",
    "\n",
    "# Приведение полей\n",
    "def processNumFeatures(df):\n",
    "    # переведем 2 фичи в категориальные\n",
    "    for colName in ['Tax Liens', 'Bankruptcies']:\n",
    "        df[colName] = _convertFeatureToCat(df, colName)\n",
    "    return df\n",
    "\n",
    "df_train = processNumFeatures(df_train)"
   ]
  },
  {
   "cell_type": "code",
   "execution_count": 11,
   "metadata": {},
   "outputs": [
    {
     "name": "stdout",
     "output_type": "stream",
     "text": [
      "Home Ownership\n",
      "\n",
      "Home Mortgage    2569\n",
      "Rent             2212\n",
      "Own Home          462\n",
      "Have Mortgage       7\n",
      "Name: Home Ownership, dtype: int64\n",
      "****************************************************************************************************\n",
      "\n",
      "Years in current job\n",
      "\n",
      "10+ years    1622\n",
      "2 years       496\n",
      "3 years       445\n",
      "< 1 year      387\n",
      "5 years       366\n",
      "1 year        357\n",
      "4 years       329\n",
      "6 years       300\n",
      "7 years       288\n",
      "8 years       235\n",
      "9 years       172\n",
      "Name: Years in current job, dtype: int64\n",
      "****************************************************************************************************\n",
      "\n",
      "Purpose\n",
      "\n",
      "debt consolidation      4145\n",
      "other                    444\n",
      "home improvements        311\n",
      "business loan             96\n",
      "buy a car                 72\n",
      "medical bills             54\n",
      "major purchase            32\n",
      "buy house                 24\n",
      "take a trip               23\n",
      "small business            18\n",
      "wedding                    9\n",
      "moving                     8\n",
      "educational expenses       7\n",
      "vacation                   5\n",
      "renewable energy           2\n",
      "Name: Purpose, dtype: int64\n",
      "****************************************************************************************************\n",
      "\n",
      "Term\n",
      "\n",
      "Short Term    3885\n",
      "Long Term     1365\n",
      "Name: Term, dtype: int64\n",
      "****************************************************************************************************\n",
      "\n",
      "Tax Liens\n",
      "\n",
      "class - 0.0    5152\n",
      "class - 1.0      58\n",
      "class - 2.0      24\n",
      "class - 3.0       8\n",
      "class - 4.0       5\n",
      "class - 6.0       2\n",
      "class - 5.0       1\n",
      "Name: Tax Liens, dtype: int64\n",
      "****************************************************************************************************\n",
      "\n",
      "Bankruptcies\n",
      "\n",
      "class - 0.0    4661\n",
      "class - 1.0     551\n",
      "class - 2.0      21\n",
      "class - nan      10\n",
      "class - 3.0       5\n",
      "class - 4.0       2\n",
      "Name: Bankruptcies, dtype: int64\n",
      "****************************************************************************************************\n",
      "\n"
     ]
    }
   ],
   "source": [
    "for featureName in CAT_FEATURE_NAMES:\n",
    "    print(str(featureName) + '\\n\\n' + str(df_train[featureName].value_counts()) + '\\n' + '*' * 100 + '\\n')"
   ]
  },
  {
   "cell_type": "markdown",
   "metadata": {},
   "source": [
    "Все признаки имеют ожидаемое распределение, рассмотрим их влияние на таргет:"
   ]
  },
  {
   "cell_type": "code",
   "execution_count": 12,
   "metadata": {},
   "outputs": [
    {
     "data": {
      "image/png": "[encoded data removed]",
      "text/plain": [
       "<Figure size 288x216 with 1 Axes>"
      ]
     },
     "metadata": {
      "needs_background": "light"
     },
     "output_type": "display_data"
    },
    {
     "data": {
      "image/png": "[encoded data removed]",
      "text/plain": [
       "<Figure size 288x216 with 1 Axes>"
      ]
     },
     "metadata": {
      "needs_background": "light"
     },
     "output_type": "display_data"
    },
    {
     "data": {
      "image/png": "[encoded data removed]",
      "text/plain": [
       "<Figure size 288x216 with 1 Axes>"
      ]
     },
     "metadata": {
      "needs_background": "light"
     },
     "output_type": "display_data"
    },
    {
     "data": {
      "image/png": "[encoded data removed]",
      "text/plain": [
       "<Figure size 288x216 with 1 Axes>"
      ]
     },
     "metadata": {
      "needs_background": "light"
     },
     "output_type": "display_data"
    },
    {
     "data": {
      "image/png": "[encoded data removed]",
      "text/plain": [
       "<Figure size 288x216 with 1 Axes>"
      ]
     },
     "metadata": {
      "needs_background": "light"
     },
     "output_type": "display_data"
    },
    {
     "data": {
      "image/png": "[encoded data removed]",
      "text/plain": [
       "<Figure size 288x216 with 1 Axes>"
      ]
     },
     "metadata": {
      "needs_background": "light"
     },
     "output_type": "display_data"
    }
   ],
   "source": [
    "for fn in CAT_FEATURE_NAMES:\n",
    "    plt.figure(figsize=(4, 3))\n",
    "    sns.pointplot(x=TARGET_NAME, y=fn, data=df_train.loc[~df_train[fn].isna()], capsize=.1)\n",
    "    plt.title(fn)\n",
    "    plt.show()"
   ]
  },
  {
   "cell_type": "markdown",
   "metadata": {},
   "source": [
    "Для категориальных признаков в основном будем применять метод oneHotEncoding, с небольшими поправками:\n",
    "\n",
    "1) **Tax Liens** - Сократим число классов до 3-х: {0,1}, {2,3,4,5} и {6,7}.\n",
    "\n",
    "2) **Purpose** - среди целей есть несколько целей, которые дают худший доверительный интервал (renewable energy, business loan и small business), а также одна цель, которая дает лучший результат по возвратам - educational expenses. Cократим число признаков до 3-х: education, bussines, others.\n",
    "\n",
    "3) **Term** - отличный разделяющий признак, применим к нему кодирование с упорядочиванием."
   ]
  },
  {
   "cell_type": "code",
   "execution_count": 13,
   "metadata": {},
   "outputs": [],
   "source": [
    "# Приведение категориальных полей\n",
    "def processCatFeatures(df):\n",
    "    # сократим число классов в Tax Liens\n",
    "    df['Tax Liens Encoded'] = '2-5'\n",
    "    df.loc[(df['Tax Liens']=='class - 0.0') | (df['Tax Liens']=='class - 1.0'),'Tax Liens Encoded'] = '0-1'\n",
    "    df.loc[(df['Tax Liens']=='class - 6.0') | (df['Tax Liens']=='class - 7.0'),'Tax Liens Encoded'] = '6-7'\n",
    "    \n",
    "    # сократим число классов в Purpose\n",
    "    df['Purpose Encoded'] = 'others'\n",
    "    df.loc[df['Purpose']=='educational expenses','Purpose Encoded'] = 'education'\n",
    "    df.loc[(df['Purpose']=='renewable energy') | (df['Purpose']=='business loan') | (df['Purpose']=='small business'),'Purpose Encoded'] = 'business'\n",
    "    \n",
    "    columnsBefore = df.columns\n",
    "    \n",
    "    # упорядочивание для фичи Short Term\n",
    "    df['Term Encoded'] = 0\n",
    "    df.loc[df['Term']=='Long Term','Term Encoded'] = 1\n",
    "    \n",
    "    # Для остальных oneHotEncoding\n",
    "    OneHotColumns = ['Home Ownership', 'Years in current job', 'Purpose Encoded', 'Tax Liens Encoded', 'Bankruptcies']\n",
    "    for columnName in OneHotColumns:\n",
    "        df = pd.concat([df, pd.get_dummies(df[columnName], prefix=columnName)], axis=1)\n",
    "    \n",
    "    return df, list(set(df.columns) - set(columnsBefore))\n",
    "\n",
    "df_train, newFields = processCatFeatures(df_train)\n",
    "NUM_FEATURES_NAME = NUM_FEATURES_NAME + newFields\n",
    "CAT_FEATURE_NAMES = CAT_FEATURE_NAMES + ['Purpose Encoded', 'Tax Liens Encoded']"
   ]
  },
  {
   "cell_type": "markdown",
   "metadata": {},
   "source": [
    "## 2. Обработка выбросов\n"
   ]
  },
  {
   "cell_type": "markdown",
   "metadata": {},
   "source": [
    "В данных не наблюдается большого количества выбросов, поэтому как-то специально обработывать их не будем и обработаем в рамках работы с пропусками.\n",
    "\n",
    "Заменим все что больше квантиля 97% для колонок Annual Income, Current Credit Balance, Monthly Debt пропусками."
   ]
  },
  {
   "cell_type": "code",
   "execution_count": 14,
   "metadata": {},
   "outputs": [],
   "source": [
    "# Метод по обрезке фич по уровню 97%\n",
    "def _cutFeatureToQuant(df, colName, quantile=0.97):\n",
    "    df = df.copy()\n",
    "    threshold = df[colName].quantile(quantile)\n",
    "    df.loc[df[colName] > threshold, colName] = np.nan\n",
    "    return df[colName];\n",
    "\n",
    "# обработка выбросов\n",
    "def processOutlier(df):\n",
    "    TO_BIG_VALUES_COLUMNS = ['Annual Income', 'Current Credit Balance', 'Monthly Debt']\n",
    "\n",
    "    for colName in TO_BIG_VALUES_COLUMNS:\n",
    "        df[colName] = _cutFeatureToQuant(df, colName, 0.97)\n",
    "    \n",
    "    return df\n",
    "\n",
    "df_train = processOutlier(df_train)"
   ]
  },
  {
   "cell_type": "markdown",
   "metadata": {},
   "source": [
    "## 3. Обработка пропусков\n"
   ]
  },
  {
   "cell_type": "markdown",
   "metadata": {},
   "source": [
    "Рассмотрим сколько у нас пропусков."
   ]
  },
  {
   "cell_type": "code",
   "execution_count": 15,
   "metadata": {},
   "outputs": [
    {
     "data": {
      "text/plain": [
       "Home Ownership                       0\n",
       "Annual Income                     1199\n",
       "Years in current job               253\n",
       "Tax Liens                            0\n",
       "Number of Open Accounts              0\n",
       "Years of Credit History              0\n",
       "Maximum Open Credit                  0\n",
       "Number of Credit Problems            0\n",
       "Months since last delinquent      2833\n",
       "Bankruptcies                         0\n",
       "Purpose                              0\n",
       "Term                                 0\n",
       "Current Loan Amount                  0\n",
       "Current Credit Balance             158\n",
       "Monthly Debt                       158\n",
       "Credit Score                      1073\n",
       "Credit Default                       0\n",
       "Tax Liens Encoded                    0\n",
       "Purpose Encoded                      0\n",
       "Term Encoded                         0\n",
       "Home Ownership_Have Mortgage         0\n",
       "Home Ownership_Home Mortgage         0\n",
       "Home Ownership_Own Home              0\n",
       "Home Ownership_Rent                  0\n",
       "Years in current job_1 year          0\n",
       "Years in current job_10+ years       0\n",
       "Years in current job_2 years         0\n",
       "Years in current job_3 years         0\n",
       "Years in current job_4 years         0\n",
       "Years in current job_5 years         0\n",
       "Years in current job_6 years         0\n",
       "Years in current job_7 years         0\n",
       "Years in current job_8 years         0\n",
       "Years in current job_9 years         0\n",
       "Years in current job_< 1 year        0\n",
       "Purpose Encoded_business             0\n",
       "Purpose Encoded_education            0\n",
       "Purpose Encoded_others               0\n",
       "Tax Liens Encoded_0-1                0\n",
       "Tax Liens Encoded_2-5                0\n",
       "Tax Liens Encoded_6-7                0\n",
       "Bankruptcies_class - 0.0             0\n",
       "Bankruptcies_class - 1.0             0\n",
       "Bankruptcies_class - 2.0             0\n",
       "Bankruptcies_class - 3.0             0\n",
       "Bankruptcies_class - 4.0             0\n",
       "Bankruptcies_class - nan             0\n",
       "dtype: int64"
      ]
     },
     "execution_count": 15,
     "metadata": {},
     "output_type": "execute_result"
    }
   ],
   "source": [
    "df_train.isna().sum()"
   ]
  },
  {
   "cell_type": "markdown",
   "metadata": {},
   "source": [
    "1) **Years in current job** - Категориальный признак с ним поступим просто - введением новой категории.\n",
    "\n",
    "2) **Months since last delinquent** - признак числовой, но пропущеных значений слишком много, чтобы мы могли попытаться предсказать их. Если мы вспомним график распределений, то там как раз не хватало большого количества нулевых значений.\n",
    "\n",
    "**Скорее всего nan и есть те недостающие нули проставим их. Но на всякий случай добавим еще одну фичу-флаг пропуска в этом поле.**\n",
    "\n",
    "3) **Credit Score, Annual Income, Current Credit Balance, Monthly Debt** - пропусков много, но скорее всего данных будет достаточно чтобы предсказать кредитный рейтинг.\n",
    "\n",
    "**Предскажем пропуски на основе модели**"
   ]
  },
  {
   "cell_type": "code",
   "execution_count": 16,
   "metadata": {},
   "outputs": [
    {
     "name": "stderr",
     "output_type": "stream",
     "text": [
      "[Parallel(n_jobs=1)]: Using backend SequentialBackend with 1 concurrent workers.\n",
      "[Parallel(n_jobs=1)]: Done 100 out of 100 | elapsed:    1.2s finished\n",
      "[Parallel(n_jobs=1)]: Using backend SequentialBackend with 1 concurrent workers.\n",
      "[Parallel(n_jobs=1)]: Done 100 out of 100 | elapsed:    0.0s finished\n",
      "[Parallel(n_jobs=1)]: Using backend SequentialBackend with 1 concurrent workers.\n",
      "[Parallel(n_jobs=1)]: Done 100 out of 100 | elapsed:    1.4s finished\n",
      "[Parallel(n_jobs=1)]: Using backend SequentialBackend with 1 concurrent workers.\n",
      "[Parallel(n_jobs=1)]: Done 100 out of 100 | elapsed:    0.0s finished\n",
      "[Parallel(n_jobs=1)]: Using backend SequentialBackend with 1 concurrent workers.\n",
      "[Parallel(n_jobs=1)]: Done 100 out of 100 | elapsed:    1.3s finished\n",
      "[Parallel(n_jobs=1)]: Using backend SequentialBackend with 1 concurrent workers.\n",
      "[Parallel(n_jobs=1)]: Done 100 out of 100 | elapsed:    0.0s finished\n",
      "[Parallel(n_jobs=1)]: Using backend SequentialBackend with 1 concurrent workers.\n",
      "[Parallel(n_jobs=1)]: Done 100 out of 100 | elapsed:    1.4s finished\n",
      "[Parallel(n_jobs=1)]: Using backend SequentialBackend with 1 concurrent workers.\n",
      "[Parallel(n_jobs=1)]: Done 100 out of 100 | elapsed:    0.0s finished\n"
     ]
    }
   ],
   "source": [
    "# заполняем пропуск новым значением\n",
    "def _fillNan(df, colName, value='nan class'):\n",
    "    df = df.copy()\n",
    "    df.loc[df[colName].isna(), colName] = value\n",
    "    return df[colName]\n",
    "\n",
    "# заполняем пропуск новой фичей\n",
    "def _addNanFeature(df, colName, featureName='nan'):\n",
    "    df = df.copy()\n",
    "    df[featureName] = 0\n",
    "    df.loc[df[colName].isna(), featureName] = 1\n",
    "    return df[featureName]\n",
    "\n",
    "# заполняем пропуск данными с модели\n",
    "def _predictNan(df, colName, predictModel, catFeatures = []):\n",
    "    predict_data = df.loc[df[colName].isna()]\n",
    "    predict_data = predict_data.drop(columns=catFeatures)\n",
    "    predict_data = predict_data.drop(columns=colName)\n",
    "    return list(predictModel.predict(predict_data))\n",
    "\n",
    "# обучение модели\n",
    "def _getFeatureModel(df, colName, catFeatures = []):\n",
    "    df = df.copy()\n",
    "    \n",
    "    df = df.drop(columns=catFeatures)\n",
    "    features = df.columns\n",
    "    \n",
    "    df = df[features]\n",
    "    \n",
    "    train = df[~df[colName].isna()]\n",
    "    predict_data = df[df[colName].isna()]\n",
    "\n",
    "    X = train.drop(columns=colName)\n",
    "    y = train[colName]\n",
    "    \n",
    "    X_train, X_test, y_train, y_test = train_test_split(X, y,\n",
    "                                                        test_size=0.2,\n",
    "                                                        shuffle=True,\n",
    "                                                        random_state=32)\n",
    "    \n",
    "    model = RandomForestRegressor(n_estimators=100,\n",
    "                                  max_depth=10,\n",
    "                                  random_state=42,\n",
    "                                  verbose=1)\n",
    "    model.fit(X_train, y_train)\n",
    "    return model\n",
    "\n",
    "# Обработка пропусков\n",
    "def processNan(df):\n",
    "    df['Years in current job'] = _fillNan(df, 'Years in current job', 'nan class');\n",
    "    df['Months since last delinquent - error'] = _addNanFeature(df, 'Months since last delinquent', 'Months since last delinquent - error');\n",
    "    df['Months since last delinquent'] = _fillNan(df, 'Months since last delinquent', 0);\n",
    "\n",
    "    fn = 'Current Credit Balance'\n",
    "    if (df[fn].isna().sum()>0):\n",
    "        nanFields = ['Annual Income', 'Credit Score', 'Monthly Debt']\n",
    "        df.loc[df[fn].isna(), fn] = _predictNan(df, fn, _getFeatureModel(df, fn, CAT_FEATURE_NAMES+nanFields), CAT_FEATURE_NAMES+nanFields);\n",
    "    fn = 'Monthly Debt'\n",
    "    if (df[fn].isna().sum()>0):\n",
    "        nanFields = ['Annual Income', 'Credit Score']\n",
    "        df.loc[df[fn].isna(), fn] = _predictNan(df, fn, _getFeatureModel(df, fn, CAT_FEATURE_NAMES+nanFields), CAT_FEATURE_NAMES+nanFields);\n",
    "\n",
    "    fn = 'Annual Income'\n",
    "    if (df[fn].isna().sum()>0):\n",
    "        nanFields = ['Credit Score']\n",
    "        df.loc[df[fn].isna(), fn] = _predictNan(df, fn, _getFeatureModel(df, fn, CAT_FEATURE_NAMES+nanFields), CAT_FEATURE_NAMES+nanFields);\n",
    "    \n",
    "    fn = 'Credit Score'\n",
    "    if (df[fn].isna().sum()>0):\n",
    "        nanFields = []\n",
    "        df.loc[df[fn].isna(), fn] = _predictNan(df, fn, _getFeatureModel(df, fn, CAT_FEATURE_NAMES+nanFields), CAT_FEATURE_NAMES+nanFields);\n",
    "        \n",
    "    return df\n",
    "\n",
    "df_train = processNan(df_train)"
   ]
  },
  {
   "cell_type": "code",
   "execution_count": 17,
   "metadata": {},
   "outputs": [
    {
     "data": {
      "text/plain": [
       "0"
      ]
     },
     "execution_count": 17,
     "metadata": {},
     "output_type": "execute_result"
    }
   ],
   "source": [
    "df_train.isna().sum().sum()"
   ]
  },
  {
   "cell_type": "markdown",
   "metadata": {},
   "source": [
    "## 4. Анализ данных\n"
   ]
  },
  {
   "cell_type": "markdown",
   "metadata": {},
   "source": [
    "**Корреляция с признаками**"
   ]
  },
  {
   "cell_type": "code",
   "execution_count": 18,
   "metadata": {},
   "outputs": [
    {
     "data": {
      "image/png": "[encoded data removed]",
      "text/plain": [
       "<Figure size 720x576 with 1 Axes>"
      ]
     },
     "metadata": {
      "needs_background": "light"
     },
     "output_type": "display_data"
    }
   ],
   "source": [
    "corr_with_target = df_train[NUM_FEATURES_NAME + CAT_FEATURE_NAMES + [TARGET_NAME]].corr().iloc[:-1, -1].sort_values(ascending=False)\n",
    "\n",
    "plt.figure(figsize=(10, 8))\n",
    "\n",
    "sns.barplot(x=corr_with_target.values, y=corr_with_target.index)\n",
    "\n",
    "plt.title('Correlation with target variable')\n",
    "plt.show()"
   ]
  },
  {
   "cell_type": "markdown",
   "metadata": {},
   "source": [
    "Из графика корреляции мы видим, что есть 2 совершенно бесполезных признака:\n",
    "Years in current job и Bankruptcies.\n",
    "\n",
    "Также не вносит существенного вклада и Current Credit Balance"
   ]
  },
  {
   "cell_type": "code",
   "execution_count": 19,
   "metadata": {},
   "outputs": [],
   "source": [
    "# бесполезные фичи, которые исключаем из обучения\n",
    "USELESS_FEATURES = [\n",
    "    'Years in current job_1 year',\n",
    "    'Years in current job_10+ years',\n",
    "    'Years in current job_2 years',\n",
    "    'Years in current job_3 years', \n",
    "    'Years in current job_4 years', \n",
    "    'Years in current job_5 years', \n",
    "    'Years in current job_6 years', \n",
    "    'Years in current job_7 years', \n",
    "    'Years in current job_8 years', \n",
    "    'Years in current job_9 years', \n",
    "    'Years in current job_< 1 year',\n",
    "    'Bankruptcies_class - 0.0',\n",
    "    'Bankruptcies_class - 1.0',\n",
    "    'Bankruptcies_class - 2.0',\n",
    "    'Bankruptcies_class - 3.0',\n",
    "    'Bankruptcies_class - 4.0',\n",
    "    'Bankruptcies_class - nan',\n",
    "    'Current Credit Balance'\n",
    "]"
   ]
  },
  {
   "cell_type": "markdown",
   "metadata": {},
   "source": [
    "## 5. Отбор признаков\n"
   ]
  },
  {
   "cell_type": "markdown",
   "metadata": {},
   "source": [
    "**Новые фичи**\n",
    "\n",
    "* Добавим фичу \"без кредитов\" - отсутствие текущих кредитов\n",
    "* Добавим фичу \"Отношение платежа к ежемесячному доходу\"\n",
    "* Добавим фичу \"Разность ежемесячного дохода и платежа\""
   ]
  },
  {
   "cell_type": "code",
   "execution_count": 20,
   "metadata": {},
   "outputs": [],
   "source": [
    "# добавляем фичи\n",
    "def addFeatures(df):\n",
    "    # без кредитов\n",
    "    df['New'] = 0\n",
    "    df.loc[df['Maximum Open Credit']==0, 'New'] = 1\n",
    "    \n",
    "    # Отношение платежа к ежемесячному доходу\n",
    "    df['DebtPercent'] = 12*df['Monthly Debt'] / df['Annual Income']\n",
    "    \n",
    "    # Разность ежемесячного дохода и платежа\n",
    "    df['DebtDiff'] = df['Annual Income'] / 12 - df['Monthly Debt']\n",
    "    \n",
    "    return df\n",
    "\n",
    "df_train = addFeatures(df_train)"
   ]
  },
  {
   "cell_type": "code",
   "execution_count": 21,
   "metadata": {},
   "outputs": [],
   "source": [
    "# Отбор признаков\n",
    "def getFeatures(df):\n",
    "    df = df.copy()\n",
    "    return df.drop(columns=[TARGET_NAME] + CAT_FEATURE_NAMES + USELESS_FEATURES)"
   ]
  },
  {
   "cell_type": "markdown",
   "metadata": {},
   "source": [
    "## 6. Балансировка классов\n"
   ]
  },
  {
   "cell_type": "markdown",
   "metadata": {},
   "source": [
    "Классы ужасно не сбалансированны, а нам важен \"слабый\" класс, поэтому добавим балансировку по прицнципу oversampling (undersdampling был хуже)"
   ]
  },
  {
   "cell_type": "code",
   "execution_count": 22,
   "metadata": {},
   "outputs": [],
   "source": [
    "# балансировка черех overSampling\n",
    "def processBalance(X_train, y_train, target_name):\n",
    "    df = pd.concat([X_train, y_train], axis=1)\n",
    "    target_counts = df[target_name].value_counts()\n",
    "\n",
    "    major_class_name = target_counts.argmax()\n",
    "    minor_class_name = target_counts.argmin()\n",
    "\n",
    "    disbalance_coeff = int(target_counts[major_class_name] / target_counts[minor_class_name]) - 1\n",
    "    for i in range(disbalance_coeff):\n",
    "        sample = df[df[target_name] == minor_class_name].sample(target_counts[minor_class_name])\n",
    "        df = df.append(sample, ignore_index=True)\n",
    "        \n",
    "    X_train_balanced = df.drop(columns=target_name)\n",
    "    y_train_balanced = df[target_name]\n",
    "    \n",
    "    return X_train_balanced, y_train_balanced"
   ]
  },
  {
   "cell_type": "markdown",
   "metadata": {},
   "source": [
    "## 7. Подбор моделей, получение бейзлана\n"
   ]
  },
  {
   "cell_type": "code",
   "execution_count": 23,
   "metadata": {},
   "outputs": [
    {
     "data": {
      "text/plain": [
       "RandomForestClassifier()"
      ]
     },
     "execution_count": 23,
     "metadata": {},
     "output_type": "execute_result"
    }
   ],
   "source": [
    "X_train = getFeatures(df_train)\n",
    "y_train = df_train[TARGET_NAME]\n",
    "\n",
    "X_train, y_train = processBalance(X_train, y_train, TARGET_NAME)\n",
    "\n",
    "# создаем копию нормализованных данных\n",
    "scaler = StandardScaler()\n",
    "X_train_norm = X_train.copy()\n",
    "X_train_norm = scaler.fit_transform(X_train_norm)\n",
    "\n",
    "# линейные модели\n",
    "model_lr = LogisticRegression()\n",
    "model_lr.fit(X_train_norm, y_train)\n",
    "\n",
    "model_lr2 = LogisticRegressionCV()\n",
    "model_lr2.fit(X_train_norm, y_train)\n",
    "\n",
    "# knn\n",
    "model_knn = KNeighborsClassifier()\n",
    "model_knn.fit(X_train_norm, y_train)\n",
    "\n",
    "# деревья\n",
    "model_tree = DecisionTreeClassifier()\n",
    "model_tree.fit(X_train, y_train)\n",
    "\n",
    "# Ансамбли\n",
    "model_en = ExtraTreesClassifier()\n",
    "model_en.fit(X_train, y_train)\n",
    "\n",
    "model_en2 = RandomForestClassifier()\n",
    "model_en2.fit(X_train, y_train)"
   ]
  },
  {
   "cell_type": "code",
   "execution_count": 24,
   "metadata": {},
   "outputs": [
    {
     "name": "stderr",
     "output_type": "stream",
     "text": [
      "[Parallel(n_jobs=1)]: Using backend SequentialBackend with 1 concurrent workers.\n",
      "[Parallel(n_jobs=1)]: Done 100 out of 100 | elapsed:    0.5s finished\n",
      "[Parallel(n_jobs=1)]: Using backend SequentialBackend with 1 concurrent workers.\n",
      "[Parallel(n_jobs=1)]: Done 100 out of 100 | elapsed:    0.0s finished\n",
      "[Parallel(n_jobs=1)]: Using backend SequentialBackend with 1 concurrent workers.\n",
      "[Parallel(n_jobs=1)]: Done 100 out of 100 | elapsed:    0.6s finished\n",
      "[Parallel(n_jobs=1)]: Using backend SequentialBackend with 1 concurrent workers.\n",
      "[Parallel(n_jobs=1)]: Done 100 out of 100 | elapsed:    0.0s finished\n",
      "[Parallel(n_jobs=1)]: Using backend SequentialBackend with 1 concurrent workers.\n",
      "[Parallel(n_jobs=1)]: Done 100 out of 100 | elapsed:    0.5s finished\n",
      "[Parallel(n_jobs=1)]: Using backend SequentialBackend with 1 concurrent workers.\n",
      "[Parallel(n_jobs=1)]: Done 100 out of 100 | elapsed:    0.0s finished\n",
      "[Parallel(n_jobs=1)]: Using backend SequentialBackend with 1 concurrent workers.\n",
      "[Parallel(n_jobs=1)]: Done 100 out of 100 | elapsed:    0.5s finished\n",
      "[Parallel(n_jobs=1)]: Using backend SequentialBackend with 1 concurrent workers.\n",
      "[Parallel(n_jobs=1)]: Done 100 out of 100 | elapsed:    0.0s finished\n"
     ]
    }
   ],
   "source": [
    "# Проверяем модели\n",
    "df = df_train_test.copy()\n",
    "df = processNumFeatures(df)\n",
    "df, newFields = processCatFeatures(df)\n",
    "df = processOutlier(df)\n",
    "df = processNan(df)\n",
    "\n",
    "df = addFeatures(df)\n",
    "\n",
    "X_test = df[getFeatures(df_train).columns]\n",
    "y_test = df[TARGET_NAME]\n",
    "\n",
    "# создаем копию нормализованных данных\n",
    "scaler = StandardScaler()\n",
    "X_test_norm = X_test.copy()\n",
    "X_test_norm = scaler.fit_transform(X_test_norm)"
   ]
  },
  {
   "cell_type": "code",
   "execution_count": 25,
   "metadata": {},
   "outputs": [
    {
     "name": "stdout",
     "output_type": "stream",
     "text": [
      "TRAIN\n",
      "\n",
      "              precision    recall  f1-score   support\n",
      "\n",
      "           0       0.74      0.91      0.81      3774\n",
      "           1       0.83      0.59      0.69      2952\n",
      "\n",
      "    accuracy                           0.77      6726\n",
      "   macro avg       0.79      0.75      0.75      6726\n",
      "weighted avg       0.78      0.77      0.76      6726\n",
      "\n",
      "TEST\n",
      "\n",
      "              precision    recall  f1-score   support\n",
      "\n",
      "           0       0.88      0.65      0.75      1613\n",
      "           1       0.47      0.78      0.59       637\n",
      "\n",
      "    accuracy                           0.69      2250\n",
      "   macro avg       0.68      0.72      0.67      2250\n",
      "weighted avg       0.77      0.69      0.70      2250\n",
      "\n",
      "CONFUSION MATRIX\n",
      "\n",
      "col_0              0    1\n",
      "Credit Default           \n",
      "0               1056  557\n",
      "1                141  496\n"
     ]
    }
   ],
   "source": [
    "evaluate_preds(model_lr, X_train_norm, X_test_norm, y_train, y_test)"
   ]
  },
  {
   "cell_type": "code",
   "execution_count": 26,
   "metadata": {},
   "outputs": [
    {
     "name": "stdout",
     "output_type": "stream",
     "text": [
      "TRAIN\n",
      "\n",
      "              precision    recall  f1-score   support\n",
      "\n",
      "           0       0.74      0.91      0.82      3774\n",
      "           1       0.83      0.59      0.69      2952\n",
      "\n",
      "    accuracy                           0.77      6726\n",
      "   macro avg       0.79      0.75      0.75      6726\n",
      "weighted avg       0.78      0.77      0.76      6726\n",
      "\n",
      "TEST\n",
      "\n",
      "              precision    recall  f1-score   support\n",
      "\n",
      "           0       0.88      0.71      0.78      1613\n",
      "           1       0.50      0.75      0.60       637\n",
      "\n",
      "    accuracy                           0.72      2250\n",
      "   macro avg       0.69      0.73      0.69      2250\n",
      "weighted avg       0.77      0.72      0.73      2250\n",
      "\n",
      "CONFUSION MATRIX\n",
      "\n",
      "col_0              0    1\n",
      "Credit Default           \n",
      "0               1138  475\n",
      "1                159  478\n"
     ]
    }
   ],
   "source": [
    "evaluate_preds(model_lr2, X_train_norm, X_test_norm, y_train, y_test)"
   ]
  },
  {
   "cell_type": "code",
   "execution_count": 27,
   "metadata": {},
   "outputs": [
    {
     "name": "stdout",
     "output_type": "stream",
     "text": [
      "TRAIN\n",
      "\n",
      "              precision    recall  f1-score   support\n",
      "\n",
      "           0       0.81      0.89      0.85      3774\n",
      "           1       0.84      0.73      0.78      2952\n",
      "\n",
      "    accuracy                           0.82      6726\n",
      "   macro avg       0.82      0.81      0.81      6726\n",
      "weighted avg       0.82      0.82      0.82      6726\n",
      "\n",
      "TEST\n",
      "\n",
      "              precision    recall  f1-score   support\n",
      "\n",
      "           0       0.82      0.83      0.82      1613\n",
      "           1       0.55      0.54      0.54       637\n",
      "\n",
      "    accuracy                           0.74      2250\n",
      "   macro avg       0.68      0.68      0.68      2250\n",
      "weighted avg       0.74      0.74      0.74      2250\n",
      "\n",
      "CONFUSION MATRIX\n",
      "\n",
      "col_0              0    1\n",
      "Credit Default           \n",
      "0               1334  279\n",
      "1                295  342\n"
     ]
    }
   ],
   "source": [
    "evaluate_preds(model_knn, X_train_norm, X_test_norm, y_train, y_test)"
   ]
  },
  {
   "cell_type": "code",
   "execution_count": 28,
   "metadata": {},
   "outputs": [
    {
     "name": "stdout",
     "output_type": "stream",
     "text": [
      "TRAIN\n",
      "\n",
      "              precision    recall  f1-score   support\n",
      "\n",
      "           0       1.00      1.00      1.00      3774\n",
      "           1       1.00      1.00      1.00      2952\n",
      "\n",
      "    accuracy                           1.00      6726\n",
      "   macro avg       1.00      1.00      1.00      6726\n",
      "weighted avg       1.00      1.00      1.00      6726\n",
      "\n",
      "TEST\n",
      "\n",
      "              precision    recall  f1-score   support\n",
      "\n",
      "           0       0.84      0.83      0.83      1613\n",
      "           1       0.58      0.59      0.58       637\n",
      "\n",
      "    accuracy                           0.76      2250\n",
      "   macro avg       0.71      0.71      0.71      2250\n",
      "weighted avg       0.76      0.76      0.76      2250\n",
      "\n",
      "CONFUSION MATRIX\n",
      "\n",
      "col_0              0    1\n",
      "Credit Default           \n",
      "0               1344  269\n",
      "1                264  373\n"
     ]
    }
   ],
   "source": [
    "evaluate_preds(model_tree, X_train, X_test, y_train, y_test)"
   ]
  },
  {
   "cell_type": "code",
   "execution_count": 29,
   "metadata": {},
   "outputs": [
    {
     "name": "stdout",
     "output_type": "stream",
     "text": [
      "TRAIN\n",
      "\n",
      "              precision    recall  f1-score   support\n",
      "\n",
      "           0       1.00      1.00      1.00      3774\n",
      "           1       1.00      1.00      1.00      2952\n",
      "\n",
      "    accuracy                           1.00      6726\n",
      "   macro avg       1.00      1.00      1.00      6726\n",
      "weighted avg       1.00      1.00      1.00      6726\n",
      "\n",
      "TEST\n",
      "\n",
      "              precision    recall  f1-score   support\n",
      "\n",
      "           0       0.82      0.97      0.89      1613\n",
      "           1       0.85      0.47      0.60       637\n",
      "\n",
      "    accuracy                           0.83      2250\n",
      "   macro avg       0.84      0.72      0.75      2250\n",
      "weighted avg       0.83      0.83      0.81      2250\n",
      "\n",
      "CONFUSION MATRIX\n",
      "\n",
      "col_0              0    1\n",
      "Credit Default           \n",
      "0               1560   53\n",
      "1                338  299\n"
     ]
    }
   ],
   "source": [
    "evaluate_preds(model_en, X_train, X_test, y_train, y_test)"
   ]
  },
  {
   "cell_type": "code",
   "execution_count": 30,
   "metadata": {},
   "outputs": [
    {
     "name": "stdout",
     "output_type": "stream",
     "text": [
      "TRAIN\n",
      "\n",
      "              precision    recall  f1-score   support\n",
      "\n",
      "           0       1.00      1.00      1.00      3774\n",
      "           1       1.00      1.00      1.00      2952\n",
      "\n",
      "    accuracy                           1.00      6726\n",
      "   macro avg       1.00      1.00      1.00      6726\n",
      "weighted avg       1.00      1.00      1.00      6726\n",
      "\n",
      "TEST\n",
      "\n",
      "              precision    recall  f1-score   support\n",
      "\n",
      "           0       0.84      0.96      0.89      1613\n",
      "           1       0.83      0.52      0.64       637\n",
      "\n",
      "    accuracy                           0.84      2250\n",
      "   macro avg       0.84      0.74      0.77      2250\n",
      "weighted avg       0.84      0.84      0.82      2250\n",
      "\n",
      "CONFUSION MATRIX\n",
      "\n",
      "col_0              0    1\n",
      "Credit Default           \n",
      "0               1547   66\n",
      "1                304  333\n"
     ]
    }
   ],
   "source": [
    "evaluate_preds(model_en2, X_train, X_test, y_train, y_test)"
   ]
  },
  {
   "cell_type": "markdown",
   "metadata": {},
   "source": [
    "## 8. Выбор наилучшей модели, настройка гиперпараметров\n"
   ]
  },
  {
   "cell_type": "markdown",
   "metadata": {},
   "source": [
    "Лучший результат  с параметрами по умолчанию показал случайный лес. Но при этом у него дикое переобучение.\n",
    "\n",
    "Гораздо лучше в этом плане выглядит LogisticRegressionCV f1 score для 1-го класса в районе 0.6.\n",
    "\n",
    "Попробуем подобрать параметры."
   ]
  },
  {
   "cell_type": "code",
   "execution_count": 31,
   "metadata": {},
   "outputs": [
    {
     "name": "stdout",
     "output_type": "stream",
     "text": [
      "Wall time: 15.8 s\n"
     ]
    },
    {
     "data": {
      "text/plain": [
       "GridSearchCV(cv=5, estimator=LogisticRegressionCV(random_state=0),\n",
       "             param_grid=[{'Cs': [1, 5, 10], 'max_iter': [5, 10, 50, 100]}])"
      ]
     },
     "execution_count": 31,
     "metadata": {},
     "output_type": "execute_result"
    }
   ],
   "source": [
    "%%time\n",
    "\n",
    "# линейные модели\n",
    "model = LogisticRegressionCV(random_state=0)\n",
    "\n",
    "param_grid=[{\n",
    "             'max_iter': [5, 10, 50, 100], \n",
    "             'Cs': [1, 5, 10], \n",
    "            }]\n",
    "\n",
    "grid_search = GridSearchCV(model, param_grid, cv=5)\n",
    "grid_search.fit(X_train_norm, y_train)"
   ]
  },
  {
   "cell_type": "code",
   "execution_count": 32,
   "metadata": {},
   "outputs": [
    {
     "data": {
      "text/plain": [
       "{'Cs': 5, 'max_iter': 5}"
      ]
     },
     "execution_count": 32,
     "metadata": {},
     "output_type": "execute_result"
    }
   ],
   "source": [
    "grid_search.best_params_"
   ]
  },
  {
   "cell_type": "code",
   "execution_count": 33,
   "metadata": {},
   "outputs": [
    {
     "name": "stdout",
     "output_type": "stream",
     "text": [
      "TRAIN\n",
      "\n",
      "              precision    recall  f1-score   support\n",
      "\n",
      "           0       0.74      0.90      0.81      3774\n",
      "           1       0.83      0.60      0.69      2952\n",
      "\n",
      "    accuracy                           0.77      6726\n",
      "   macro avg       0.79      0.75      0.75      6726\n",
      "weighted avg       0.78      0.77      0.76      6726\n",
      "\n",
      "TEST\n",
      "\n",
      "              precision    recall  f1-score   support\n",
      "\n",
      "           0       0.88      0.69      0.77      1613\n",
      "           1       0.49      0.76      0.60       637\n",
      "\n",
      "    accuracy                           0.71      2250\n",
      "   macro avg       0.68      0.72      0.68      2250\n",
      "weighted avg       0.77      0.71      0.72      2250\n",
      "\n",
      "CONFUSION MATRIX\n",
      "\n",
      "col_0              0    1\n",
      "Credit Default           \n",
      "0               1113  500\n",
      "1                155  482\n"
     ]
    }
   ],
   "source": [
    "model_final = LogisticRegressionCV(random_state=0, Cs=5, max_iter=5)\n",
    "model_final.fit(X_train_norm, y_train)\n",
    "\n",
    "evaluate_preds(model_final, X_train_norm, X_test_norm, y_train, y_test)"
   ]
  },
  {
   "cell_type": "markdown",
   "metadata": {},
   "source": [
    "## 9. Проверка качества, борьба с переобучением\n"
   ]
  },
  {
   "cell_type": "markdown",
   "metadata": {},
   "source": [
    "Разница train/test сократилась, но модель все еще переобучена.\n",
    "\n",
    "Будем боросться c переобучением сокращением числа признаков."
   ]
  },
  {
   "cell_type": "code",
   "execution_count": 34,
   "metadata": {},
   "outputs": [
    {
     "data": {
      "text/html": [
       "<div>\n",
       "<style scoped>\n",
       "    .dataframe tbody tr th:only-of-type {\n",
       "        vertical-align: middle;\n",
       "    }\n",
       "\n",
       "    .dataframe tbody tr th {\n",
       "        vertical-align: top;\n",
       "    }\n",
       "\n",
       "    .dataframe thead th {\n",
       "        text-align: right;\n",
       "    }\n",
       "</style>\n",
       "<table border=\"1\" class=\"dataframe\">\n",
       "  <thead>\n",
       "    <tr style=\"text-align: right;\">\n",
       "      <th></th>\n",
       "      <th>0</th>\n",
       "      <th>0</th>\n",
       "    </tr>\n",
       "  </thead>\n",
       "  <tbody>\n",
       "    <tr>\n",
       "      <th>0</th>\n",
       "      <td>Annual Income</td>\n",
       "      <td>-0.014974</td>\n",
       "    </tr>\n",
       "    <tr>\n",
       "      <th>1</th>\n",
       "      <td>Number of Open Accounts</td>\n",
       "      <td>-0.007163</td>\n",
       "    </tr>\n",
       "    <tr>\n",
       "      <th>2</th>\n",
       "      <td>Years of Credit History</td>\n",
       "      <td>-0.001826</td>\n",
       "    </tr>\n",
       "    <tr>\n",
       "      <th>3</th>\n",
       "      <td>Maximum Open Credit</td>\n",
       "      <td>-0.241446</td>\n",
       "    </tr>\n",
       "    <tr>\n",
       "      <th>4</th>\n",
       "      <td>Number of Credit Problems</td>\n",
       "      <td>0.044205</td>\n",
       "    </tr>\n",
       "    <tr>\n",
       "      <th>5</th>\n",
       "      <td>Months since last delinquent</td>\n",
       "      <td>-0.163522</td>\n",
       "    </tr>\n",
       "    <tr>\n",
       "      <th>6</th>\n",
       "      <td>Current Loan Amount</td>\n",
       "      <td>-2.293962</td>\n",
       "    </tr>\n",
       "    <tr>\n",
       "      <th>7</th>\n",
       "      <td>Monthly Debt</td>\n",
       "      <td>-0.407687</td>\n",
       "    </tr>\n",
       "    <tr>\n",
       "      <th>8</th>\n",
       "      <td>Credit Score</td>\n",
       "      <td>5.304197</td>\n",
       "    </tr>\n",
       "    <tr>\n",
       "      <th>9</th>\n",
       "      <td>Term Encoded</td>\n",
       "      <td>0.495595</td>\n",
       "    </tr>\n",
       "    <tr>\n",
       "      <th>10</th>\n",
       "      <td>Home Ownership_Have Mortgage</td>\n",
       "      <td>-0.071080</td>\n",
       "    </tr>\n",
       "    <tr>\n",
       "      <th>11</th>\n",
       "      <td>Home Ownership_Home Mortgage</td>\n",
       "      <td>-0.092219</td>\n",
       "    </tr>\n",
       "    <tr>\n",
       "      <th>12</th>\n",
       "      <td>Home Ownership_Own Home</td>\n",
       "      <td>0.011609</td>\n",
       "    </tr>\n",
       "    <tr>\n",
       "      <th>13</th>\n",
       "      <td>Home Ownership_Rent</td>\n",
       "      <td>0.091196</td>\n",
       "    </tr>\n",
       "    <tr>\n",
       "      <th>14</th>\n",
       "      <td>Purpose Encoded_business</td>\n",
       "      <td>0.064536</td>\n",
       "    </tr>\n",
       "    <tr>\n",
       "      <th>15</th>\n",
       "      <td>Purpose Encoded_education</td>\n",
       "      <td>-0.034054</td>\n",
       "    </tr>\n",
       "    <tr>\n",
       "      <th>16</th>\n",
       "      <td>Purpose Encoded_others</td>\n",
       "      <td>-0.055650</td>\n",
       "    </tr>\n",
       "    <tr>\n",
       "      <th>17</th>\n",
       "      <td>Tax Liens Encoded_0-1</td>\n",
       "      <td>0.005310</td>\n",
       "    </tr>\n",
       "    <tr>\n",
       "      <th>18</th>\n",
       "      <td>Tax Liens Encoded_2-5</td>\n",
       "      <td>0.014674</td>\n",
       "    </tr>\n",
       "    <tr>\n",
       "      <th>19</th>\n",
       "      <td>Tax Liens Encoded_6-7</td>\n",
       "      <td>-0.106732</td>\n",
       "    </tr>\n",
       "    <tr>\n",
       "      <th>20</th>\n",
       "      <td>Months since last delinquent - error</td>\n",
       "      <td>-0.187314</td>\n",
       "    </tr>\n",
       "    <tr>\n",
       "      <th>21</th>\n",
       "      <td>New</td>\n",
       "      <td>-0.045307</td>\n",
       "    </tr>\n",
       "    <tr>\n",
       "      <th>22</th>\n",
       "      <td>DebtPercent</td>\n",
       "      <td>0.647568</td>\n",
       "    </tr>\n",
       "    <tr>\n",
       "      <th>23</th>\n",
       "      <td>DebtDiff</td>\n",
       "      <td>0.080326</td>\n",
       "    </tr>\n",
       "  </tbody>\n",
       "</table>\n",
       "</div>"
      ],
      "text/plain": [
       "                                       0         0\n",
       "0                          Annual Income -0.014974\n",
       "1                Number of Open Accounts -0.007163\n",
       "2                Years of Credit History -0.001826\n",
       "3                    Maximum Open Credit -0.241446\n",
       "4              Number of Credit Problems  0.044205\n",
       "5           Months since last delinquent -0.163522\n",
       "6                    Current Loan Amount -2.293962\n",
       "7                           Monthly Debt -0.407687\n",
       "8                           Credit Score  5.304197\n",
       "9                           Term Encoded  0.495595\n",
       "10          Home Ownership_Have Mortgage -0.071080\n",
       "11          Home Ownership_Home Mortgage -0.092219\n",
       "12               Home Ownership_Own Home  0.011609\n",
       "13                   Home Ownership_Rent  0.091196\n",
       "14              Purpose Encoded_business  0.064536\n",
       "15             Purpose Encoded_education -0.034054\n",
       "16                Purpose Encoded_others -0.055650\n",
       "17                 Tax Liens Encoded_0-1  0.005310\n",
       "18                 Tax Liens Encoded_2-5  0.014674\n",
       "19                 Tax Liens Encoded_6-7 -0.106732\n",
       "20  Months since last delinquent - error -0.187314\n",
       "21                                   New -0.045307\n",
       "22                           DebtPercent  0.647568\n",
       "23                              DebtDiff  0.080326"
      ]
     },
     "execution_count": 34,
     "metadata": {},
     "output_type": "execute_result"
    }
   ],
   "source": [
    "coefficients = pd.concat([pd.DataFrame(X_train.columns),pd.DataFrame(np.transpose(model_final.coef_))], axis = 1)\n",
    "coefficients"
   ]
  },
  {
   "cell_type": "markdown",
   "metadata": {},
   "source": [
    "Уберем из модели все признаки имеющие коэффициенты меньше 5/100 по модулю"
   ]
  },
  {
   "cell_type": "code",
   "execution_count": 35,
   "metadata": {},
   "outputs": [],
   "source": [
    "USELESS_FEATURES = USELESS_FEATURES + [\n",
    "    'Number of Open Accounts',\n",
    "    'Years of Credit History',\n",
    "    'Tax Liens Encoded_0-1',\n",
    "    'Annual Income',\n",
    "    'Number of Credit Problems',\n",
    "    'Home Ownership_Own Home',\n",
    "    'Home Ownership_Rent',\n",
    "    'Purpose Encoded_education',\n",
    "    'Tax Liens Encoded_2-5',\n",
    "    'New'\n",
    "]"
   ]
  },
  {
   "cell_type": "markdown",
   "metadata": {},
   "source": [
    "## 10. Интерпретация результатов"
   ]
  },
  {
   "cell_type": "code",
   "execution_count": 36,
   "metadata": {},
   "outputs": [
    {
     "name": "stderr",
     "output_type": "stream",
     "text": [
      "[Parallel(n_jobs=1)]: Using backend SequentialBackend with 1 concurrent workers.\n",
      "[Parallel(n_jobs=1)]: Done 100 out of 100 | elapsed:    0.5s finished\n",
      "[Parallel(n_jobs=1)]: Using backend SequentialBackend with 1 concurrent workers.\n",
      "[Parallel(n_jobs=1)]: Done 100 out of 100 | elapsed:    0.0s finished\n",
      "[Parallel(n_jobs=1)]: Using backend SequentialBackend with 1 concurrent workers.\n",
      "[Parallel(n_jobs=1)]: Done 100 out of 100 | elapsed:    0.6s finished\n",
      "[Parallel(n_jobs=1)]: Using backend SequentialBackend with 1 concurrent workers.\n",
      "[Parallel(n_jobs=1)]: Done 100 out of 100 | elapsed:    0.0s finished\n",
      "[Parallel(n_jobs=1)]: Using backend SequentialBackend with 1 concurrent workers.\n",
      "[Parallel(n_jobs=1)]: Done 100 out of 100 | elapsed:    0.5s finished\n",
      "[Parallel(n_jobs=1)]: Using backend SequentialBackend with 1 concurrent workers.\n",
      "[Parallel(n_jobs=1)]: Done 100 out of 100 | elapsed:    0.0s finished\n",
      "[Parallel(n_jobs=1)]: Using backend SequentialBackend with 1 concurrent workers.\n",
      "[Parallel(n_jobs=1)]: Done 100 out of 100 | elapsed:    0.7s finished\n",
      "[Parallel(n_jobs=1)]: Using backend SequentialBackend with 1 concurrent workers.\n",
      "[Parallel(n_jobs=1)]: Done 100 out of 100 | elapsed:    0.0s finished\n"
     ]
    },
    {
     "name": "stdout",
     "output_type": "stream",
     "text": [
      "TRAIN\n",
      "\n",
      "              precision    recall  f1-score   support\n",
      "\n",
      "           0       0.74      0.91      0.81      3774\n",
      "           1       0.83      0.59      0.69      2952\n",
      "\n",
      "    accuracy                           0.77      6726\n",
      "   macro avg       0.79      0.75      0.75      6726\n",
      "weighted avg       0.78      0.77      0.76      6726\n",
      "\n",
      "TEST\n",
      "\n",
      "              precision    recall  f1-score   support\n",
      "\n",
      "           0       0.88      0.68      0.76      1613\n",
      "           1       0.48      0.76      0.59       637\n",
      "\n",
      "    accuracy                           0.70      2250\n",
      "   macro avg       0.68      0.72      0.68      2250\n",
      "weighted avg       0.76      0.70      0.71      2250\n",
      "\n",
      "CONFUSION MATRIX\n",
      "\n",
      "col_0              0    1\n",
      "Credit Default           \n",
      "0               1091  522\n",
      "1                154  483\n"
     ]
    }
   ],
   "source": [
    "# финальная модель\n",
    "\n",
    "X_train = getFeatures(df_train)\n",
    "y_train = df_train[TARGET_NAME]\n",
    "\n",
    "X_train, y_train = processBalance(X_train, y_train, TARGET_NAME)\n",
    "\n",
    "# создаем копию нормализованных данных\n",
    "scaler = StandardScaler()\n",
    "X_train_norm = X_train.copy()\n",
    "X_train_norm = scaler.fit_transform(X_train_norm)\n",
    "\n",
    "\n",
    "df = df_train_test.copy()\n",
    "df = processNumFeatures(df)\n",
    "df, newFields = processCatFeatures(df)\n",
    "df = processOutlier(df)\n",
    "df = processNan(df)\n",
    "\n",
    "df = addFeatures(df)\n",
    "\n",
    "X_test = df[getFeatures(df_train).columns]\n",
    "y_test = df[TARGET_NAME]\n",
    "\n",
    "# создаем копию нормализованных данных\n",
    "scaler = StandardScaler()\n",
    "X_test_norm = X_test.copy()\n",
    "X_test_norm = scaler.fit_transform(X_test_norm)\n",
    "\n",
    "model_final = LogisticRegressionCV(random_state=0, Cs=5, max_iter=5)\n",
    "model_final.fit(X_train_norm, y_train)\n",
    "\n",
    "evaluate_preds(model_final, X_train_norm, X_test_norm, y_train, y_test)"
   ]
  },
  {
   "cell_type": "code",
   "execution_count": 37,
   "metadata": {},
   "outputs": [
    {
     "data": {
      "text/html": [
       "<div>\n",
       "<style scoped>\n",
       "    .dataframe tbody tr th:only-of-type {\n",
       "        vertical-align: middle;\n",
       "    }\n",
       "\n",
       "    .dataframe tbody tr th {\n",
       "        vertical-align: top;\n",
       "    }\n",
       "\n",
       "    .dataframe thead th {\n",
       "        text-align: right;\n",
       "    }\n",
       "</style>\n",
       "<table border=\"1\" class=\"dataframe\">\n",
       "  <thead>\n",
       "    <tr style=\"text-align: right;\">\n",
       "      <th></th>\n",
       "      <th>0</th>\n",
       "      <th>0</th>\n",
       "    </tr>\n",
       "  </thead>\n",
       "  <tbody>\n",
       "    <tr>\n",
       "      <th>0</th>\n",
       "      <td>Maximum Open Credit</td>\n",
       "      <td>-0.292916</td>\n",
       "    </tr>\n",
       "    <tr>\n",
       "      <th>1</th>\n",
       "      <td>Months since last delinquent</td>\n",
       "      <td>-0.136685</td>\n",
       "    </tr>\n",
       "    <tr>\n",
       "      <th>2</th>\n",
       "      <td>Current Loan Amount</td>\n",
       "      <td>-2.488988</td>\n",
       "    </tr>\n",
       "    <tr>\n",
       "      <th>3</th>\n",
       "      <td>Monthly Debt</td>\n",
       "      <td>-0.432903</td>\n",
       "    </tr>\n",
       "    <tr>\n",
       "      <th>4</th>\n",
       "      <td>Credit Score</td>\n",
       "      <td>5.658639</td>\n",
       "    </tr>\n",
       "    <tr>\n",
       "      <th>5</th>\n",
       "      <td>Term Encoded</td>\n",
       "      <td>0.487849</td>\n",
       "    </tr>\n",
       "    <tr>\n",
       "      <th>6</th>\n",
       "      <td>Home Ownership_Have Mortgage</td>\n",
       "      <td>-0.081035</td>\n",
       "    </tr>\n",
       "    <tr>\n",
       "      <th>7</th>\n",
       "      <td>Home Ownership_Home Mortgage</td>\n",
       "      <td>-0.157365</td>\n",
       "    </tr>\n",
       "    <tr>\n",
       "      <th>8</th>\n",
       "      <td>Purpose Encoded_business</td>\n",
       "      <td>0.148436</td>\n",
       "    </tr>\n",
       "    <tr>\n",
       "      <th>9</th>\n",
       "      <td>Purpose Encoded_others</td>\n",
       "      <td>0.052365</td>\n",
       "    </tr>\n",
       "    <tr>\n",
       "      <th>10</th>\n",
       "      <td>Tax Liens Encoded_6-7</td>\n",
       "      <td>-0.115211</td>\n",
       "    </tr>\n",
       "    <tr>\n",
       "      <th>11</th>\n",
       "      <td>Months since last delinquent - error</td>\n",
       "      <td>-0.174896</td>\n",
       "    </tr>\n",
       "    <tr>\n",
       "      <th>12</th>\n",
       "      <td>DebtPercent</td>\n",
       "      <td>0.660701</td>\n",
       "    </tr>\n",
       "    <tr>\n",
       "      <th>13</th>\n",
       "      <td>DebtDiff</td>\n",
       "      <td>0.080610</td>\n",
       "    </tr>\n",
       "  </tbody>\n",
       "</table>\n",
       "</div>"
      ],
      "text/plain": [
       "                                       0         0\n",
       "0                    Maximum Open Credit -0.292916\n",
       "1           Months since last delinquent -0.136685\n",
       "2                    Current Loan Amount -2.488988\n",
       "3                           Monthly Debt -0.432903\n",
       "4                           Credit Score  5.658639\n",
       "5                           Term Encoded  0.487849\n",
       "6           Home Ownership_Have Mortgage -0.081035\n",
       "7           Home Ownership_Home Mortgage -0.157365\n",
       "8               Purpose Encoded_business  0.148436\n",
       "9                 Purpose Encoded_others  0.052365\n",
       "10                 Tax Liens Encoded_6-7 -0.115211\n",
       "11  Months since last delinquent - error -0.174896\n",
       "12                           DebtPercent  0.660701\n",
       "13                              DebtDiff  0.080610"
      ]
     },
     "execution_count": 37,
     "metadata": {},
     "output_type": "execute_result"
    }
   ],
   "source": [
    "coefficients = pd.concat([pd.DataFrame(X_train.columns),pd.DataFrame(np.transpose(model_final.coef_))], axis = 1)\n",
    "coefficients"
   ]
  },
  {
   "cell_type": "markdown",
   "metadata": {},
   "source": [
    "Наиболее важным оказался признак \"Credit Score\", по всей видимости он аггрегирует в себе все остальные признаки.\n",
    "\n",
    "Плохая точность предсказаний 1-го класса связана с плохой балансировкой классов.\n",
    "\n",
    "Модель можно будет использовать лишь задав более мягкий порог отнесения к первому классу, в этом случае мы в ущерб precision получим хороший recall."
   ]
  },
  {
   "cell_type": "markdown",
   "metadata": {},
   "source": [
    "## 11. Формирование предсказания"
   ]
  },
  {
   "cell_type": "code",
   "execution_count": 38,
   "metadata": {},
   "outputs": [
    {
     "name": "stderr",
     "output_type": "stream",
     "text": [
      "[Parallel(n_jobs=1)]: Using backend SequentialBackend with 1 concurrent workers.\n",
      "[Parallel(n_jobs=1)]: Done 100 out of 100 | elapsed:    0.6s finished\n",
      "[Parallel(n_jobs=1)]: Using backend SequentialBackend with 1 concurrent workers.\n",
      "[Parallel(n_jobs=1)]: Done 100 out of 100 | elapsed:    0.0s finished\n",
      "[Parallel(n_jobs=1)]: Using backend SequentialBackend with 1 concurrent workers.\n",
      "[Parallel(n_jobs=1)]: Done 100 out of 100 | elapsed:    0.7s finished\n",
      "[Parallel(n_jobs=1)]: Using backend SequentialBackend with 1 concurrent workers.\n",
      "[Parallel(n_jobs=1)]: Done 100 out of 100 | elapsed:    0.0s finished\n",
      "[Parallel(n_jobs=1)]: Using backend SequentialBackend with 1 concurrent workers.\n",
      "[Parallel(n_jobs=1)]: Done 100 out of 100 | elapsed:    0.7s finished\n",
      "[Parallel(n_jobs=1)]: Using backend SequentialBackend with 1 concurrent workers.\n",
      "[Parallel(n_jobs=1)]: Done 100 out of 100 | elapsed:    0.0s finished\n",
      "[Parallel(n_jobs=1)]: Using backend SequentialBackend with 1 concurrent workers.\n",
      "[Parallel(n_jobs=1)]: Done 100 out of 100 | elapsed:    0.7s finished\n",
      "[Parallel(n_jobs=1)]: Using backend SequentialBackend with 1 concurrent workers.\n",
      "[Parallel(n_jobs=1)]: Done 100 out of 100 | elapsed:    0.0s finished\n"
     ]
    },
    {
     "data": {
      "text/html": [
       "<div>\n",
       "<style scoped>\n",
       "    .dataframe tbody tr th:only-of-type {\n",
       "        vertical-align: middle;\n",
       "    }\n",
       "\n",
       "    .dataframe tbody tr th {\n",
       "        vertical-align: top;\n",
       "    }\n",
       "\n",
       "    .dataframe thead th {\n",
       "        text-align: right;\n",
       "    }\n",
       "</style>\n",
       "<table border=\"1\" class=\"dataframe\">\n",
       "  <thead>\n",
       "    <tr style=\"text-align: right;\">\n",
       "      <th></th>\n",
       "      <th>Id</th>\n",
       "      <th>Credit Default</th>\n",
       "    </tr>\n",
       "  </thead>\n",
       "  <tbody>\n",
       "    <tr>\n",
       "      <th>0</th>\n",
       "      <td>0</td>\n",
       "      <td>1</td>\n",
       "    </tr>\n",
       "    <tr>\n",
       "      <th>1</th>\n",
       "      <td>1</td>\n",
       "      <td>0</td>\n",
       "    </tr>\n",
       "    <tr>\n",
       "      <th>2</th>\n",
       "      <td>2</td>\n",
       "      <td>1</td>\n",
       "    </tr>\n",
       "    <tr>\n",
       "      <th>3</th>\n",
       "      <td>3</td>\n",
       "      <td>0</td>\n",
       "    </tr>\n",
       "    <tr>\n",
       "      <th>4</th>\n",
       "      <td>4</td>\n",
       "      <td>0</td>\n",
       "    </tr>\n",
       "  </tbody>\n",
       "</table>\n",
       "</div>"
      ],
      "text/plain": [
       "   Id  Credit Default\n",
       "0   0               1\n",
       "1   1               0\n",
       "2   2               1\n",
       "3   3               0\n",
       "4   4               0"
      ]
     },
     "execution_count": 38,
     "metadata": {},
     "output_type": "execute_result"
    }
   ],
   "source": [
    "df_test = df_test_orig.copy()\n",
    "df_test = processNumFeatures(df_test)\n",
    "df_test, newFields = processCatFeatures(df_test)\n",
    "df_test = processOutlier(df_test)\n",
    "df_test = processNan(df_test)\n",
    "df_test = addFeatures(df_test)\n",
    "\n",
    "# создаем копию нормализованных данных\n",
    "scaler = StandardScaler()\n",
    "df_test_norm = df_test.copy()\n",
    "df_test_norm = df_test_norm[getFeatures(df_train).columns]\n",
    "df_test_norm = scaler.fit_transform(df_test_norm)\n",
    "\n",
    "predictions = model_final.predict(df_test_norm)\n",
    "\n",
    "df_submit['Credit Default'] = predictions\n",
    "df_submit.head()"
   ]
  },
  {
   "cell_type": "code",
   "execution_count": 39,
   "metadata": {},
   "outputs": [],
   "source": [
    "df_submit.to_csv('v1_submit.csv', index=False)"
   ]
  },
  {
   "cell_type": "code",
   "execution_count": null,
   "metadata": {},
   "outputs": [],
   "source": []
  }
 ],
 "metadata": {
  "kernelspec": {
   "display_name": "Python 3",
   "language": "python",
   "name": "python3"
  },
  "language_info": {
   "codemirror_mode": {
    "name": "ipython",
    "version": 3
   },
   "file_extension": ".py",
   "mimetype": "text/x-python",
   "name": "python",
   "nbconvert_exporter": "python",
   "pygments_lexer": "ipython3",
   "version": "3.8.3"
  }
 },
 "nbformat": 4,
 "nbformat_minor": 4
}
