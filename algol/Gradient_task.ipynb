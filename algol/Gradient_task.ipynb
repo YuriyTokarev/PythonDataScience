{
 "cells": [
  {
   "cell_type": "markdown",
   "metadata": {},
   "source": [
    "#### Задание 1\n",
    "\n",
    "*Сгенерировать датасет при помощи sklearn.datasets.make_regression и обучить линейную модель при помощи градиентного и стохастического градиентного спуска. Нанести среднеквадратичную ошибку для обоих методов на один график, сделать выводы о разнице скорости сходимости каждого из методов.*\n",
    "\n",
    "----"
   ]
  },
  {
   "cell_type": "code",
   "execution_count": 1,
   "metadata": {},
   "outputs": [
    {
     "data": {
      "text/plain": [
       "((3, 1000), (1000,))"
      ]
     },
     "execution_count": 1,
     "metadata": {},
     "output_type": "execute_result"
    }
   ],
   "source": [
    "import warnings\n",
    "import numpy as np\n",
    "import matplotlib.pyplot as plt\n",
    "import sklearn.datasets as datasets\n",
    "\n",
    "warnings.simplefilter(\"ignore\")\n",
    "\n",
    "# сгенерируем набор данных\n",
    "data, y, coef = datasets.make_regression(n_samples=1000, n_features = 3, n_targets = 1, \n",
    "                                              noise = 20, coef = True, random_state = 27)\n",
    "\n",
    "# Отмасштабируем данные методом стандартизации\n",
    "means = np.mean(data, axis=0)\n",
    "stds = np.std(data, axis=0)\n",
    "for i in range(data.shape[0]):\n",
    "    for j in range(data.shape[1]):\n",
    "        data[i][j] = (data[i][j] - means[j])/stds[j]\n",
    "\n",
    "X = data.T # транспонируем, чтобы было удобно использовать в коде регрессии\n",
    "\n",
    "# шлобальное ограничение по иттер\n",
    "max_iter = 1e5\n",
    "\n",
    "# критерий сходимости\n",
    "min_err_dist = 1e-3\n",
    "\n",
    "# Скорость обучения\n",
    "learning_rate = 0.01\n",
    "\n",
    "X.shape, y.shape"
   ]
  },
  {
   "cell_type": "code",
   "execution_count": 2,
   "metadata": {},
   "outputs": [],
   "source": [
    "def calc_mse(y, y_pred):\n",
    "    err = np.mean((y - y_pred)**2)\n",
    "    return err"
   ]
  },
  {
   "cell_type": "code",
   "execution_count": 3,
   "metadata": {},
   "outputs": [
    {
     "name": "stdout",
     "output_type": "stream",
     "text": [
      "В случае использования градиентного спуска функционал ошибки составляет 412.1086208064117\n",
      "В случае использования градиентного спуска потребовалось итераций 350\n",
      "[90.60451665 22.52224517 94.8895097 ]\n"
     ]
    }
   ],
   "source": [
    "err_dist = err_pred = np.inf # зададим начальную разницу весов большим числом\n",
    "iter_num = 0 # счетчик итераций\n",
    "\n",
    "# Сначала метод градиентного спуска\n",
    "W = np.zeros(X.shape[0])\n",
    "# сюда будем складывать ошибки\n",
    "gradient_errs = []\n",
    "\n",
    "while err_dist > min_err_dist and iter_num < max_iter:\n",
    "    y_pred = np.dot(W, X)\n",
    "    err = calc_mse(y, y_pred)\n",
    "    W = W - 2*learning_rate*np.sum(X*(y_pred - y), axis=1)/len(y_pred)\n",
    "    \n",
    "    err_dist = np.abs(err_pred - err) # критерий останова\n",
    "    err_pred = err\n",
    "    iter_num += 1\n",
    "    \n",
    "    gradient_errs.append(err)\n",
    "\n",
    "print(f'В случае использования градиентного спуска функционал ошибки составляет {err}')\n",
    "print(f'В случае использования градиентного спуска потребовалось итераций {iter_num}')\n",
    "print(W)"
   ]
  },
  {
   "cell_type": "code",
   "execution_count": 4,
   "metadata": {},
   "outputs": [
    {
     "name": "stdout",
     "output_type": "stream",
     "text": [
      "В случае использования стохастического градиентного спуска функционал ошибки составляет 412.5047116995002\n",
      "В случае использования стохастического градиентного спуска потребовалось итераций 520\n",
      "[91.29443514 22.70296919 94.96821149]\n"
     ]
    }
   ],
   "source": [
    "err_dist = err_pred = np.inf # зададим начальную разницу весов большим числом\n",
    "iter_num = 0 # счетчик итераций\n",
    "\n",
    "# Теперь методом стохастического градиентного спуска\n",
    "W = np.zeros(X.shape[0])\n",
    "# сюда будем складывать ошибки\n",
    "stoh_errs = []\n",
    "\n",
    "while err_dist > min_err_dist and iter_num < max_iter:\n",
    "    y_pred = np.dot(W, X)\n",
    "    err = calc_mse(y, y_pred)\n",
    "    \n",
    "    train_ind = np.random.randint(data.shape[0])    \n",
    "    W = W - 2*learning_rate*np.dot(data[train_ind].T, (np.dot(data[train_ind], W) - y[train_ind]))\n",
    "    \n",
    "    err_dist = np.abs(err_pred - err) # критерий останова\n",
    "    err_pred = err\n",
    "    iter_num += 1\n",
    "    \n",
    "    stoh_errs.append(err)\n",
    "\n",
    "print(f'В случае использования стохастического градиентного спуска функционал ошибки составляет {err}')\n",
    "print(f'В случае использования стохастического градиентного спуска потребовалось итераций {iter_num}')\n",
    "print(W)"
   ]
  },
  {
   "cell_type": "code",
   "execution_count": 5,
   "metadata": {},
   "outputs": [
    {
     "data": {
      "text/plain": [
       "Text(0, 0.5, 'MSE')"
      ]
     },
     "execution_count": 5,
     "metadata": {},
     "output_type": "execute_result"
    },
    {
     "data": {
      "image/png": "[encoded data removed]",
      "text/plain": [
       "<Figure size 432x288 with 1 Axes>"
      ]
     },
     "metadata": {
      "needs_background": "light"
     },
     "output_type": "display_data"
    }
   ],
   "source": [
    "# Визуализируем изменение функционала ошибки\n",
    "plt.plot(range(len(gradient_errs)), gradient_errs, c='red')\n",
    "plt.plot(range(len(stoh_errs)), stoh_errs, c='green')\n",
    "plt.title('MSE')\n",
    "plt.xlabel('Iteration number')\n",
    "plt.ylabel('MSE')"
   ]
  },
  {
   "cell_type": "markdown",
   "metadata": {},
   "source": [
    "График показывает, что стохастический и градиентный спуск пришли к минимуму примерно за одинаковое время, но градиент спуск дал более точный результат."
   ]
  },
  {
   "cell_type": "markdown",
   "metadata": {},
   "source": [
    "----\n",
    "#### Задание 2\n",
    "\n",
    "*Модифицировать решение первого задания путем добавления 𝐿2 -регуляризации (в функцию, считающую MSE, нужно добавить норму вектора весов) и сравнить результаты.*\n",
    "\n",
    "----"
   ]
  },
  {
   "cell_type": "code",
   "execution_count": 6,
   "metadata": {},
   "outputs": [],
   "source": [
    "regCoef = 0.005 # коэффициент регуляризации"
   ]
  },
  {
   "cell_type": "code",
   "execution_count": 7,
   "metadata": {},
   "outputs": [
    {
     "name": "stdout",
     "output_type": "stream",
     "text": [
      "В случае использования градиентного спуска функционал ошибки составляет 413.91759895330773\n",
      "В случае использования градиентного спуска потребовалось итераций 453\n",
      "[89.76880624 22.35463556 94.01123313]\n"
     ]
    }
   ],
   "source": [
    "err_dist = err_pred = np.inf # зададим начальную разницу весов большим числом\n",
    "iter_num = 0 # счетчик итераций\n",
    "\n",
    "# Сначала метод градиентного спуска\n",
    "W = np.zeros(X.shape[0])\n",
    "# сюда будем складывать ошибки\n",
    "gradient_errs = []\n",
    "\n",
    "while err_dist > min_err_dist and iter_num < max_iter:\n",
    "    y_pred = np.dot(W, X)\n",
    "    err = calc_mse(y, y_pred)\n",
    "    W = W - 2*learning_rate*(np.sum(X*(y_pred - y), axis=1)/len(y_pred) + 2 * regCoef * W)\n",
    "    \n",
    "    err_dist = np.abs(err_pred - err) # критерий останова\n",
    "    err_pred = err\n",
    "    iter_num += 1\n",
    "    \n",
    "    gradient_errs.append(err)\n",
    "\n",
    "print(f'В случае использования градиентного спуска функционал ошибки составляет {err}')\n",
    "print(f'В случае использования градиентного спуска потребовалось итераций {iter_num}')\n",
    "print(W)"
   ]
  },
  {
   "cell_type": "code",
   "execution_count": 8,
   "metadata": {},
   "outputs": [
    {
     "name": "stdout",
     "output_type": "stream",
     "text": [
      "В случае использования стохастического градиентного спуска функционал ошибки составляет 414.5903134972055\n",
      "В случае использования стохастического градиентного спуска потребовалось итераций 1182\n",
      "[90.92415645 21.05682947 94.3572598 ]\n"
     ]
    }
   ],
   "source": [
    "err_dist = err_pred = np.inf # зададим начальную разницу весов большим числом\n",
    "iter_num = 0 # счетчик итераций\n",
    "\n",
    "# Теперь методом стохастического градиентного спуска\n",
    "W = np.zeros(X.shape[0])\n",
    "# сюда будем складывать ошибки\n",
    "stoh_errs = []\n",
    "\n",
    "while err_dist > min_err_dist and iter_num < max_iter:\n",
    "    y_pred = np.dot(W, X)\n",
    "    err = calc_mse(y, y_pred)\n",
    "    \n",
    "    train_ind = np.random.randint(data.shape[0])    \n",
    "    W = W - 2*learning_rate*(np.dot(data[train_ind].T, (np.dot(data[train_ind], W) - y[train_ind])) + 2 * regCoef * W)\n",
    "    \n",
    "    err_dist = np.abs(err_pred - err) # критерий останова\n",
    "    err_pred = err\n",
    "    iter_num += 1\n",
    "    \n",
    "    stoh_errs.append(err)\n",
    "\n",
    "print(f'В случае использования стохастического градиентного спуска функционал ошибки составляет {err}')\n",
    "print(f'В случае использования стохастического градиентного спуска потребовалось итераций {iter_num}')\n",
    "print(W)"
   ]
  },
  {
   "cell_type": "code",
   "execution_count": 9,
   "metadata": {},
   "outputs": [
    {
     "data": {
      "text/plain": [
       "Text(0, 0.5, 'MSE')"
      ]
     },
     "execution_count": 9,
     "metadata": {},
     "output_type": "execute_result"
    },
    {
     "data": {
      "image/png": "[encoded data removed]",
      "text/plain": [
       "<Figure size 432x288 with 1 Axes>"
      ]
     },
     "metadata": {
      "needs_background": "light"
     },
     "output_type": "display_data"
    }
   ],
   "source": [
    "# Визуализируем изменение функционала ошибки\n",
    "plt.plot(range(len(gradient_errs)), gradient_errs, c='red', label=\"Gradient\")\n",
    "plt.plot(range(len(stoh_errs)), stoh_errs, c='green', label=\"Stohastic Gradient\")\n",
    "plt.title('MSE')\n",
    "plt.xlabel('Iteration number')\n",
    "plt.ylabel('MSE')"
   ]
  },
  {
   "cell_type": "markdown",
   "metadata": {},
   "source": [
    "L2 регуляризация сделала стохастичский спуск более гладким.\n",
    "\n",
    "Но только при определенном коэффициенте регуляризации. При более низком он практически не влиял на результат, а при более высоком приводил к расхождению."
   ]
  },
  {
   "cell_type": "markdown",
   "metadata": {},
   "source": [
    "----\n",
    "#### Задание 3\n",
    "*Модернизировать решение задания 2, заменив L2 регуляризацию на L1 регуляризацию.*\n",
    "\n",
    "----"
   ]
  },
  {
   "cell_type": "code",
   "execution_count": 10,
   "metadata": {},
   "outputs": [
    {
     "name": "stdout",
     "output_type": "stream",
     "text": [
      "В случае использования градиентного спуска функционал ошибки составляет 412.10951505098643\n",
      "В случае использования градиентного спуска потребовалось итераций 351\n",
      "[90.60164958 22.51703936 94.88657932]\n"
     ]
    }
   ],
   "source": [
    "err_dist = err_pred = np.inf # зададим начальную разницу весов большим числом\n",
    "iter_num = 0 # счетчик итераций\n",
    "\n",
    "# Сначала метод градиентного спуска\n",
    "W = np.zeros(X.shape[0])\n",
    "# сюда будем складывать ошибки\n",
    "gradient_errs = []\n",
    "\n",
    "while err_dist > min_err_dist and iter_num < max_iter:\n",
    "    y_pred = np.dot(W, X)\n",
    "    err = calc_mse(y, y_pred)\n",
    "    W = W - 2*learning_rate*(np.sum(X*(y_pred - y), axis=1)/len(y_pred) + regCoef * np.sign(W))\n",
    "    \n",
    "    err_dist = np.abs(err_pred - err) # критерий останова\n",
    "    err_pred = err\n",
    "    iter_num += 1\n",
    "    \n",
    "    gradient_errs.append(err)\n",
    "\n",
    "print(f'В случае использования градиентного спуска функционал ошибки составляет {err}')\n",
    "print(f'В случае использования градиентного спуска потребовалось итераций {iter_num}')\n",
    "print(W)"
   ]
  },
  {
   "cell_type": "code",
   "execution_count": 11,
   "metadata": {},
   "outputs": [
    {
     "name": "stdout",
     "output_type": "stream",
     "text": [
      "В случае использования стохастического градиентного спуска функционал ошибки составляет 416.39351509430674\n",
      "В случае использования стохастического градиентного спуска потребовалось итераций 533\n",
      "[90.03204836 24.87145605 95.11205966]\n"
     ]
    }
   ],
   "source": [
    "err_dist = err_pred = np.inf # зададим начальную разницу весов большим числом\n",
    "iter_num = 0 # счетчик итераций\n",
    "\n",
    "# Теперь методом стохастического градиентного спуска\n",
    "W = np.zeros(X.shape[0])\n",
    "# сюда будем складывать ошибки\n",
    "stoh_errs = []\n",
    "\n",
    "while err_dist > min_err_dist and iter_num < max_iter:\n",
    "    y_pred = np.dot(W, X)\n",
    "    err = calc_mse(y, y_pred)\n",
    "    \n",
    "    train_ind = np.random.randint(data.shape[0])    \n",
    "    W = W - 2*learning_rate*(np.dot(data[train_ind].T, (np.dot(data[train_ind], W) - y[train_ind])) + regCoef * np.sign(W))\n",
    "    \n",
    "    err_dist = np.abs(err_pred - err) # критерий останова\n",
    "    err_pred = err\n",
    "    iter_num += 1\n",
    "    \n",
    "    stoh_errs.append(err)\n",
    "\n",
    "print(f'В случае использования стохастического градиентного спуска функционал ошибки составляет {err}')\n",
    "print(f'В случае использования стохастического градиентного спуска потребовалось итераций {iter_num}')\n",
    "print(W)"
   ]
  },
  {
   "cell_type": "code",
   "execution_count": 12,
   "metadata": {},
   "outputs": [
    {
     "data": {
      "text/plain": [
       "Text(0, 0.5, 'MSE')"
      ]
     },
     "execution_count": 12,
     "metadata": {},
     "output_type": "execute_result"
    },
    {
     "data": {
      "image/png": "[encoded data removed]",
      "text/plain": [
       "<Figure size 432x288 with 1 Axes>"
      ]
     },
     "metadata": {
      "needs_background": "light"
     },
     "output_type": "display_data"
    }
   ],
   "source": [
    "# Визуализируем изменение функционала ошибки\n",
    "plt.plot(range(len(gradient_errs)), gradient_errs, c='red')\n",
    "plt.plot(range(len(stoh_errs)), stoh_errs, c='green')\n",
    "plt.title('MSE')\n",
    "plt.xlabel('Iteration number')\n",
    "plt.ylabel('MSE')"
   ]
  },
  {
   "cell_type": "markdown",
   "metadata": {},
   "source": [
    "L1 регуляризация при том же коэффициенте регуляризации дает меньший эффект.\n",
    "\n",
    "Коэффициенты на данной выборке существенно не изменились."
   ]
  }
 ],
 "metadata": {
  "kernelspec": {
   "display_name": "Python 3",
   "language": "python",
   "name": "python3"
  },
  "language_info": {
   "codemirror_mode": {
    "name": "ipython",
    "version": 3
   },
   "file_extension": ".py",
   "mimetype": "text/x-python",
   "name": "python",
   "nbconvert_exporter": "python",
   "pygments_lexer": "ipython3",
   "version": "3.8.3"
  }
 },
 "nbformat": 4,
 "nbformat_minor": 4
}
